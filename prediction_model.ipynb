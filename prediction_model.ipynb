{
 "metadata": {
  "language_info": {
   "codemirror_mode": {
    "name": "ipython",
    "version": 3
   },
   "file_extension": ".py",
   "mimetype": "text/x-python",
   "name": "python",
   "nbconvert_exporter": "python",
   "pygments_lexer": "ipython3",
   "version": "3.6.13"
  },
  "orig_nbformat": 2,
  "kernelspec": {
   "name": "python3613jvsc74a57bd021df4bf8aa744819da7029291a170c301aca2ae776ef79a33d4b0d42fed7be0e",
   "display_name": "Python 3.6.13 64-bit ('PythonAdv': conda)"
  }
 },
 "nbformat": 4,
 "nbformat_minor": 2,
 "cells": [
  {
   "cell_type": "code",
   "execution_count": 21,
   "metadata": {},
   "outputs": [],
   "source": [
    "import os  \n",
    "import numpy as np\n",
    "import pandas as pd\n",
    "import matplotlib.pyplot as plt\n",
    "import seaborn as sns\n",
    "from sklearn.pipeline import Pipeline\n",
    "from sklearn.preprocessing import StandardScaler\n",
    "from sklearn.preprocessing import OneHotEncoder\n",
    "from sklearn.model_selection import cross_val_score\n",
    "from sklearn.model_selection import KFold\n",
    "from sklearn.compose import ColumnTransformer\n",
    "from sklearn.svm import SVR"
   ]
  },
  {
   "cell_type": "code",
   "execution_count": 2,
   "metadata": {},
   "outputs": [
    {
     "output_type": "execute_result",
     "data": {
      "text/plain": [
       "      Age Attrition     BusinessTravel  DailyRate              Department  \\\n",
       "0      41       Yes      Travel_Rarely       1102                   Sales   \n",
       "1      49        No  Travel_Frequently        279  Research & Development   \n",
       "2      37       Yes      Travel_Rarely       1373  Research & Development   \n",
       "3      33        No  Travel_Frequently       1392  Research & Development   \n",
       "4      27        No      Travel_Rarely        591  Research & Development   \n",
       "...   ...       ...                ...        ...                     ...   \n",
       "1465   36        No  Travel_Frequently        884  Research & Development   \n",
       "1466   39        No      Travel_Rarely        613  Research & Development   \n",
       "1467   27        No      Travel_Rarely        155  Research & Development   \n",
       "1468   49        No  Travel_Frequently       1023                   Sales   \n",
       "1469   34        No      Travel_Rarely        628  Research & Development   \n",
       "\n",
       "      DistanceFromHome  Education EducationField  EmployeeCount  \\\n",
       "0                    1          2  Life Sciences              1   \n",
       "1                    8          1  Life Sciences              1   \n",
       "2                    2          2          Other              1   \n",
       "3                    3          4  Life Sciences              1   \n",
       "4                    2          1        Medical              1   \n",
       "...                ...        ...            ...            ...   \n",
       "1465                23          2        Medical              1   \n",
       "1466                 6          1        Medical              1   \n",
       "1467                 4          3  Life Sciences              1   \n",
       "1468                 2          3        Medical              1   \n",
       "1469                 8          3        Medical              1   \n",
       "\n",
       "      EmployeeNumber  ...  RelationshipSatisfaction StandardHours  \\\n",
       "0                  1  ...                         1            80   \n",
       "1                  2  ...                         4            80   \n",
       "2                  4  ...                         2            80   \n",
       "3                  5  ...                         3            80   \n",
       "4                  7  ...                         4            80   \n",
       "...              ...  ...                       ...           ...   \n",
       "1465            2061  ...                         3            80   \n",
       "1466            2062  ...                         1            80   \n",
       "1467            2064  ...                         2            80   \n",
       "1468            2065  ...                         4            80   \n",
       "1469            2068  ...                         1            80   \n",
       "\n",
       "      StockOptionLevel  TotalWorkingYears  TrainingTimesLastYear  \\\n",
       "0                    0                  8                      0   \n",
       "1                    1                 10                      3   \n",
       "2                    0                  7                      3   \n",
       "3                    0                  8                      3   \n",
       "4                    1                  6                      3   \n",
       "...                ...                ...                    ...   \n",
       "1465                 1                 17                      3   \n",
       "1466                 1                  9                      5   \n",
       "1467                 1                  6                      0   \n",
       "1468                 0                 17                      3   \n",
       "1469                 0                  6                      3   \n",
       "\n",
       "     WorkLifeBalance  YearsAtCompany YearsInCurrentRole  \\\n",
       "0                  1               6                  4   \n",
       "1                  3              10                  7   \n",
       "2                  3               0                  0   \n",
       "3                  3               8                  7   \n",
       "4                  3               2                  2   \n",
       "...              ...             ...                ...   \n",
       "1465               3               5                  2   \n",
       "1466               3               7                  7   \n",
       "1467               3               6                  2   \n",
       "1468               2               9                  6   \n",
       "1469               4               4                  3   \n",
       "\n",
       "      YearsSinceLastPromotion  YearsWithCurrManager  \n",
       "0                           0                     5  \n",
       "1                           1                     7  \n",
       "2                           0                     0  \n",
       "3                           3                     0  \n",
       "4                           2                     2  \n",
       "...                       ...                   ...  \n",
       "1465                        0                     3  \n",
       "1466                        1                     7  \n",
       "1467                        0                     3  \n",
       "1468                        0                     8  \n",
       "1469                        1                     2  \n",
       "\n",
       "[1470 rows x 35 columns]"
      ],
      "text/html": "<div>\n<style scoped>\n    .dataframe tbody tr th:only-of-type {\n        vertical-align: middle;\n    }\n\n    .dataframe tbody tr th {\n        vertical-align: top;\n    }\n\n    .dataframe thead th {\n        text-align: right;\n    }\n</style>\n<table border=\"1\" class=\"dataframe\">\n  <thead>\n    <tr style=\"text-align: right;\">\n      <th></th>\n      <th>Age</th>\n      <th>Attrition</th>\n      <th>BusinessTravel</th>\n      <th>DailyRate</th>\n      <th>Department</th>\n      <th>DistanceFromHome</th>\n      <th>Education</th>\n      <th>EducationField</th>\n      <th>EmployeeCount</th>\n      <th>EmployeeNumber</th>\n      <th>...</th>\n      <th>RelationshipSatisfaction</th>\n      <th>StandardHours</th>\n      <th>StockOptionLevel</th>\n      <th>TotalWorkingYears</th>\n      <th>TrainingTimesLastYear</th>\n      <th>WorkLifeBalance</th>\n      <th>YearsAtCompany</th>\n      <th>YearsInCurrentRole</th>\n      <th>YearsSinceLastPromotion</th>\n      <th>YearsWithCurrManager</th>\n    </tr>\n  </thead>\n  <tbody>\n    <tr>\n      <th>0</th>\n      <td>41</td>\n      <td>Yes</td>\n      <td>Travel_Rarely</td>\n      <td>1102</td>\n      <td>Sales</td>\n      <td>1</td>\n      <td>2</td>\n      <td>Life Sciences</td>\n      <td>1</td>\n      <td>1</td>\n      <td>...</td>\n      <td>1</td>\n      <td>80</td>\n      <td>0</td>\n      <td>8</td>\n      <td>0</td>\n      <td>1</td>\n      <td>6</td>\n      <td>4</td>\n      <td>0</td>\n      <td>5</td>\n    </tr>\n    <tr>\n      <th>1</th>\n      <td>49</td>\n      <td>No</td>\n      <td>Travel_Frequently</td>\n      <td>279</td>\n      <td>Research &amp; Development</td>\n      <td>8</td>\n      <td>1</td>\n      <td>Life Sciences</td>\n      <td>1</td>\n      <td>2</td>\n      <td>...</td>\n      <td>4</td>\n      <td>80</td>\n      <td>1</td>\n      <td>10</td>\n      <td>3</td>\n      <td>3</td>\n      <td>10</td>\n      <td>7</td>\n      <td>1</td>\n      <td>7</td>\n    </tr>\n    <tr>\n      <th>2</th>\n      <td>37</td>\n      <td>Yes</td>\n      <td>Travel_Rarely</td>\n      <td>1373</td>\n      <td>Research &amp; Development</td>\n      <td>2</td>\n      <td>2</td>\n      <td>Other</td>\n      <td>1</td>\n      <td>4</td>\n      <td>...</td>\n      <td>2</td>\n      <td>80</td>\n      <td>0</td>\n      <td>7</td>\n      <td>3</td>\n      <td>3</td>\n      <td>0</td>\n      <td>0</td>\n      <td>0</td>\n      <td>0</td>\n    </tr>\n    <tr>\n      <th>3</th>\n      <td>33</td>\n      <td>No</td>\n      <td>Travel_Frequently</td>\n      <td>1392</td>\n      <td>Research &amp; Development</td>\n      <td>3</td>\n      <td>4</td>\n      <td>Life Sciences</td>\n      <td>1</td>\n      <td>5</td>\n      <td>...</td>\n      <td>3</td>\n      <td>80</td>\n      <td>0</td>\n      <td>8</td>\n      <td>3</td>\n      <td>3</td>\n      <td>8</td>\n      <td>7</td>\n      <td>3</td>\n      <td>0</td>\n    </tr>\n    <tr>\n      <th>4</th>\n      <td>27</td>\n      <td>No</td>\n      <td>Travel_Rarely</td>\n      <td>591</td>\n      <td>Research &amp; Development</td>\n      <td>2</td>\n      <td>1</td>\n      <td>Medical</td>\n      <td>1</td>\n      <td>7</td>\n      <td>...</td>\n      <td>4</td>\n      <td>80</td>\n      <td>1</td>\n      <td>6</td>\n      <td>3</td>\n      <td>3</td>\n      <td>2</td>\n      <td>2</td>\n      <td>2</td>\n      <td>2</td>\n    </tr>\n    <tr>\n      <th>...</th>\n      <td>...</td>\n      <td>...</td>\n      <td>...</td>\n      <td>...</td>\n      <td>...</td>\n      <td>...</td>\n      <td>...</td>\n      <td>...</td>\n      <td>...</td>\n      <td>...</td>\n      <td>...</td>\n      <td>...</td>\n      <td>...</td>\n      <td>...</td>\n      <td>...</td>\n      <td>...</td>\n      <td>...</td>\n      <td>...</td>\n      <td>...</td>\n      <td>...</td>\n      <td>...</td>\n    </tr>\n    <tr>\n      <th>1465</th>\n      <td>36</td>\n      <td>No</td>\n      <td>Travel_Frequently</td>\n      <td>884</td>\n      <td>Research &amp; Development</td>\n      <td>23</td>\n      <td>2</td>\n      <td>Medical</td>\n      <td>1</td>\n      <td>2061</td>\n      <td>...</td>\n      <td>3</td>\n      <td>80</td>\n      <td>1</td>\n      <td>17</td>\n      <td>3</td>\n      <td>3</td>\n      <td>5</td>\n      <td>2</td>\n      <td>0</td>\n      <td>3</td>\n    </tr>\n    <tr>\n      <th>1466</th>\n      <td>39</td>\n      <td>No</td>\n      <td>Travel_Rarely</td>\n      <td>613</td>\n      <td>Research &amp; Development</td>\n      <td>6</td>\n      <td>1</td>\n      <td>Medical</td>\n      <td>1</td>\n      <td>2062</td>\n      <td>...</td>\n      <td>1</td>\n      <td>80</td>\n      <td>1</td>\n      <td>9</td>\n      <td>5</td>\n      <td>3</td>\n      <td>7</td>\n      <td>7</td>\n      <td>1</td>\n      <td>7</td>\n    </tr>\n    <tr>\n      <th>1467</th>\n      <td>27</td>\n      <td>No</td>\n      <td>Travel_Rarely</td>\n      <td>155</td>\n      <td>Research &amp; Development</td>\n      <td>4</td>\n      <td>3</td>\n      <td>Life Sciences</td>\n      <td>1</td>\n      <td>2064</td>\n      <td>...</td>\n      <td>2</td>\n      <td>80</td>\n      <td>1</td>\n      <td>6</td>\n      <td>0</td>\n      <td>3</td>\n      <td>6</td>\n      <td>2</td>\n      <td>0</td>\n      <td>3</td>\n    </tr>\n    <tr>\n      <th>1468</th>\n      <td>49</td>\n      <td>No</td>\n      <td>Travel_Frequently</td>\n      <td>1023</td>\n      <td>Sales</td>\n      <td>2</td>\n      <td>3</td>\n      <td>Medical</td>\n      <td>1</td>\n      <td>2065</td>\n      <td>...</td>\n      <td>4</td>\n      <td>80</td>\n      <td>0</td>\n      <td>17</td>\n      <td>3</td>\n      <td>2</td>\n      <td>9</td>\n      <td>6</td>\n      <td>0</td>\n      <td>8</td>\n    </tr>\n    <tr>\n      <th>1469</th>\n      <td>34</td>\n      <td>No</td>\n      <td>Travel_Rarely</td>\n      <td>628</td>\n      <td>Research &amp; Development</td>\n      <td>8</td>\n      <td>3</td>\n      <td>Medical</td>\n      <td>1</td>\n      <td>2068</td>\n      <td>...</td>\n      <td>1</td>\n      <td>80</td>\n      <td>0</td>\n      <td>6</td>\n      <td>3</td>\n      <td>4</td>\n      <td>4</td>\n      <td>3</td>\n      <td>1</td>\n      <td>2</td>\n    </tr>\n  </tbody>\n</table>\n<p>1470 rows × 35 columns</p>\n</div>"
     },
     "metadata": {},
     "execution_count": 2
    }
   ],
   "source": [
    "# Read in csv data\n",
    "attrition_df = pd.read_csv(\"data/IBM_attrition_data.csv\")\n",
    "attrition_df"
   ]
  },
  {
   "cell_type": "code",
   "execution_count": 3,
   "metadata": {},
   "outputs": [
    {
     "output_type": "stream",
     "name": "stdout",
     "text": [
      "<class 'pandas.core.frame.DataFrame'>\nRangeIndex: 1470 entries, 0 to 1469\nData columns (total 35 columns):\n #   Column                    Non-Null Count  Dtype \n---  ------                    --------------  ----- \n 0   Age                       1470 non-null   int64 \n 1   Attrition                 1470 non-null   object\n 2   BusinessTravel            1470 non-null   object\n 3   DailyRate                 1470 non-null   int64 \n 4   Department                1470 non-null   object\n 5   DistanceFromHome          1470 non-null   int64 \n 6   Education                 1470 non-null   int64 \n 7   EducationField            1470 non-null   object\n 8   EmployeeCount             1470 non-null   int64 \n 9   EmployeeNumber            1470 non-null   int64 \n 10  EnvironmentSatisfaction   1470 non-null   int64 \n 11  Gender                    1470 non-null   object\n 12  HourlyRate                1470 non-null   int64 \n 13  JobInvolvement            1470 non-null   int64 \n 14  JobLevel                  1470 non-null   int64 \n 15  JobRole                   1470 non-null   object\n 16  JobSatisfaction           1470 non-null   int64 \n 17  MaritalStatus             1470 non-null   object\n 18  MonthlyIncome             1470 non-null   int64 \n 19  MonthlyRate               1470 non-null   int64 \n 20  NumCompaniesWorked        1470 non-null   int64 \n 21  Over18                    1470 non-null   object\n 22  OverTime                  1470 non-null   object\n 23  PercentSalaryHike         1470 non-null   int64 \n 24  PerformanceRating         1470 non-null   int64 \n 25  RelationshipSatisfaction  1470 non-null   int64 \n 26  StandardHours             1470 non-null   int64 \n 27  StockOptionLevel          1470 non-null   int64 \n 28  TotalWorkingYears         1470 non-null   int64 \n 29  TrainingTimesLastYear     1470 non-null   int64 \n 30  WorkLifeBalance           1470 non-null   int64 \n 31  YearsAtCompany            1470 non-null   int64 \n 32  YearsInCurrentRole        1470 non-null   int64 \n 33  YearsSinceLastPromotion   1470 non-null   int64 \n 34  YearsWithCurrManager      1470 non-null   int64 \ndtypes: int64(26), object(9)\nmemory usage: 402.1+ KB\n"
     ]
    }
   ],
   "source": [
    "# Checking data info\n",
    "attrition_df.info()"
   ]
  },
  {
   "cell_type": "code",
   "execution_count": 4,
   "metadata": {},
   "outputs": [],
   "source": [
    "# Drop Over18 column since all employees are over 18\n",
    "attrition_df = attrition_df.drop([\"Over18\"], axis=1)"
   ]
  },
  {
   "cell_type": "code",
   "execution_count": 5,
   "metadata": {},
   "outputs": [
    {
     "output_type": "stream",
     "name": "stdout",
     "text": [
      "<class 'pandas.core.frame.DataFrame'>\nRangeIndex: 1470 entries, 0 to 1469\nData columns (total 34 columns):\n #   Column                    Non-Null Count  Dtype \n---  ------                    --------------  ----- \n 0   Age                       1470 non-null   int64 \n 1   Attrition                 1470 non-null   object\n 2   BusinessTravel            1470 non-null   object\n 3   DailyRate                 1470 non-null   int64 \n 4   Department                1470 non-null   object\n 5   DistanceFromHome          1470 non-null   int64 \n 6   Education                 1470 non-null   int64 \n 7   EducationField            1470 non-null   object\n 8   EmployeeCount             1470 non-null   int64 \n 9   EmployeeNumber            1470 non-null   int64 \n 10  EnvironmentSatisfaction   1470 non-null   int64 \n 11  Gender                    1470 non-null   object\n 12  HourlyRate                1470 non-null   int64 \n 13  JobInvolvement            1470 non-null   int64 \n 14  JobLevel                  1470 non-null   int64 \n 15  JobRole                   1470 non-null   object\n 16  JobSatisfaction           1470 non-null   int64 \n 17  MaritalStatus             1470 non-null   object\n 18  MonthlyIncome             1470 non-null   int64 \n 19  MonthlyRate               1470 non-null   int64 \n 20  NumCompaniesWorked        1470 non-null   int64 \n 21  OverTime                  1470 non-null   object\n 22  PercentSalaryHike         1470 non-null   int64 \n 23  PerformanceRating         1470 non-null   int64 \n 24  RelationshipSatisfaction  1470 non-null   int64 \n 25  StandardHours             1470 non-null   int64 \n 26  StockOptionLevel          1470 non-null   int64 \n 27  TotalWorkingYears         1470 non-null   int64 \n 28  TrainingTimesLastYear     1470 non-null   int64 \n 29  WorkLifeBalance           1470 non-null   int64 \n 30  YearsAtCompany            1470 non-null   int64 \n 31  YearsInCurrentRole        1470 non-null   int64 \n 32  YearsSinceLastPromotion   1470 non-null   int64 \n 33  YearsWithCurrManager      1470 non-null   int64 \ndtypes: int64(26), object(8)\nmemory usage: 390.6+ KB\n"
     ]
    }
   ],
   "source": [
    "attrition_df.info()"
   ]
  },
  {
   "cell_type": "code",
   "execution_count": 6,
   "metadata": {},
   "outputs": [
    {
     "output_type": "execute_result",
     "data": {
      "text/plain": [
       "      Age  DailyRate  DistanceFromHome  Education  EmployeeCount  \\\n",
       "0      41       1102                 1          2              1   \n",
       "1      49        279                 8          1              1   \n",
       "2      37       1373                 2          2              1   \n",
       "3      33       1392                 3          4              1   \n",
       "4      27        591                 2          1              1   \n",
       "...   ...        ...               ...        ...            ...   \n",
       "1465   36        884                23          2              1   \n",
       "1466   39        613                 6          1              1   \n",
       "1467   27        155                 4          3              1   \n",
       "1468   49       1023                 2          3              1   \n",
       "1469   34        628                 8          3              1   \n",
       "\n",
       "      EmployeeNumber  EnvironmentSatisfaction  HourlyRate  JobInvolvement  \\\n",
       "0                  1                        2          94               3   \n",
       "1                  2                        3          61               2   \n",
       "2                  4                        4          92               2   \n",
       "3                  5                        4          56               3   \n",
       "4                  7                        1          40               3   \n",
       "...              ...                      ...         ...             ...   \n",
       "1465            2061                        3          41               4   \n",
       "1466            2062                        4          42               2   \n",
       "1467            2064                        2          87               4   \n",
       "1468            2065                        4          63               2   \n",
       "1469            2068                        2          82               4   \n",
       "\n",
       "      JobLevel  ...  JobRole_Laboratory Technician  JobRole_Manager  \\\n",
       "0            2  ...                              0                0   \n",
       "1            2  ...                              0                0   \n",
       "2            1  ...                              1                0   \n",
       "3            1  ...                              0                0   \n",
       "4            1  ...                              1                0   \n",
       "...        ...  ...                            ...              ...   \n",
       "1465         2  ...                              1                0   \n",
       "1466         3  ...                              0                0   \n",
       "1467         2  ...                              0                0   \n",
       "1468         2  ...                              0                0   \n",
       "1469         2  ...                              1                0   \n",
       "\n",
       "      JobRole_Manufacturing Director  JobRole_Research Director  \\\n",
       "0                                  0                          0   \n",
       "1                                  0                          0   \n",
       "2                                  0                          0   \n",
       "3                                  0                          0   \n",
       "4                                  0                          0   \n",
       "...                              ...                        ...   \n",
       "1465                               0                          0   \n",
       "1466                               0                          0   \n",
       "1467                               1                          0   \n",
       "1468                               0                          0   \n",
       "1469                               0                          0   \n",
       "\n",
       "      JobRole_Research Scientist  JobRole_Sales Executive  \\\n",
       "0                              0                        1   \n",
       "1                              1                        0   \n",
       "2                              0                        0   \n",
       "3                              1                        0   \n",
       "4                              0                        0   \n",
       "...                          ...                      ...   \n",
       "1465                           0                        0   \n",
       "1466                           0                        0   \n",
       "1467                           0                        0   \n",
       "1468                           0                        1   \n",
       "1469                           0                        0   \n",
       "\n",
       "      JobRole_Sales Representative  MaritalStatus_Married  \\\n",
       "0                                0                      0   \n",
       "1                                0                      1   \n",
       "2                                0                      0   \n",
       "3                                0                      1   \n",
       "4                                0                      1   \n",
       "...                            ...                    ...   \n",
       "1465                             0                      1   \n",
       "1466                             0                      1   \n",
       "1467                             0                      1   \n",
       "1468                             0                      1   \n",
       "1469                             0                      1   \n",
       "\n",
       "      MaritalStatus_Single  OverTime_Yes  \n",
       "0                        1             1  \n",
       "1                        0             0  \n",
       "2                        1             1  \n",
       "3                        0             1  \n",
       "4                        0             0  \n",
       "...                    ...           ...  \n",
       "1465                     0             0  \n",
       "1466                     0             0  \n",
       "1467                     0             1  \n",
       "1468                     0             0  \n",
       "1469                     0             0  \n",
       "\n",
       "[1470 rows x 48 columns]"
      ],
      "text/html": "<div>\n<style scoped>\n    .dataframe tbody tr th:only-of-type {\n        vertical-align: middle;\n    }\n\n    .dataframe tbody tr th {\n        vertical-align: top;\n    }\n\n    .dataframe thead th {\n        text-align: right;\n    }\n</style>\n<table border=\"1\" class=\"dataframe\">\n  <thead>\n    <tr style=\"text-align: right;\">\n      <th></th>\n      <th>Age</th>\n      <th>DailyRate</th>\n      <th>DistanceFromHome</th>\n      <th>Education</th>\n      <th>EmployeeCount</th>\n      <th>EmployeeNumber</th>\n      <th>EnvironmentSatisfaction</th>\n      <th>HourlyRate</th>\n      <th>JobInvolvement</th>\n      <th>JobLevel</th>\n      <th>...</th>\n      <th>JobRole_Laboratory Technician</th>\n      <th>JobRole_Manager</th>\n      <th>JobRole_Manufacturing Director</th>\n      <th>JobRole_Research Director</th>\n      <th>JobRole_Research Scientist</th>\n      <th>JobRole_Sales Executive</th>\n      <th>JobRole_Sales Representative</th>\n      <th>MaritalStatus_Married</th>\n      <th>MaritalStatus_Single</th>\n      <th>OverTime_Yes</th>\n    </tr>\n  </thead>\n  <tbody>\n    <tr>\n      <th>0</th>\n      <td>41</td>\n      <td>1102</td>\n      <td>1</td>\n      <td>2</td>\n      <td>1</td>\n      <td>1</td>\n      <td>2</td>\n      <td>94</td>\n      <td>3</td>\n      <td>2</td>\n      <td>...</td>\n      <td>0</td>\n      <td>0</td>\n      <td>0</td>\n      <td>0</td>\n      <td>0</td>\n      <td>1</td>\n      <td>0</td>\n      <td>0</td>\n      <td>1</td>\n      <td>1</td>\n    </tr>\n    <tr>\n      <th>1</th>\n      <td>49</td>\n      <td>279</td>\n      <td>8</td>\n      <td>1</td>\n      <td>1</td>\n      <td>2</td>\n      <td>3</td>\n      <td>61</td>\n      <td>2</td>\n      <td>2</td>\n      <td>...</td>\n      <td>0</td>\n      <td>0</td>\n      <td>0</td>\n      <td>0</td>\n      <td>1</td>\n      <td>0</td>\n      <td>0</td>\n      <td>1</td>\n      <td>0</td>\n      <td>0</td>\n    </tr>\n    <tr>\n      <th>2</th>\n      <td>37</td>\n      <td>1373</td>\n      <td>2</td>\n      <td>2</td>\n      <td>1</td>\n      <td>4</td>\n      <td>4</td>\n      <td>92</td>\n      <td>2</td>\n      <td>1</td>\n      <td>...</td>\n      <td>1</td>\n      <td>0</td>\n      <td>0</td>\n      <td>0</td>\n      <td>0</td>\n      <td>0</td>\n      <td>0</td>\n      <td>0</td>\n      <td>1</td>\n      <td>1</td>\n    </tr>\n    <tr>\n      <th>3</th>\n      <td>33</td>\n      <td>1392</td>\n      <td>3</td>\n      <td>4</td>\n      <td>1</td>\n      <td>5</td>\n      <td>4</td>\n      <td>56</td>\n      <td>3</td>\n      <td>1</td>\n      <td>...</td>\n      <td>0</td>\n      <td>0</td>\n      <td>0</td>\n      <td>0</td>\n      <td>1</td>\n      <td>0</td>\n      <td>0</td>\n      <td>1</td>\n      <td>0</td>\n      <td>1</td>\n    </tr>\n    <tr>\n      <th>4</th>\n      <td>27</td>\n      <td>591</td>\n      <td>2</td>\n      <td>1</td>\n      <td>1</td>\n      <td>7</td>\n      <td>1</td>\n      <td>40</td>\n      <td>3</td>\n      <td>1</td>\n      <td>...</td>\n      <td>1</td>\n      <td>0</td>\n      <td>0</td>\n      <td>0</td>\n      <td>0</td>\n      <td>0</td>\n      <td>0</td>\n      <td>1</td>\n      <td>0</td>\n      <td>0</td>\n    </tr>\n    <tr>\n      <th>...</th>\n      <td>...</td>\n      <td>...</td>\n      <td>...</td>\n      <td>...</td>\n      <td>...</td>\n      <td>...</td>\n      <td>...</td>\n      <td>...</td>\n      <td>...</td>\n      <td>...</td>\n      <td>...</td>\n      <td>...</td>\n      <td>...</td>\n      <td>...</td>\n      <td>...</td>\n      <td>...</td>\n      <td>...</td>\n      <td>...</td>\n      <td>...</td>\n      <td>...</td>\n      <td>...</td>\n    </tr>\n    <tr>\n      <th>1465</th>\n      <td>36</td>\n      <td>884</td>\n      <td>23</td>\n      <td>2</td>\n      <td>1</td>\n      <td>2061</td>\n      <td>3</td>\n      <td>41</td>\n      <td>4</td>\n      <td>2</td>\n      <td>...</td>\n      <td>1</td>\n      <td>0</td>\n      <td>0</td>\n      <td>0</td>\n      <td>0</td>\n      <td>0</td>\n      <td>0</td>\n      <td>1</td>\n      <td>0</td>\n      <td>0</td>\n    </tr>\n    <tr>\n      <th>1466</th>\n      <td>39</td>\n      <td>613</td>\n      <td>6</td>\n      <td>1</td>\n      <td>1</td>\n      <td>2062</td>\n      <td>4</td>\n      <td>42</td>\n      <td>2</td>\n      <td>3</td>\n      <td>...</td>\n      <td>0</td>\n      <td>0</td>\n      <td>0</td>\n      <td>0</td>\n      <td>0</td>\n      <td>0</td>\n      <td>0</td>\n      <td>1</td>\n      <td>0</td>\n      <td>0</td>\n    </tr>\n    <tr>\n      <th>1467</th>\n      <td>27</td>\n      <td>155</td>\n      <td>4</td>\n      <td>3</td>\n      <td>1</td>\n      <td>2064</td>\n      <td>2</td>\n      <td>87</td>\n      <td>4</td>\n      <td>2</td>\n      <td>...</td>\n      <td>0</td>\n      <td>0</td>\n      <td>1</td>\n      <td>0</td>\n      <td>0</td>\n      <td>0</td>\n      <td>0</td>\n      <td>1</td>\n      <td>0</td>\n      <td>1</td>\n    </tr>\n    <tr>\n      <th>1468</th>\n      <td>49</td>\n      <td>1023</td>\n      <td>2</td>\n      <td>3</td>\n      <td>1</td>\n      <td>2065</td>\n      <td>4</td>\n      <td>63</td>\n      <td>2</td>\n      <td>2</td>\n      <td>...</td>\n      <td>0</td>\n      <td>0</td>\n      <td>0</td>\n      <td>0</td>\n      <td>0</td>\n      <td>1</td>\n      <td>0</td>\n      <td>1</td>\n      <td>0</td>\n      <td>0</td>\n    </tr>\n    <tr>\n      <th>1469</th>\n      <td>34</td>\n      <td>628</td>\n      <td>8</td>\n      <td>3</td>\n      <td>1</td>\n      <td>2068</td>\n      <td>2</td>\n      <td>82</td>\n      <td>4</td>\n      <td>2</td>\n      <td>...</td>\n      <td>1</td>\n      <td>0</td>\n      <td>0</td>\n      <td>0</td>\n      <td>0</td>\n      <td>0</td>\n      <td>0</td>\n      <td>1</td>\n      <td>0</td>\n      <td>0</td>\n    </tr>\n  </tbody>\n</table>\n<p>1470 rows × 48 columns</p>\n</div>"
     },
     "metadata": {},
     "execution_count": 6
    }
   ],
   "source": [
    "# Encode categorical columns using pd.get_dummies\n",
    "attrition_copy = attrition_df.copy()\n",
    "attrition_copy = pd.get_dummies(attrition_df, drop_first=True)\n",
    "attrition_copy"
   ]
  },
  {
   "cell_type": "code",
   "execution_count": 7,
   "metadata": {},
   "outputs": [
    {
     "output_type": "stream",
     "name": "stdout",
     "text": [
      "<class 'pandas.core.frame.DataFrame'>\nRangeIndex: 1470 entries, 0 to 1469\nData columns (total 48 columns):\n #   Column                             Non-Null Count  Dtype\n---  ------                             --------------  -----\n 0   Age                                1470 non-null   int64\n 1   DailyRate                          1470 non-null   int64\n 2   DistanceFromHome                   1470 non-null   int64\n 3   Education                          1470 non-null   int64\n 4   EmployeeCount                      1470 non-null   int64\n 5   EmployeeNumber                     1470 non-null   int64\n 6   EnvironmentSatisfaction            1470 non-null   int64\n 7   HourlyRate                         1470 non-null   int64\n 8   JobInvolvement                     1470 non-null   int64\n 9   JobLevel                           1470 non-null   int64\n 10  JobSatisfaction                    1470 non-null   int64\n 11  MonthlyIncome                      1470 non-null   int64\n 12  MonthlyRate                        1470 non-null   int64\n 13  NumCompaniesWorked                 1470 non-null   int64\n 14  PercentSalaryHike                  1470 non-null   int64\n 15  PerformanceRating                  1470 non-null   int64\n 16  RelationshipSatisfaction           1470 non-null   int64\n 17  StandardHours                      1470 non-null   int64\n 18  StockOptionLevel                   1470 non-null   int64\n 19  TotalWorkingYears                  1470 non-null   int64\n 20  TrainingTimesLastYear              1470 non-null   int64\n 21  WorkLifeBalance                    1470 non-null   int64\n 22  YearsAtCompany                     1470 non-null   int64\n 23  YearsInCurrentRole                 1470 non-null   int64\n 24  YearsSinceLastPromotion            1470 non-null   int64\n 25  YearsWithCurrManager               1470 non-null   int64\n 26  Attrition                          1470 non-null   uint8\n 27  BusinessTravel_Travel_Frequently   1470 non-null   uint8\n 28  BusinessTravel_Travel_Rarely       1470 non-null   uint8\n 29  Department_Research & Development  1470 non-null   uint8\n 30  Department_Sales                   1470 non-null   uint8\n 31  EducationField_Life Sciences       1470 non-null   uint8\n 32  EducationField_Marketing           1470 non-null   uint8\n 33  EducationField_Medical             1470 non-null   uint8\n 34  EducationField_Other               1470 non-null   uint8\n 35  EducationField_Technical Degree    1470 non-null   uint8\n 36  Gender_Male                        1470 non-null   uint8\n 37  JobRole_Human Resources            1470 non-null   uint8\n 38  JobRole_Laboratory Technician      1470 non-null   uint8\n 39  JobRole_Manager                    1470 non-null   uint8\n 40  JobRole_Manufacturing Director     1470 non-null   uint8\n 41  JobRole_Research Director          1470 non-null   uint8\n 42  JobRole_Research Scientist         1470 non-null   uint8\n 43  JobRole_Sales Executive            1470 non-null   uint8\n 44  JobRole_Sales Representative       1470 non-null   uint8\n 45  MaritalStatus_Married              1470 non-null   uint8\n 46  MaritalStatus_Single               1470 non-null   uint8\n 47  OverTime_Yes                       1470 non-null   uint8\ndtypes: int64(26), uint8(22)\nmemory usage: 330.3 KB\n"
     ]
    }
   ],
   "source": [
    "# Rename Attrition_Yes column to Attrition \n",
    "attrition_data = attrition_copy.rename(columns={\"Attrition_Yes\": \"Attrition\"})\n",
    "attrition_data.info()"
   ]
  },
  {
   "cell_type": "code",
   "execution_count": 8,
   "metadata": {},
   "outputs": [
    {
     "output_type": "execute_result",
     "data": {
      "text/plain": [
       "Attrition                            1.000000\n",
       "OverTime_Yes                         0.246118\n",
       "MaritalStatus_Single                 0.175419\n",
       "JobRole_Sales Representative         0.157234\n",
       "BusinessTravel_Travel_Frequently     0.115143\n",
       "JobRole_Laboratory Technician        0.098290\n",
       "Department_Sales                     0.080855\n",
       "DistanceFromHome                     0.077924\n",
       "EducationField_Technical Degree      0.069355\n",
       "EducationField_Marketing             0.055781\n",
       "NumCompaniesWorked                   0.043494\n",
       "JobRole_Human Resources              0.036215\n",
       "Gender_Male                          0.029453\n",
       "JobRole_Sales Executive              0.019774\n",
       "MonthlyRate                          0.015170\n",
       "PerformanceRating                    0.002889\n",
       "JobRole_Research Scientist          -0.000360\n",
       "HourlyRate                          -0.006846\n",
       "EmployeeNumber                      -0.010577\n",
       "PercentSalaryHike                   -0.013478\n",
       "EducationField_Other                -0.017898\n",
       "Education                           -0.031373\n",
       "EducationField_Life Sciences        -0.032703\n",
       "YearsSinceLastPromotion             -0.033019\n",
       "RelationshipSatisfaction            -0.045872\n",
       "EducationField_Medical              -0.046999\n",
       "BusinessTravel_Travel_Rarely        -0.049538\n",
       "DailyRate                           -0.056652\n",
       "TrainingTimesLastYear               -0.059478\n",
       "WorkLifeBalance                     -0.063939\n",
       "JobRole_Manufacturing Director      -0.082994\n",
       "JobRole_Manager                     -0.083316\n",
       "Department_Research & Development   -0.085293\n",
       "JobRole_Research Director           -0.088870\n",
       "MaritalStatus_Married               -0.090984\n",
       "EnvironmentSatisfaction             -0.103369\n",
       "JobSatisfaction                     -0.103481\n",
       "JobInvolvement                      -0.130016\n",
       "YearsAtCompany                      -0.134392\n",
       "StockOptionLevel                    -0.137145\n",
       "YearsWithCurrManager                -0.156199\n",
       "Age                                 -0.159205\n",
       "MonthlyIncome                       -0.159840\n",
       "YearsInCurrentRole                  -0.160545\n",
       "JobLevel                            -0.169105\n",
       "TotalWorkingYears                   -0.171063\n",
       "EmployeeCount                             NaN\n",
       "StandardHours                             NaN\n",
       "Name: Attrition, dtype: float64"
      ]
     },
     "metadata": {},
     "execution_count": 8
    }
   ],
   "source": [
    "# Analyze correlation of each variable with the target variable \n",
    "corr_matrix = attrition_data.corr()\n",
    "corr_matrix[\"Attrition\"].sort_values(ascending=False)"
   ]
  },
  {
   "cell_type": "code",
   "execution_count": 9,
   "metadata": {},
   "outputs": [],
   "source": [
    "# Select and store features \n",
    "X = attrition_data.drop([\"Attrition\"], axis=1)\n",
    "y = attrition_data[\"Attrition\"]\n",
    "\n",
    "# Train and test split data\n",
    "from sklearn.model_selection import train_test_split\n",
    "\n",
    "X_train, X_test, y_train, y_test = train_test_split(X, y, random_state=42)"
   ]
  },
  {
   "cell_type": "code",
   "execution_count": 17,
   "metadata": {},
   "outputs": [],
   "source": [
    "# Set up data transformation pipeline for numerical data \n",
    "def num_pipeline_transformer(attrition_data):\n",
    "    '''\n",
    "    Function to process numerical transformations\n",
    "    Argument:\n",
    "        data: original dataframe \n",
    "    Returns:\n",
    "        num_attrs: numerical dataframe\n",
    "        num_pipeline: numerical pipeline object\n",
    "        \n",
    "    '''\n",
    "    numerics = ['float64', 'int64']\n",
    "\n",
    "    num_attrs = attrition_data.select_dtypes(include=numerics)\n",
    "\n",
    "    num_pipeline = Pipeline([\n",
    "        ('std_scaler', StandardScaler()),\n",
    "        ])\n",
    "    return num_attrs, num_pipeline\n"
   ]
  },
  {
   "cell_type": "code",
   "execution_count": 22,
   "metadata": {},
   "outputs": [],
   "source": [
    "# Set up data transformation pipeline for numerical and categorical data \n",
    "def pipeline_transformer(attrition_data):\n",
    "    '''\n",
    "    Complete transformation pipeline for both\n",
    "    nuerical and categorical data.\n",
    "    \n",
    "    Argument:\n",
    "        data: original dataframe \n",
    "    Returns:\n",
    "        prepared_data: transformed data, ready to use\n",
    "    '''\n",
    "    cat_attrs = [\"Attrition\"]\n",
    "    num_attrs, num_pipeline = num_pipeline_transformer(attrition_data)\n",
    "    full_pipeline = ColumnTransformer([\n",
    "        (\"num\", num_pipeline, list(num_attrs)),\n",
    "        (\"cat\", OneHotEncoder(), cat_attrs),\n",
    "        ])\n",
    "    prepared_data = full_pipeline.fit_transform(attrition_data)\n",
    "    return prepared_data"
   ]
  },
  {
   "cell_type": "code",
   "execution_count": 23,
   "metadata": {},
   "outputs": [],
   "source": [
    "# Final automation \n",
    "## Preprocess the Attrition column in data\n",
    "def preprocess_origin_cols(attrition_data):\n",
    "    attrition_data[\"Attrition\"] = attrition_data[\"Attrition\"].map({0: \"No\", 1: \"Yes\"})\n",
    "    return attrition_data"
   ]
  },
  {
   "cell_type": "code",
   "execution_count": 24,
   "metadata": {},
   "outputs": [
    {
     "output_type": "execute_result",
     "data": {
      "text/plain": [
       "array([[ 0.4463504 ,  0.74252653, -1.01090934, ..., -0.67914568,\n",
       "         0.24583399,  1.        ],\n",
       "       [ 1.32236521, -1.2977746 , -0.14714972, ..., -0.36871529,\n",
       "         0.80654148,  1.        ],\n",
       "       [ 0.008343  ,  1.41436324, -0.88751511, ..., -0.67914568,\n",
       "        -1.15593471,  1.        ],\n",
       "       ...,\n",
       "       [-1.08667552, -1.60518328, -0.64072665, ..., -0.67914568,\n",
       "        -0.31487349,  1.        ],\n",
       "       [ 1.32236521,  0.54667746, -0.88751511, ..., -0.67914568,\n",
       "         1.08689522,  1.        ],\n",
       "       [-0.32016256, -0.43256792, -0.14714972, ..., -0.36871529,\n",
       "        -0.59522723,  1.        ]])"
      ]
     },
     "metadata": {},
     "execution_count": 24
    }
   ],
   "source": [
    "## Call the final pipeline transformer\n",
    "preprocessed_df = preprocess_origin_cols(attrition_data)\n",
    "prepared_data = pipeline_transformer(preprocessed_df)\n",
    "prepared_data"
   ]
  },
  {
   "cell_type": "code",
   "execution_count": 28,
   "metadata": {},
   "outputs": [
    {
     "output_type": "execute_result",
     "data": {
      "text/plain": [
       "array([-0.53916626,  0.79954589,  0.84000413, -1.86842575,  0.        ,\n",
       "       -1.64811087, -0.66053067,  0.30059491, -2.4320056 , -0.96148639,\n",
       "       -1.56790657, -0.54903024, -1.35370482, -0.67804939,  1.85598433,\n",
       "        2.34615106, -0.65897283,  0.        , -0.93201439, -0.1645114 ,\n",
       "        1.70749969,  0.33809616,  0.48850773, -0.61549158,  1.1834367 ,\n",
       "        0.80654148,  1.        ])"
      ]
     },
     "metadata": {},
     "execution_count": 28
    }
   ],
   "source": [
    "# Attrition column\n",
    "prepared_data[26]"
   ]
  },
  {
   "cell_type": "code",
   "execution_count": null,
   "metadata": {},
   "outputs": [],
   "source": []
  },
  {
   "cell_type": "code",
   "execution_count": null,
   "metadata": {},
   "outputs": [],
   "source": []
  },
  {
   "cell_type": "code",
   "execution_count": null,
   "metadata": {},
   "outputs": [],
   "source": []
  },
  {
   "cell_type": "code",
   "execution_count": null,
   "metadata": {},
   "outputs": [],
   "source": []
  },
  {
   "cell_type": "code",
   "execution_count": null,
   "metadata": {},
   "outputs": [],
   "source": []
  },
  {
   "cell_type": "code",
   "execution_count": null,
   "metadata": {},
   "outputs": [],
   "source": []
  },
  {
   "cell_type": "code",
   "execution_count": null,
   "metadata": {},
   "outputs": [],
   "source": []
  }
 ]
}