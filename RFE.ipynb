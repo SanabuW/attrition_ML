{
 "metadata": {
  "language_info": {
   "codemirror_mode": {
    "name": "ipython",
    "version": 3
   },
   "file_extension": ".py",
   "mimetype": "text/x-python",
   "name": "python",
   "nbconvert_exporter": "python",
   "pygments_lexer": "ipython3",
   "version": "3.8.3"
  },
  "orig_nbformat": 2,
  "kernelspec": {
   "name": "python383jvsc74a57bd0a492ad3315753afd718f412eced2dd73d9315b2ab46055cadd9491164a7a9d91",
   "display_name": "Python 3.8.3 64-bit ('base': conda)"
  }
 },
 "nbformat": 4,
 "nbformat_minor": 2,
 "cells": [
  {
   "cell_type": "code",
   "execution_count": 93,
   "metadata": {},
   "outputs": [],
   "source": [
    "import os\n",
    "import pandas as pd \n",
    "import numpy as np \n",
    "import matplotlib.pyplot as plt\n",
    "from numpy import mean\n",
    "from numpy import std\n",
    "from sklearn.datasets import make_classification\n",
    "from sklearn.model_selection import cross_val_score\n",
    "from sklearn.model_selection import RepeatedStratifiedKFold\n",
    "from sklearn.feature_selection import RFE, RFECV\n",
    "from sklearn.tree import DecisionTreeClassifier\n",
    "from sklearn.pipeline import Pipeline\n",
    "from sklearn.ensemble import GradientBoostingClassifier\n",
    "from pprint import pprint"
   ]
  },
  {
   "cell_type": "code",
   "execution_count": 94,
   "metadata": {},
   "outputs": [
    {
     "output_type": "execute_result",
     "data": {
      "text/plain": [
       "      Age Attrition     BusinessTravel  DailyRate              Department  \\\n",
       "0      41       Yes      Travel_Rarely       1102                   Sales   \n",
       "1      49        No  Travel_Frequently        279  Research & Development   \n",
       "2      37       Yes      Travel_Rarely       1373  Research & Development   \n",
       "3      33        No  Travel_Frequently       1392  Research & Development   \n",
       "4      27        No      Travel_Rarely        591  Research & Development   \n",
       "...   ...       ...                ...        ...                     ...   \n",
       "1465   36        No  Travel_Frequently        884  Research & Development   \n",
       "1466   39        No      Travel_Rarely        613  Research & Development   \n",
       "1467   27        No      Travel_Rarely        155  Research & Development   \n",
       "1468   49        No  Travel_Frequently       1023                   Sales   \n",
       "1469   34        No      Travel_Rarely        628  Research & Development   \n",
       "\n",
       "      DistanceFromHome  Education EducationField  EmployeeCount  \\\n",
       "0                    1          2  Life Sciences              1   \n",
       "1                    8          1  Life Sciences              1   \n",
       "2                    2          2          Other              1   \n",
       "3                    3          4  Life Sciences              1   \n",
       "4                    2          1        Medical              1   \n",
       "...                ...        ...            ...            ...   \n",
       "1465                23          2        Medical              1   \n",
       "1466                 6          1        Medical              1   \n",
       "1467                 4          3  Life Sciences              1   \n",
       "1468                 2          3        Medical              1   \n",
       "1469                 8          3        Medical              1   \n",
       "\n",
       "      EmployeeNumber  ...  RelationshipSatisfaction StandardHours  \\\n",
       "0                  1  ...                         1            80   \n",
       "1                  2  ...                         4            80   \n",
       "2                  4  ...                         2            80   \n",
       "3                  5  ...                         3            80   \n",
       "4                  7  ...                         4            80   \n",
       "...              ...  ...                       ...           ...   \n",
       "1465            2061  ...                         3            80   \n",
       "1466            2062  ...                         1            80   \n",
       "1467            2064  ...                         2            80   \n",
       "1468            2065  ...                         4            80   \n",
       "1469            2068  ...                         1            80   \n",
       "\n",
       "      StockOptionLevel  TotalWorkingYears  TrainingTimesLastYear  \\\n",
       "0                    0                  8                      0   \n",
       "1                    1                 10                      3   \n",
       "2                    0                  7                      3   \n",
       "3                    0                  8                      3   \n",
       "4                    1                  6                      3   \n",
       "...                ...                ...                    ...   \n",
       "1465                 1                 17                      3   \n",
       "1466                 1                  9                      5   \n",
       "1467                 1                  6                      0   \n",
       "1468                 0                 17                      3   \n",
       "1469                 0                  6                      3   \n",
       "\n",
       "     WorkLifeBalance  YearsAtCompany YearsInCurrentRole  \\\n",
       "0                  1               6                  4   \n",
       "1                  3              10                  7   \n",
       "2                  3               0                  0   \n",
       "3                  3               8                  7   \n",
       "4                  3               2                  2   \n",
       "...              ...             ...                ...   \n",
       "1465               3               5                  2   \n",
       "1466               3               7                  7   \n",
       "1467               3               6                  2   \n",
       "1468               2               9                  6   \n",
       "1469               4               4                  3   \n",
       "\n",
       "      YearsSinceLastPromotion  YearsWithCurrManager  \n",
       "0                           0                     5  \n",
       "1                           1                     7  \n",
       "2                           0                     0  \n",
       "3                           3                     0  \n",
       "4                           2                     2  \n",
       "...                       ...                   ...  \n",
       "1465                        0                     3  \n",
       "1466                        1                     7  \n",
       "1467                        0                     3  \n",
       "1468                        0                     8  \n",
       "1469                        1                     2  \n",
       "\n",
       "[1470 rows x 35 columns]"
      ],
      "text/html": "<div>\n<style scoped>\n    .dataframe tbody tr th:only-of-type {\n        vertical-align: middle;\n    }\n\n    .dataframe tbody tr th {\n        vertical-align: top;\n    }\n\n    .dataframe thead th {\n        text-align: right;\n    }\n</style>\n<table border=\"1\" class=\"dataframe\">\n  <thead>\n    <tr style=\"text-align: right;\">\n      <th></th>\n      <th>Age</th>\n      <th>Attrition</th>\n      <th>BusinessTravel</th>\n      <th>DailyRate</th>\n      <th>Department</th>\n      <th>DistanceFromHome</th>\n      <th>Education</th>\n      <th>EducationField</th>\n      <th>EmployeeCount</th>\n      <th>EmployeeNumber</th>\n      <th>...</th>\n      <th>RelationshipSatisfaction</th>\n      <th>StandardHours</th>\n      <th>StockOptionLevel</th>\n      <th>TotalWorkingYears</th>\n      <th>TrainingTimesLastYear</th>\n      <th>WorkLifeBalance</th>\n      <th>YearsAtCompany</th>\n      <th>YearsInCurrentRole</th>\n      <th>YearsSinceLastPromotion</th>\n      <th>YearsWithCurrManager</th>\n    </tr>\n  </thead>\n  <tbody>\n    <tr>\n      <th>0</th>\n      <td>41</td>\n      <td>Yes</td>\n      <td>Travel_Rarely</td>\n      <td>1102</td>\n      <td>Sales</td>\n      <td>1</td>\n      <td>2</td>\n      <td>Life Sciences</td>\n      <td>1</td>\n      <td>1</td>\n      <td>...</td>\n      <td>1</td>\n      <td>80</td>\n      <td>0</td>\n      <td>8</td>\n      <td>0</td>\n      <td>1</td>\n      <td>6</td>\n      <td>4</td>\n      <td>0</td>\n      <td>5</td>\n    </tr>\n    <tr>\n      <th>1</th>\n      <td>49</td>\n      <td>No</td>\n      <td>Travel_Frequently</td>\n      <td>279</td>\n      <td>Research &amp; Development</td>\n      <td>8</td>\n      <td>1</td>\n      <td>Life Sciences</td>\n      <td>1</td>\n      <td>2</td>\n      <td>...</td>\n      <td>4</td>\n      <td>80</td>\n      <td>1</td>\n      <td>10</td>\n      <td>3</td>\n      <td>3</td>\n      <td>10</td>\n      <td>7</td>\n      <td>1</td>\n      <td>7</td>\n    </tr>\n    <tr>\n      <th>2</th>\n      <td>37</td>\n      <td>Yes</td>\n      <td>Travel_Rarely</td>\n      <td>1373</td>\n      <td>Research &amp; Development</td>\n      <td>2</td>\n      <td>2</td>\n      <td>Other</td>\n      <td>1</td>\n      <td>4</td>\n      <td>...</td>\n      <td>2</td>\n      <td>80</td>\n      <td>0</td>\n      <td>7</td>\n      <td>3</td>\n      <td>3</td>\n      <td>0</td>\n      <td>0</td>\n      <td>0</td>\n      <td>0</td>\n    </tr>\n    <tr>\n      <th>3</th>\n      <td>33</td>\n      <td>No</td>\n      <td>Travel_Frequently</td>\n      <td>1392</td>\n      <td>Research &amp; Development</td>\n      <td>3</td>\n      <td>4</td>\n      <td>Life Sciences</td>\n      <td>1</td>\n      <td>5</td>\n      <td>...</td>\n      <td>3</td>\n      <td>80</td>\n      <td>0</td>\n      <td>8</td>\n      <td>3</td>\n      <td>3</td>\n      <td>8</td>\n      <td>7</td>\n      <td>3</td>\n      <td>0</td>\n    </tr>\n    <tr>\n      <th>4</th>\n      <td>27</td>\n      <td>No</td>\n      <td>Travel_Rarely</td>\n      <td>591</td>\n      <td>Research &amp; Development</td>\n      <td>2</td>\n      <td>1</td>\n      <td>Medical</td>\n      <td>1</td>\n      <td>7</td>\n      <td>...</td>\n      <td>4</td>\n      <td>80</td>\n      <td>1</td>\n      <td>6</td>\n      <td>3</td>\n      <td>3</td>\n      <td>2</td>\n      <td>2</td>\n      <td>2</td>\n      <td>2</td>\n    </tr>\n    <tr>\n      <th>...</th>\n      <td>...</td>\n      <td>...</td>\n      <td>...</td>\n      <td>...</td>\n      <td>...</td>\n      <td>...</td>\n      <td>...</td>\n      <td>...</td>\n      <td>...</td>\n      <td>...</td>\n      <td>...</td>\n      <td>...</td>\n      <td>...</td>\n      <td>...</td>\n      <td>...</td>\n      <td>...</td>\n      <td>...</td>\n      <td>...</td>\n      <td>...</td>\n      <td>...</td>\n      <td>...</td>\n    </tr>\n    <tr>\n      <th>1465</th>\n      <td>36</td>\n      <td>No</td>\n      <td>Travel_Frequently</td>\n      <td>884</td>\n      <td>Research &amp; Development</td>\n      <td>23</td>\n      <td>2</td>\n      <td>Medical</td>\n      <td>1</td>\n      <td>2061</td>\n      <td>...</td>\n      <td>3</td>\n      <td>80</td>\n      <td>1</td>\n      <td>17</td>\n      <td>3</td>\n      <td>3</td>\n      <td>5</td>\n      <td>2</td>\n      <td>0</td>\n      <td>3</td>\n    </tr>\n    <tr>\n      <th>1466</th>\n      <td>39</td>\n      <td>No</td>\n      <td>Travel_Rarely</td>\n      <td>613</td>\n      <td>Research &amp; Development</td>\n      <td>6</td>\n      <td>1</td>\n      <td>Medical</td>\n      <td>1</td>\n      <td>2062</td>\n      <td>...</td>\n      <td>1</td>\n      <td>80</td>\n      <td>1</td>\n      <td>9</td>\n      <td>5</td>\n      <td>3</td>\n      <td>7</td>\n      <td>7</td>\n      <td>1</td>\n      <td>7</td>\n    </tr>\n    <tr>\n      <th>1467</th>\n      <td>27</td>\n      <td>No</td>\n      <td>Travel_Rarely</td>\n      <td>155</td>\n      <td>Research &amp; Development</td>\n      <td>4</td>\n      <td>3</td>\n      <td>Life Sciences</td>\n      <td>1</td>\n      <td>2064</td>\n      <td>...</td>\n      <td>2</td>\n      <td>80</td>\n      <td>1</td>\n      <td>6</td>\n      <td>0</td>\n      <td>3</td>\n      <td>6</td>\n      <td>2</td>\n      <td>0</td>\n      <td>3</td>\n    </tr>\n    <tr>\n      <th>1468</th>\n      <td>49</td>\n      <td>No</td>\n      <td>Travel_Frequently</td>\n      <td>1023</td>\n      <td>Sales</td>\n      <td>2</td>\n      <td>3</td>\n      <td>Medical</td>\n      <td>1</td>\n      <td>2065</td>\n      <td>...</td>\n      <td>4</td>\n      <td>80</td>\n      <td>0</td>\n      <td>17</td>\n      <td>3</td>\n      <td>2</td>\n      <td>9</td>\n      <td>6</td>\n      <td>0</td>\n      <td>8</td>\n    </tr>\n    <tr>\n      <th>1469</th>\n      <td>34</td>\n      <td>No</td>\n      <td>Travel_Rarely</td>\n      <td>628</td>\n      <td>Research &amp; Development</td>\n      <td>8</td>\n      <td>3</td>\n      <td>Medical</td>\n      <td>1</td>\n      <td>2068</td>\n      <td>...</td>\n      <td>1</td>\n      <td>80</td>\n      <td>0</td>\n      <td>6</td>\n      <td>3</td>\n      <td>4</td>\n      <td>4</td>\n      <td>3</td>\n      <td>1</td>\n      <td>2</td>\n    </tr>\n  </tbody>\n</table>\n<p>1470 rows × 35 columns</p>\n</div>"
     },
     "metadata": {},
     "execution_count": 94
    }
   ],
   "source": [
    "# Read in csv data\n",
    "attrition_df = pd.read_csv(\"data/IBM_attrition_data.csv\")\n",
    "attrition_df "
   ]
  },
  {
   "cell_type": "code",
   "execution_count": 95,
   "metadata": {},
   "outputs": [
    {
     "output_type": "execute_result",
     "data": {
      "text/plain": [
       "      Age  DailyRate  DistanceFromHome  Education  EmployeeCount  \\\n",
       "0      41       1102                 1          2              1   \n",
       "1      49        279                 8          1              1   \n",
       "2      37       1373                 2          2              1   \n",
       "3      33       1392                 3          4              1   \n",
       "4      27        591                 2          1              1   \n",
       "...   ...        ...               ...        ...            ...   \n",
       "1465   36        884                23          2              1   \n",
       "1466   39        613                 6          1              1   \n",
       "1467   27        155                 4          3              1   \n",
       "1468   49       1023                 2          3              1   \n",
       "1469   34        628                 8          3              1   \n",
       "\n",
       "      EmployeeNumber  EnvironmentSatisfaction  HourlyRate  JobInvolvement  \\\n",
       "0                  1                        2          94               3   \n",
       "1                  2                        3          61               2   \n",
       "2                  4                        4          92               2   \n",
       "3                  5                        4          56               3   \n",
       "4                  7                        1          40               3   \n",
       "...              ...                      ...         ...             ...   \n",
       "1465            2061                        3          41               4   \n",
       "1466            2062                        4          42               2   \n",
       "1467            2064                        2          87               4   \n",
       "1468            2065                        4          63               2   \n",
       "1469            2068                        2          82               4   \n",
       "\n",
       "      JobLevel  ...  JobRole_Research Director  JobRole_Research Scientist  \\\n",
       "0            2  ...                          0                           0   \n",
       "1            2  ...                          0                           1   \n",
       "2            1  ...                          0                           0   \n",
       "3            1  ...                          0                           1   \n",
       "4            1  ...                          0                           0   \n",
       "...        ...  ...                        ...                         ...   \n",
       "1465         2  ...                          0                           0   \n",
       "1466         3  ...                          0                           0   \n",
       "1467         2  ...                          0                           0   \n",
       "1468         2  ...                          0                           0   \n",
       "1469         2  ...                          0                           0   \n",
       "\n",
       "      JobRole_Sales Executive  JobRole_Sales Representative  \\\n",
       "0                           1                             0   \n",
       "1                           0                             0   \n",
       "2                           0                             0   \n",
       "3                           0                             0   \n",
       "4                           0                             0   \n",
       "...                       ...                           ...   \n",
       "1465                        0                             0   \n",
       "1466                        0                             0   \n",
       "1467                        0                             0   \n",
       "1468                        1                             0   \n",
       "1469                        0                             0   \n",
       "\n",
       "      MaritalStatus_Divorced  MaritalStatus_Married  MaritalStatus_Single  \\\n",
       "0                          0                      0                     1   \n",
       "1                          0                      1                     0   \n",
       "2                          0                      0                     1   \n",
       "3                          0                      1                     0   \n",
       "4                          0                      1                     0   \n",
       "...                      ...                    ...                   ...   \n",
       "1465                       0                      1                     0   \n",
       "1466                       0                      1                     0   \n",
       "1467                       0                      1                     0   \n",
       "1468                       0                      1                     0   \n",
       "1469                       0                      1                     0   \n",
       "\n",
       "      Over18_Y  OverTime_No  OverTime_Yes  \n",
       "0            1            0             1  \n",
       "1            1            1             0  \n",
       "2            1            0             1  \n",
       "3            1            0             1  \n",
       "4            1            1             0  \n",
       "...        ...          ...           ...  \n",
       "1465         1            1             0  \n",
       "1466         1            1             0  \n",
       "1467         1            0             1  \n",
       "1468         1            1             0  \n",
       "1469         1            1             0  \n",
       "\n",
       "[1470 rows x 55 columns]"
      ],
      "text/html": "<div>\n<style scoped>\n    .dataframe tbody tr th:only-of-type {\n        vertical-align: middle;\n    }\n\n    .dataframe tbody tr th {\n        vertical-align: top;\n    }\n\n    .dataframe thead th {\n        text-align: right;\n    }\n</style>\n<table border=\"1\" class=\"dataframe\">\n  <thead>\n    <tr style=\"text-align: right;\">\n      <th></th>\n      <th>Age</th>\n      <th>DailyRate</th>\n      <th>DistanceFromHome</th>\n      <th>Education</th>\n      <th>EmployeeCount</th>\n      <th>EmployeeNumber</th>\n      <th>EnvironmentSatisfaction</th>\n      <th>HourlyRate</th>\n      <th>JobInvolvement</th>\n      <th>JobLevel</th>\n      <th>...</th>\n      <th>JobRole_Research Director</th>\n      <th>JobRole_Research Scientist</th>\n      <th>JobRole_Sales Executive</th>\n      <th>JobRole_Sales Representative</th>\n      <th>MaritalStatus_Divorced</th>\n      <th>MaritalStatus_Married</th>\n      <th>MaritalStatus_Single</th>\n      <th>Over18_Y</th>\n      <th>OverTime_No</th>\n      <th>OverTime_Yes</th>\n    </tr>\n  </thead>\n  <tbody>\n    <tr>\n      <th>0</th>\n      <td>41</td>\n      <td>1102</td>\n      <td>1</td>\n      <td>2</td>\n      <td>1</td>\n      <td>1</td>\n      <td>2</td>\n      <td>94</td>\n      <td>3</td>\n      <td>2</td>\n      <td>...</td>\n      <td>0</td>\n      <td>0</td>\n      <td>1</td>\n      <td>0</td>\n      <td>0</td>\n      <td>0</td>\n      <td>1</td>\n      <td>1</td>\n      <td>0</td>\n      <td>1</td>\n    </tr>\n    <tr>\n      <th>1</th>\n      <td>49</td>\n      <td>279</td>\n      <td>8</td>\n      <td>1</td>\n      <td>1</td>\n      <td>2</td>\n      <td>3</td>\n      <td>61</td>\n      <td>2</td>\n      <td>2</td>\n      <td>...</td>\n      <td>0</td>\n      <td>1</td>\n      <td>0</td>\n      <td>0</td>\n      <td>0</td>\n      <td>1</td>\n      <td>0</td>\n      <td>1</td>\n      <td>1</td>\n      <td>0</td>\n    </tr>\n    <tr>\n      <th>2</th>\n      <td>37</td>\n      <td>1373</td>\n      <td>2</td>\n      <td>2</td>\n      <td>1</td>\n      <td>4</td>\n      <td>4</td>\n      <td>92</td>\n      <td>2</td>\n      <td>1</td>\n      <td>...</td>\n      <td>0</td>\n      <td>0</td>\n      <td>0</td>\n      <td>0</td>\n      <td>0</td>\n      <td>0</td>\n      <td>1</td>\n      <td>1</td>\n      <td>0</td>\n      <td>1</td>\n    </tr>\n    <tr>\n      <th>3</th>\n      <td>33</td>\n      <td>1392</td>\n      <td>3</td>\n      <td>4</td>\n      <td>1</td>\n      <td>5</td>\n      <td>4</td>\n      <td>56</td>\n      <td>3</td>\n      <td>1</td>\n      <td>...</td>\n      <td>0</td>\n      <td>1</td>\n      <td>0</td>\n      <td>0</td>\n      <td>0</td>\n      <td>1</td>\n      <td>0</td>\n      <td>1</td>\n      <td>0</td>\n      <td>1</td>\n    </tr>\n    <tr>\n      <th>4</th>\n      <td>27</td>\n      <td>591</td>\n      <td>2</td>\n      <td>1</td>\n      <td>1</td>\n      <td>7</td>\n      <td>1</td>\n      <td>40</td>\n      <td>3</td>\n      <td>1</td>\n      <td>...</td>\n      <td>0</td>\n      <td>0</td>\n      <td>0</td>\n      <td>0</td>\n      <td>0</td>\n      <td>1</td>\n      <td>0</td>\n      <td>1</td>\n      <td>1</td>\n      <td>0</td>\n    </tr>\n    <tr>\n      <th>...</th>\n      <td>...</td>\n      <td>...</td>\n      <td>...</td>\n      <td>...</td>\n      <td>...</td>\n      <td>...</td>\n      <td>...</td>\n      <td>...</td>\n      <td>...</td>\n      <td>...</td>\n      <td>...</td>\n      <td>...</td>\n      <td>...</td>\n      <td>...</td>\n      <td>...</td>\n      <td>...</td>\n      <td>...</td>\n      <td>...</td>\n      <td>...</td>\n      <td>...</td>\n      <td>...</td>\n    </tr>\n    <tr>\n      <th>1465</th>\n      <td>36</td>\n      <td>884</td>\n      <td>23</td>\n      <td>2</td>\n      <td>1</td>\n      <td>2061</td>\n      <td>3</td>\n      <td>41</td>\n      <td>4</td>\n      <td>2</td>\n      <td>...</td>\n      <td>0</td>\n      <td>0</td>\n      <td>0</td>\n      <td>0</td>\n      <td>0</td>\n      <td>1</td>\n      <td>0</td>\n      <td>1</td>\n      <td>1</td>\n      <td>0</td>\n    </tr>\n    <tr>\n      <th>1466</th>\n      <td>39</td>\n      <td>613</td>\n      <td>6</td>\n      <td>1</td>\n      <td>1</td>\n      <td>2062</td>\n      <td>4</td>\n      <td>42</td>\n      <td>2</td>\n      <td>3</td>\n      <td>...</td>\n      <td>0</td>\n      <td>0</td>\n      <td>0</td>\n      <td>0</td>\n      <td>0</td>\n      <td>1</td>\n      <td>0</td>\n      <td>1</td>\n      <td>1</td>\n      <td>0</td>\n    </tr>\n    <tr>\n      <th>1467</th>\n      <td>27</td>\n      <td>155</td>\n      <td>4</td>\n      <td>3</td>\n      <td>1</td>\n      <td>2064</td>\n      <td>2</td>\n      <td>87</td>\n      <td>4</td>\n      <td>2</td>\n      <td>...</td>\n      <td>0</td>\n      <td>0</td>\n      <td>0</td>\n      <td>0</td>\n      <td>0</td>\n      <td>1</td>\n      <td>0</td>\n      <td>1</td>\n      <td>0</td>\n      <td>1</td>\n    </tr>\n    <tr>\n      <th>1468</th>\n      <td>49</td>\n      <td>1023</td>\n      <td>2</td>\n      <td>3</td>\n      <td>1</td>\n      <td>2065</td>\n      <td>4</td>\n      <td>63</td>\n      <td>2</td>\n      <td>2</td>\n      <td>...</td>\n      <td>0</td>\n      <td>0</td>\n      <td>1</td>\n      <td>0</td>\n      <td>0</td>\n      <td>1</td>\n      <td>0</td>\n      <td>1</td>\n      <td>1</td>\n      <td>0</td>\n    </tr>\n    <tr>\n      <th>1469</th>\n      <td>34</td>\n      <td>628</td>\n      <td>8</td>\n      <td>3</td>\n      <td>1</td>\n      <td>2068</td>\n      <td>2</td>\n      <td>82</td>\n      <td>4</td>\n      <td>2</td>\n      <td>...</td>\n      <td>0</td>\n      <td>0</td>\n      <td>0</td>\n      <td>0</td>\n      <td>0</td>\n      <td>1</td>\n      <td>0</td>\n      <td>1</td>\n      <td>1</td>\n      <td>0</td>\n    </tr>\n  </tbody>\n</table>\n<p>1470 rows × 55 columns</p>\n</div>"
     },
     "metadata": {},
     "execution_count": 95
    }
   ],
   "source": [
    "# Set X and y values\n",
    "X = attrition_df.drop(['Attrition'], axis=1)\n",
    "X = pd.get_dummies(X)\n",
    "y = attrition_df['Attrition']\n",
    "\n",
    "X"
   ]
  },
  {
   "cell_type": "code",
   "execution_count": 96,
   "metadata": {},
   "outputs": [
    {
     "output_type": "stream",
     "name": "stdout",
     "text": [
      "(1470, 55) (1470,)\n"
     ]
    }
   ],
   "source": [
    "# Train test split data \n",
    "from sklearn.model_selection import train_test_split\n",
    "\n",
    "X_train, X_test, y_train, y_test = train_test_split(X, y,random_state=0)\n",
    "\n",
    "print(X.shape, y.shape)"
   ]
  },
  {
   "cell_type": "code",
   "execution_count": 97,
   "metadata": {},
   "outputs": [],
   "source": [
    "# Create RFE class \n",
    "rfe = RFE(estimator=GradientBoostingClassifier(), n_features_to_select=34)\n",
    "\n",
    "# Create model \n",
    "model = GradientBoostingClassifier()"
   ]
  },
  {
   "cell_type": "code",
   "execution_count": 98,
   "metadata": {},
   "outputs": [
    {
     "output_type": "stream",
     "name": "stdout",
     "text": [
      "Accuracy: 0.862 (0.023)\n"
     ]
    }
   ],
   "source": [
    "# Transform the data using pipeline\n",
    "pipe = Pipeline([(\"Feature Selection\", rfe), (\"Model\", model)])\n",
    "\n",
    "cv = RepeatedStratifiedKFold(n_splits=10, n_repeats=5, random_state=36851234)\n",
    "n_scores = cross_val_score(pipe, X_train, y_train, scoring=\"accuracy\", cv=cv, n_jobs=-1)\n",
    "print('Accuracy: %.3f (%.3f)' % (mean(n_scores), std(n_scores)))"
   ]
  },
  {
   "cell_type": "code",
   "execution_count": 99,
   "metadata": {},
   "outputs": [
    {
     "output_type": "execute_result",
     "data": {
      "text/plain": [
       "Pipeline(steps=[('Feature Selection',\n",
       "                 RFE(estimator=GradientBoostingClassifier(),\n",
       "                     n_features_to_select=34)),\n",
       "                ('Model', GradientBoostingClassifier())])"
      ]
     },
     "metadata": {},
     "execution_count": 99
    }
   ],
   "source": [
    "# Fit pipeline to dataset\n",
    "pipe.fit(X_train, y_train)\n"
   ]
  },
  {
   "cell_type": "code",
   "execution_count": 100,
   "metadata": {},
   "outputs": [
    {
     "output_type": "execute_result",
     "data": {
      "text/plain": [
       "array([ True,  True,  True, False, False,  True,  True,  True,  True,\n",
       "        True,  True,  True,  True,  True,  True, False,  True, False,\n",
       "        True,  True,  True,  True,  True,  True,  True,  True, False,\n",
       "        True, False, False,  True, False, False, False,  True, False,\n",
       "       False,  True,  True, False, False, False,  True, False, False,\n",
       "       False,  True,  True,  True, False, False,  True, False,  True,\n",
       "        True])"
      ]
     },
     "metadata": {},
     "execution_count": 100
    }
   ],
   "source": [
    "# Check support of the ranking\n",
    "rfe.support_"
   ]
  },
  {
   "cell_type": "code",
   "execution_count": 101,
   "metadata": {},
   "outputs": [
    {
     "output_type": "execute_result",
     "data": {
      "text/plain": [
       "                                    Rank\n",
       "Age                                 True\n",
       "DailyRate                           True\n",
       "DistanceFromHome                    True\n",
       "Education                          False\n",
       "EmployeeCount                      False\n",
       "EmployeeNumber                      True\n",
       "EnvironmentSatisfaction             True\n",
       "HourlyRate                          True\n",
       "JobInvolvement                      True\n",
       "JobLevel                            True\n",
       "JobSatisfaction                     True\n",
       "MonthlyIncome                       True\n",
       "MonthlyRate                         True\n",
       "NumCompaniesWorked                  True\n",
       "PercentSalaryHike                   True\n",
       "PerformanceRating                  False\n",
       "RelationshipSatisfaction            True\n",
       "StandardHours                      False\n",
       "StockOptionLevel                    True\n",
       "TotalWorkingYears                   True\n",
       "TrainingTimesLastYear               True\n",
       "WorkLifeBalance                     True\n",
       "YearsAtCompany                      True\n",
       "YearsInCurrentRole                  True\n",
       "YearsSinceLastPromotion             True\n",
       "YearsWithCurrManager                True\n",
       "BusinessTravel_Non-Travel          False\n",
       "BusinessTravel_Travel_Frequently    True\n",
       "BusinessTravel_Travel_Rarely       False\n",
       "Department_Human Resources         False\n",
       "Department_Research & Development   True\n",
       "Department_Sales                   False\n",
       "EducationField_Human Resources     False\n",
       "EducationField_Life Sciences       False\n",
       "EducationField_Marketing            True\n",
       "EducationField_Medical             False\n",
       "EducationField_Other               False\n",
       "EducationField_Technical Degree     True\n",
       "Gender_Female                       True\n",
       "Gender_Male                        False\n",
       "JobRole_Healthcare Representative  False\n",
       "JobRole_Human Resources            False\n",
       "JobRole_Laboratory Technician       True\n",
       "JobRole_Manager                    False\n",
       "JobRole_Manufacturing Director     False\n",
       "JobRole_Research Director          False\n",
       "JobRole_Research Scientist          True\n",
       "JobRole_Sales Executive             True\n",
       "JobRole_Sales Representative        True\n",
       "MaritalStatus_Divorced             False\n",
       "MaritalStatus_Married              False\n",
       "MaritalStatus_Single                True\n",
       "Over18_Y                           False\n",
       "OverTime_No                         True\n",
       "OverTime_Yes                        True"
      ],
      "text/html": "<div>\n<style scoped>\n    .dataframe tbody tr th:only-of-type {\n        vertical-align: middle;\n    }\n\n    .dataframe tbody tr th {\n        vertical-align: top;\n    }\n\n    .dataframe thead th {\n        text-align: right;\n    }\n</style>\n<table border=\"1\" class=\"dataframe\">\n  <thead>\n    <tr style=\"text-align: right;\">\n      <th></th>\n      <th>Rank</th>\n    </tr>\n  </thead>\n  <tbody>\n    <tr>\n      <th>Age</th>\n      <td>True</td>\n    </tr>\n    <tr>\n      <th>DailyRate</th>\n      <td>True</td>\n    </tr>\n    <tr>\n      <th>DistanceFromHome</th>\n      <td>True</td>\n    </tr>\n    <tr>\n      <th>Education</th>\n      <td>False</td>\n    </tr>\n    <tr>\n      <th>EmployeeCount</th>\n      <td>False</td>\n    </tr>\n    <tr>\n      <th>EmployeeNumber</th>\n      <td>True</td>\n    </tr>\n    <tr>\n      <th>EnvironmentSatisfaction</th>\n      <td>True</td>\n    </tr>\n    <tr>\n      <th>HourlyRate</th>\n      <td>True</td>\n    </tr>\n    <tr>\n      <th>JobInvolvement</th>\n      <td>True</td>\n    </tr>\n    <tr>\n      <th>JobLevel</th>\n      <td>True</td>\n    </tr>\n    <tr>\n      <th>JobSatisfaction</th>\n      <td>True</td>\n    </tr>\n    <tr>\n      <th>MonthlyIncome</th>\n      <td>True</td>\n    </tr>\n    <tr>\n      <th>MonthlyRate</th>\n      <td>True</td>\n    </tr>\n    <tr>\n      <th>NumCompaniesWorked</th>\n      <td>True</td>\n    </tr>\n    <tr>\n      <th>PercentSalaryHike</th>\n      <td>True</td>\n    </tr>\n    <tr>\n      <th>PerformanceRating</th>\n      <td>False</td>\n    </tr>\n    <tr>\n      <th>RelationshipSatisfaction</th>\n      <td>True</td>\n    </tr>\n    <tr>\n      <th>StandardHours</th>\n      <td>False</td>\n    </tr>\n    <tr>\n      <th>StockOptionLevel</th>\n      <td>True</td>\n    </tr>\n    <tr>\n      <th>TotalWorkingYears</th>\n      <td>True</td>\n    </tr>\n    <tr>\n      <th>TrainingTimesLastYear</th>\n      <td>True</td>\n    </tr>\n    <tr>\n      <th>WorkLifeBalance</th>\n      <td>True</td>\n    </tr>\n    <tr>\n      <th>YearsAtCompany</th>\n      <td>True</td>\n    </tr>\n    <tr>\n      <th>YearsInCurrentRole</th>\n      <td>True</td>\n    </tr>\n    <tr>\n      <th>YearsSinceLastPromotion</th>\n      <td>True</td>\n    </tr>\n    <tr>\n      <th>YearsWithCurrManager</th>\n      <td>True</td>\n    </tr>\n    <tr>\n      <th>BusinessTravel_Non-Travel</th>\n      <td>False</td>\n    </tr>\n    <tr>\n      <th>BusinessTravel_Travel_Frequently</th>\n      <td>True</td>\n    </tr>\n    <tr>\n      <th>BusinessTravel_Travel_Rarely</th>\n      <td>False</td>\n    </tr>\n    <tr>\n      <th>Department_Human Resources</th>\n      <td>False</td>\n    </tr>\n    <tr>\n      <th>Department_Research &amp; Development</th>\n      <td>True</td>\n    </tr>\n    <tr>\n      <th>Department_Sales</th>\n      <td>False</td>\n    </tr>\n    <tr>\n      <th>EducationField_Human Resources</th>\n      <td>False</td>\n    </tr>\n    <tr>\n      <th>EducationField_Life Sciences</th>\n      <td>False</td>\n    </tr>\n    <tr>\n      <th>EducationField_Marketing</th>\n      <td>True</td>\n    </tr>\n    <tr>\n      <th>EducationField_Medical</th>\n      <td>False</td>\n    </tr>\n    <tr>\n      <th>EducationField_Other</th>\n      <td>False</td>\n    </tr>\n    <tr>\n      <th>EducationField_Technical Degree</th>\n      <td>True</td>\n    </tr>\n    <tr>\n      <th>Gender_Female</th>\n      <td>True</td>\n    </tr>\n    <tr>\n      <th>Gender_Male</th>\n      <td>False</td>\n    </tr>\n    <tr>\n      <th>JobRole_Healthcare Representative</th>\n      <td>False</td>\n    </tr>\n    <tr>\n      <th>JobRole_Human Resources</th>\n      <td>False</td>\n    </tr>\n    <tr>\n      <th>JobRole_Laboratory Technician</th>\n      <td>True</td>\n    </tr>\n    <tr>\n      <th>JobRole_Manager</th>\n      <td>False</td>\n    </tr>\n    <tr>\n      <th>JobRole_Manufacturing Director</th>\n      <td>False</td>\n    </tr>\n    <tr>\n      <th>JobRole_Research Director</th>\n      <td>False</td>\n    </tr>\n    <tr>\n      <th>JobRole_Research Scientist</th>\n      <td>True</td>\n    </tr>\n    <tr>\n      <th>JobRole_Sales Executive</th>\n      <td>True</td>\n    </tr>\n    <tr>\n      <th>JobRole_Sales Representative</th>\n      <td>True</td>\n    </tr>\n    <tr>\n      <th>MaritalStatus_Divorced</th>\n      <td>False</td>\n    </tr>\n    <tr>\n      <th>MaritalStatus_Married</th>\n      <td>False</td>\n    </tr>\n    <tr>\n      <th>MaritalStatus_Single</th>\n      <td>True</td>\n    </tr>\n    <tr>\n      <th>Over18_Y</th>\n      <td>False</td>\n    </tr>\n    <tr>\n      <th>OverTime_No</th>\n      <td>True</td>\n    </tr>\n    <tr>\n      <th>OverTime_Yes</th>\n      <td>True</td>\n    </tr>\n  </tbody>\n</table>\n</div>"
     },
     "metadata": {},
     "execution_count": 101
    }
   ],
   "source": [
    "# Create dataframe with support ranking array\n",
    "feature_rank = pd.DataFrame(rfe.support_, index=X.columns, columns=['Rank'])\n",
    "feature_rank"
   ]
  },
  {
   "cell_type": "code",
   "execution_count": 102,
   "metadata": {},
   "outputs": [
    {
     "output_type": "execute_result",
     "data": {
      "text/plain": [
       "                                   Rank\n",
       "Age                                   1\n",
       "WorkLifeBalance                       1\n",
       "YearsAtCompany                        1\n",
       "YearsInCurrentRole                    1\n",
       "YearsSinceLastPromotion               1\n",
       "YearsWithCurrManager                  1\n",
       "OverTime_No                           1\n",
       "Department_Research & Development     1\n",
       "EducationField_Marketing              1\n",
       "EducationField_Technical Degree       1\n",
       "Gender_Female                         1\n",
       "JobRole_Laboratory Technician         1\n",
       "JobRole_Research Scientist            1\n",
       "JobRole_Sales Executive               1\n",
       "JobRole_Sales Representative          1\n",
       "MaritalStatus_Single                  1\n",
       "TrainingTimesLastYear                 1\n",
       "TotalWorkingYears                     1\n",
       "BusinessTravel_Travel_Frequently      1\n",
       "OverTime_Yes                          1\n",
       "StockOptionLevel                      1\n",
       "JobInvolvement                        1\n",
       "EmployeeNumber                        1\n",
       "JobLevel                              1\n",
       "DistanceFromHome                      1\n",
       "HourlyRate                            1\n",
       "JobSatisfaction                       1\n",
       "EnvironmentSatisfaction               1\n",
       "MonthlyIncome                         1\n",
       "MonthlyRate                           1\n",
       "NumCompaniesWorked                    1\n",
       "PercentSalaryHike                     1\n",
       "DailyRate                             1\n",
       "RelationshipSatisfaction              1\n",
       "MaritalStatus_Divorced                2\n",
       "Education                             3\n",
       "EducationField_Medical                4\n",
       "EducationField_Human Resources        5\n",
       "MaritalStatus_Married                 6\n",
       "EducationField_Other                  7\n",
       "JobRole_Manufacturing Director        8\n",
       "Department_Sales                      9\n",
       "Gender_Male                          10\n",
       "BusinessTravel_Non-Travel            11\n",
       "EducationField_Life Sciences         12\n",
       "JobRole_Healthcare Representative    13\n",
       "JobRole_Human Resources              14\n",
       "PerformanceRating                    15\n",
       "EmployeeCount                        16\n",
       "BusinessTravel_Travel_Rarely         17\n",
       "JobRole_Manager                      18\n",
       "StandardHours                        19\n",
       "Department_Human Resources           20\n",
       "JobRole_Research Director            21\n",
       "Over18_Y                             22"
      ],
      "text/html": "<div>\n<style scoped>\n    .dataframe tbody tr th:only-of-type {\n        vertical-align: middle;\n    }\n\n    .dataframe tbody tr th {\n        vertical-align: top;\n    }\n\n    .dataframe thead th {\n        text-align: right;\n    }\n</style>\n<table border=\"1\" class=\"dataframe\">\n  <thead>\n    <tr style=\"text-align: right;\">\n      <th></th>\n      <th>Rank</th>\n    </tr>\n  </thead>\n  <tbody>\n    <tr>\n      <th>Age</th>\n      <td>1</td>\n    </tr>\n    <tr>\n      <th>WorkLifeBalance</th>\n      <td>1</td>\n    </tr>\n    <tr>\n      <th>YearsAtCompany</th>\n      <td>1</td>\n    </tr>\n    <tr>\n      <th>YearsInCurrentRole</th>\n      <td>1</td>\n    </tr>\n    <tr>\n      <th>YearsSinceLastPromotion</th>\n      <td>1</td>\n    </tr>\n    <tr>\n      <th>YearsWithCurrManager</th>\n      <td>1</td>\n    </tr>\n    <tr>\n      <th>OverTime_No</th>\n      <td>1</td>\n    </tr>\n    <tr>\n      <th>Department_Research &amp; Development</th>\n      <td>1</td>\n    </tr>\n    <tr>\n      <th>EducationField_Marketing</th>\n      <td>1</td>\n    </tr>\n    <tr>\n      <th>EducationField_Technical Degree</th>\n      <td>1</td>\n    </tr>\n    <tr>\n      <th>Gender_Female</th>\n      <td>1</td>\n    </tr>\n    <tr>\n      <th>JobRole_Laboratory Technician</th>\n      <td>1</td>\n    </tr>\n    <tr>\n      <th>JobRole_Research Scientist</th>\n      <td>1</td>\n    </tr>\n    <tr>\n      <th>JobRole_Sales Executive</th>\n      <td>1</td>\n    </tr>\n    <tr>\n      <th>JobRole_Sales Representative</th>\n      <td>1</td>\n    </tr>\n    <tr>\n      <th>MaritalStatus_Single</th>\n      <td>1</td>\n    </tr>\n    <tr>\n      <th>TrainingTimesLastYear</th>\n      <td>1</td>\n    </tr>\n    <tr>\n      <th>TotalWorkingYears</th>\n      <td>1</td>\n    </tr>\n    <tr>\n      <th>BusinessTravel_Travel_Frequently</th>\n      <td>1</td>\n    </tr>\n    <tr>\n      <th>OverTime_Yes</th>\n      <td>1</td>\n    </tr>\n    <tr>\n      <th>StockOptionLevel</th>\n      <td>1</td>\n    </tr>\n    <tr>\n      <th>JobInvolvement</th>\n      <td>1</td>\n    </tr>\n    <tr>\n      <th>EmployeeNumber</th>\n      <td>1</td>\n    </tr>\n    <tr>\n      <th>JobLevel</th>\n      <td>1</td>\n    </tr>\n    <tr>\n      <th>DistanceFromHome</th>\n      <td>1</td>\n    </tr>\n    <tr>\n      <th>HourlyRate</th>\n      <td>1</td>\n    </tr>\n    <tr>\n      <th>JobSatisfaction</th>\n      <td>1</td>\n    </tr>\n    <tr>\n      <th>EnvironmentSatisfaction</th>\n      <td>1</td>\n    </tr>\n    <tr>\n      <th>MonthlyIncome</th>\n      <td>1</td>\n    </tr>\n    <tr>\n      <th>MonthlyRate</th>\n      <td>1</td>\n    </tr>\n    <tr>\n      <th>NumCompaniesWorked</th>\n      <td>1</td>\n    </tr>\n    <tr>\n      <th>PercentSalaryHike</th>\n      <td>1</td>\n    </tr>\n    <tr>\n      <th>DailyRate</th>\n      <td>1</td>\n    </tr>\n    <tr>\n      <th>RelationshipSatisfaction</th>\n      <td>1</td>\n    </tr>\n    <tr>\n      <th>MaritalStatus_Divorced</th>\n      <td>2</td>\n    </tr>\n    <tr>\n      <th>Education</th>\n      <td>3</td>\n    </tr>\n    <tr>\n      <th>EducationField_Medical</th>\n      <td>4</td>\n    </tr>\n    <tr>\n      <th>EducationField_Human Resources</th>\n      <td>5</td>\n    </tr>\n    <tr>\n      <th>MaritalStatus_Married</th>\n      <td>6</td>\n    </tr>\n    <tr>\n      <th>EducationField_Other</th>\n      <td>7</td>\n    </tr>\n    <tr>\n      <th>JobRole_Manufacturing Director</th>\n      <td>8</td>\n    </tr>\n    <tr>\n      <th>Department_Sales</th>\n      <td>9</td>\n    </tr>\n    <tr>\n      <th>Gender_Male</th>\n      <td>10</td>\n    </tr>\n    <tr>\n      <th>BusinessTravel_Non-Travel</th>\n      <td>11</td>\n    </tr>\n    <tr>\n      <th>EducationField_Life Sciences</th>\n      <td>12</td>\n    </tr>\n    <tr>\n      <th>JobRole_Healthcare Representative</th>\n      <td>13</td>\n    </tr>\n    <tr>\n      <th>JobRole_Human Resources</th>\n      <td>14</td>\n    </tr>\n    <tr>\n      <th>PerformanceRating</th>\n      <td>15</td>\n    </tr>\n    <tr>\n      <th>EmployeeCount</th>\n      <td>16</td>\n    </tr>\n    <tr>\n      <th>BusinessTravel_Travel_Rarely</th>\n      <td>17</td>\n    </tr>\n    <tr>\n      <th>JobRole_Manager</th>\n      <td>18</td>\n    </tr>\n    <tr>\n      <th>StandardHours</th>\n      <td>19</td>\n    </tr>\n    <tr>\n      <th>Department_Human Resources</th>\n      <td>20</td>\n    </tr>\n    <tr>\n      <th>JobRole_Research Director</th>\n      <td>21</td>\n    </tr>\n    <tr>\n      <th>Over18_Y</th>\n      <td>22</td>\n    </tr>\n  </tbody>\n</table>\n</div>"
     },
     "metadata": {},
     "execution_count": 102
    }
   ],
   "source": [
    "# Check Relative Rankings\n",
    "rf_df = pd.DataFrame(rfe.ranking_,index=X.columns,columns=[\"Rank\"]).sort_values(by=\"Rank\",ascending=True)\n",
    "rf_df"
   ]
  },
  {
   "cell_type": "code",
   "execution_count": 105,
   "metadata": {},
   "outputs": [
    {
     "output_type": "execute_result",
     "data": {
      "text/plain": [
       "34"
      ]
     },
     "metadata": {},
     "execution_count": 105
    }
   ],
   "source": []
  },
  {
   "cell_type": "code",
   "execution_count": 54,
   "metadata": {},
   "outputs": [
    {
     "output_type": "stream",
     "name": "stdout",
     "text": [
      "array(['Yes', 'No', 'No', ..., 'No', 'No', 'No'], dtype=object)\n"
     ]
    }
   ],
   "source": [
    "# Predictions \n",
    "rfe.predict(X)"
   ]
  },
  {
   "cell_type": "code",
   "execution_count": 106,
   "metadata": {},
   "outputs": [],
   "source": [
    "# Recurssive feature eliminator \n",
    "rfecv = RFECV(estimator=GradientBoostingClassifier())"
   ]
  },
  {
   "cell_type": "code",
   "execution_count": 12,
   "metadata": {},
   "outputs": [
    {
     "output_type": "stream",
     "name": "stdout",
     "text": [
      "Accuracy: 0.862 (0.025)\n"
     ]
    }
   ],
   "source": [
    "# Specify pipeline and CV for Recurssive Features \n",
    "pipeline = Pipeline([(\"Feature Selection\", rfecv), (\"Model\", model)])\n",
    "cv = RepeatedStratifiedKFold(n_splits=10, n_repeats=5, random_state=36851234)\n",
    "n_scores = cross_val_score(pipeline, X_train, y_train, scoring=\"accuracy\", cv=cv, n_jobs=-1)\n",
    "\n",
    "print('Accuracy: %.3f (%.3f)' % (mean(n_scores), std(n_scores)))"
   ]
  },
  {
   "cell_type": "code",
   "execution_count": 18,
   "metadata": {},
   "outputs": [
    {
     "output_type": "execute_result",
     "data": {
      "text/plain": [
       "Pipeline(steps=[('Feature Selection',\n",
       "                 RFECV(estimator=GradientBoostingClassifier())),\n",
       "                ('Model', GradientBoostingClassifier())])"
      ]
     },
     "metadata": {},
     "execution_count": 18
    }
   ],
   "source": [
    "# Fit optimal # of features pipeline to model \n",
    "pipeline.fit(X_train, y_train)\n"
   ]
  },
  {
   "cell_type": "code",
   "execution_count": 21,
   "metadata": {},
   "outputs": [
    {
     "output_type": "execute_result",
     "data": {
      "text/plain": [
       "                                    Rank\n",
       "Age                                 True\n",
       "DailyRate                           True\n",
       "DistanceFromHome                    True\n",
       "Education                          False\n",
       "EmployeeCount                      False\n",
       "EmployeeNumber                      True\n",
       "EnvironmentSatisfaction             True\n",
       "HourlyRate                          True\n",
       "JobInvolvement                      True\n",
       "JobLevel                            True\n",
       "JobSatisfaction                     True\n",
       "MonthlyIncome                       True\n",
       "MonthlyRate                         True\n",
       "NumCompaniesWorked                  True\n",
       "PercentSalaryHike                   True\n",
       "PerformanceRating                  False\n",
       "RelationshipSatisfaction            True\n",
       "StandardHours                      False\n",
       "StockOptionLevel                    True\n",
       "TotalWorkingYears                   True\n",
       "TrainingTimesLastYear               True\n",
       "WorkLifeBalance                     True\n",
       "YearsAtCompany                      True\n",
       "YearsInCurrentRole                  True\n",
       "YearsSinceLastPromotion             True\n",
       "YearsWithCurrManager                True\n",
       "BusinessTravel_Non-Travel          False\n",
       "BusinessTravel_Travel_Frequently    True\n",
       "BusinessTravel_Travel_Rarely       False\n",
       "Department_Human Resources         False\n",
       "Department_Research & Development   True\n",
       "Department_Sales                   False\n",
       "EducationField_Human Resources     False\n",
       "EducationField_Life Sciences       False\n",
       "EducationField_Marketing            True\n",
       "EducationField_Medical             False\n",
       "EducationField_Other               False\n",
       "EducationField_Technical Degree     True\n",
       "Gender_Female                      False\n",
       "Gender_Male                        False\n",
       "JobRole_Healthcare Representative  False\n",
       "JobRole_Human Resources            False\n",
       "JobRole_Laboratory Technician       True\n",
       "JobRole_Manager                    False\n",
       "JobRole_Manufacturing Director     False\n",
       "JobRole_Research Director          False\n",
       "JobRole_Research Scientist          True\n",
       "JobRole_Sales Executive             True\n",
       "JobRole_Sales Representative        True\n",
       "MaritalStatus_Divorced              True\n",
       "MaritalStatus_Married              False\n",
       "MaritalStatus_Single                True\n",
       "Over18_Y                           False\n",
       "OverTime_No                         True\n",
       "OverTime_Yes                        True"
      ],
      "text/html": "<div>\n<style scoped>\n    .dataframe tbody tr th:only-of-type {\n        vertical-align: middle;\n    }\n\n    .dataframe tbody tr th {\n        vertical-align: top;\n    }\n\n    .dataframe thead th {\n        text-align: right;\n    }\n</style>\n<table border=\"1\" class=\"dataframe\">\n  <thead>\n    <tr style=\"text-align: right;\">\n      <th></th>\n      <th>Rank</th>\n    </tr>\n  </thead>\n  <tbody>\n    <tr>\n      <th>Age</th>\n      <td>True</td>\n    </tr>\n    <tr>\n      <th>DailyRate</th>\n      <td>True</td>\n    </tr>\n    <tr>\n      <th>DistanceFromHome</th>\n      <td>True</td>\n    </tr>\n    <tr>\n      <th>Education</th>\n      <td>False</td>\n    </tr>\n    <tr>\n      <th>EmployeeCount</th>\n      <td>False</td>\n    </tr>\n    <tr>\n      <th>EmployeeNumber</th>\n      <td>True</td>\n    </tr>\n    <tr>\n      <th>EnvironmentSatisfaction</th>\n      <td>True</td>\n    </tr>\n    <tr>\n      <th>HourlyRate</th>\n      <td>True</td>\n    </tr>\n    <tr>\n      <th>JobInvolvement</th>\n      <td>True</td>\n    </tr>\n    <tr>\n      <th>JobLevel</th>\n      <td>True</td>\n    </tr>\n    <tr>\n      <th>JobSatisfaction</th>\n      <td>True</td>\n    </tr>\n    <tr>\n      <th>MonthlyIncome</th>\n      <td>True</td>\n    </tr>\n    <tr>\n      <th>MonthlyRate</th>\n      <td>True</td>\n    </tr>\n    <tr>\n      <th>NumCompaniesWorked</th>\n      <td>True</td>\n    </tr>\n    <tr>\n      <th>PercentSalaryHike</th>\n      <td>True</td>\n    </tr>\n    <tr>\n      <th>PerformanceRating</th>\n      <td>False</td>\n    </tr>\n    <tr>\n      <th>RelationshipSatisfaction</th>\n      <td>True</td>\n    </tr>\n    <tr>\n      <th>StandardHours</th>\n      <td>False</td>\n    </tr>\n    <tr>\n      <th>StockOptionLevel</th>\n      <td>True</td>\n    </tr>\n    <tr>\n      <th>TotalWorkingYears</th>\n      <td>True</td>\n    </tr>\n    <tr>\n      <th>TrainingTimesLastYear</th>\n      <td>True</td>\n    </tr>\n    <tr>\n      <th>WorkLifeBalance</th>\n      <td>True</td>\n    </tr>\n    <tr>\n      <th>YearsAtCompany</th>\n      <td>True</td>\n    </tr>\n    <tr>\n      <th>YearsInCurrentRole</th>\n      <td>True</td>\n    </tr>\n    <tr>\n      <th>YearsSinceLastPromotion</th>\n      <td>True</td>\n    </tr>\n    <tr>\n      <th>YearsWithCurrManager</th>\n      <td>True</td>\n    </tr>\n    <tr>\n      <th>BusinessTravel_Non-Travel</th>\n      <td>False</td>\n    </tr>\n    <tr>\n      <th>BusinessTravel_Travel_Frequently</th>\n      <td>True</td>\n    </tr>\n    <tr>\n      <th>BusinessTravel_Travel_Rarely</th>\n      <td>False</td>\n    </tr>\n    <tr>\n      <th>Department_Human Resources</th>\n      <td>False</td>\n    </tr>\n    <tr>\n      <th>Department_Research &amp; Development</th>\n      <td>True</td>\n    </tr>\n    <tr>\n      <th>Department_Sales</th>\n      <td>False</td>\n    </tr>\n    <tr>\n      <th>EducationField_Human Resources</th>\n      <td>False</td>\n    </tr>\n    <tr>\n      <th>EducationField_Life Sciences</th>\n      <td>False</td>\n    </tr>\n    <tr>\n      <th>EducationField_Marketing</th>\n      <td>True</td>\n    </tr>\n    <tr>\n      <th>EducationField_Medical</th>\n      <td>False</td>\n    </tr>\n    <tr>\n      <th>EducationField_Other</th>\n      <td>False</td>\n    </tr>\n    <tr>\n      <th>EducationField_Technical Degree</th>\n      <td>True</td>\n    </tr>\n    <tr>\n      <th>Gender_Female</th>\n      <td>False</td>\n    </tr>\n    <tr>\n      <th>Gender_Male</th>\n      <td>False</td>\n    </tr>\n    <tr>\n      <th>JobRole_Healthcare Representative</th>\n      <td>False</td>\n    </tr>\n    <tr>\n      <th>JobRole_Human Resources</th>\n      <td>False</td>\n    </tr>\n    <tr>\n      <th>JobRole_Laboratory Technician</th>\n      <td>True</td>\n    </tr>\n    <tr>\n      <th>JobRole_Manager</th>\n      <td>False</td>\n    </tr>\n    <tr>\n      <th>JobRole_Manufacturing Director</th>\n      <td>False</td>\n    </tr>\n    <tr>\n      <th>JobRole_Research Director</th>\n      <td>False</td>\n    </tr>\n    <tr>\n      <th>JobRole_Research Scientist</th>\n      <td>True</td>\n    </tr>\n    <tr>\n      <th>JobRole_Sales Executive</th>\n      <td>True</td>\n    </tr>\n    <tr>\n      <th>JobRole_Sales Representative</th>\n      <td>True</td>\n    </tr>\n    <tr>\n      <th>MaritalStatus_Divorced</th>\n      <td>True</td>\n    </tr>\n    <tr>\n      <th>MaritalStatus_Married</th>\n      <td>False</td>\n    </tr>\n    <tr>\n      <th>MaritalStatus_Single</th>\n      <td>True</td>\n    </tr>\n    <tr>\n      <th>Over18_Y</th>\n      <td>False</td>\n    </tr>\n    <tr>\n      <th>OverTime_No</th>\n      <td>True</td>\n    </tr>\n    <tr>\n      <th>OverTime_Yes</th>\n      <td>True</td>\n    </tr>\n  </tbody>\n</table>\n</div>"
     },
     "metadata": {},
     "execution_count": 21
    }
   ],
   "source": [
    "# Recurssive feature rankings and support \n",
    "rfecv.support_\n",
    "\n",
    "feature_ranl = pd.DataFrame(rfecv.support_, index=X.columns, columns=['Rank'])\n",
    "feature_rank"
   ]
  },
  {
   "cell_type": "code",
   "execution_count": 90,
   "metadata": {},
   "outputs": [
    {
     "output_type": "execute_result",
     "data": {
      "text/plain": [
       "                                   Rank\n",
       "Age                                   1\n",
       "MaritalStatus_Single                  1\n",
       "OverTime_No                           1\n",
       "YearsWithCurrManager                  1\n",
       "YearsSinceLastPromotion               1\n",
       "YearsAtCompany                        1\n",
       "WorkLifeBalance                       1\n",
       "TotalWorkingYears                     1\n",
       "StockOptionLevel                      1\n",
       "NumCompaniesWorked                    1\n",
       "MonthlyRate                           1\n",
       "OverTime_Yes                          1\n",
       "JobSatisfaction                       1\n",
       "JobLevel                              1\n",
       "DailyRate                             1\n",
       "MonthlyIncome                         1\n",
       "DistanceFromHome                      1\n",
       "EmployeeNumber                        1\n",
       "JobInvolvement                        1\n",
       "EnvironmentSatisfaction               1\n",
       "BusinessTravel_Travel_Frequently      2\n",
       "PercentSalaryHike                     3\n",
       "HourlyRate                            4\n",
       "JobRole_Sales Executive               5\n",
       "JobRole_Sales Representative          6\n",
       "RelationshipSatisfaction              7\n",
       "TrainingTimesLastYear                 8\n",
       "JobRole_Laboratory Technician         9\n",
       "EducationField_Marketing             10\n",
       "YearsInCurrentRole                   11\n",
       "EducationField_Technical Degree      12\n",
       "Department_Research & Development    13\n",
       "JobRole_Research Scientist           14\n",
       "MaritalStatus_Divorced               15\n",
       "Education                            16\n",
       "Gender_Male                          17\n",
       "EducationField_Medical               18\n",
       "EducationField_Human Resources       19\n",
       "MaritalStatus_Married                20\n",
       "EducationField_Other                 21\n",
       "JobRole_Manufacturing Director       22\n",
       "Department_Sales                     23\n",
       "BusinessTravel_Non-Travel            24\n",
       "Gender_Female                        25\n",
       "EducationField_Life Sciences         26\n",
       "JobRole_Healthcare Representative    27\n",
       "JobRole_Human Resources              28\n",
       "PerformanceRating                    29\n",
       "JobRole_Manager                      30\n",
       "EmployeeCount                        31\n",
       "StandardHours                        32\n",
       "Department_Human Resources           33\n",
       "Over18_Y                             34\n",
       "BusinessTravel_Travel_Rarely         35\n",
       "JobRole_Research Director            36"
      ],
      "text/html": "<div>\n<style scoped>\n    .dataframe tbody tr th:only-of-type {\n        vertical-align: middle;\n    }\n\n    .dataframe tbody tr th {\n        vertical-align: top;\n    }\n\n    .dataframe thead th {\n        text-align: right;\n    }\n</style>\n<table border=\"1\" class=\"dataframe\">\n  <thead>\n    <tr style=\"text-align: right;\">\n      <th></th>\n      <th>Rank</th>\n    </tr>\n  </thead>\n  <tbody>\n    <tr>\n      <th>Age</th>\n      <td>1</td>\n    </tr>\n    <tr>\n      <th>MaritalStatus_Single</th>\n      <td>1</td>\n    </tr>\n    <tr>\n      <th>OverTime_No</th>\n      <td>1</td>\n    </tr>\n    <tr>\n      <th>YearsWithCurrManager</th>\n      <td>1</td>\n    </tr>\n    <tr>\n      <th>YearsSinceLastPromotion</th>\n      <td>1</td>\n    </tr>\n    <tr>\n      <th>YearsAtCompany</th>\n      <td>1</td>\n    </tr>\n    <tr>\n      <th>WorkLifeBalance</th>\n      <td>1</td>\n    </tr>\n    <tr>\n      <th>TotalWorkingYears</th>\n      <td>1</td>\n    </tr>\n    <tr>\n      <th>StockOptionLevel</th>\n      <td>1</td>\n    </tr>\n    <tr>\n      <th>NumCompaniesWorked</th>\n      <td>1</td>\n    </tr>\n    <tr>\n      <th>MonthlyRate</th>\n      <td>1</td>\n    </tr>\n    <tr>\n      <th>OverTime_Yes</th>\n      <td>1</td>\n    </tr>\n    <tr>\n      <th>JobSatisfaction</th>\n      <td>1</td>\n    </tr>\n    <tr>\n      <th>JobLevel</th>\n      <td>1</td>\n    </tr>\n    <tr>\n      <th>DailyRate</th>\n      <td>1</td>\n    </tr>\n    <tr>\n      <th>MonthlyIncome</th>\n      <td>1</td>\n    </tr>\n    <tr>\n      <th>DistanceFromHome</th>\n      <td>1</td>\n    </tr>\n    <tr>\n      <th>EmployeeNumber</th>\n      <td>1</td>\n    </tr>\n    <tr>\n      <th>JobInvolvement</th>\n      <td>1</td>\n    </tr>\n    <tr>\n      <th>EnvironmentSatisfaction</th>\n      <td>1</td>\n    </tr>\n    <tr>\n      <th>BusinessTravel_Travel_Frequently</th>\n      <td>2</td>\n    </tr>\n    <tr>\n      <th>PercentSalaryHike</th>\n      <td>3</td>\n    </tr>\n    <tr>\n      <th>HourlyRate</th>\n      <td>4</td>\n    </tr>\n    <tr>\n      <th>JobRole_Sales Executive</th>\n      <td>5</td>\n    </tr>\n    <tr>\n      <th>JobRole_Sales Representative</th>\n      <td>6</td>\n    </tr>\n    <tr>\n      <th>RelationshipSatisfaction</th>\n      <td>7</td>\n    </tr>\n    <tr>\n      <th>TrainingTimesLastYear</th>\n      <td>8</td>\n    </tr>\n    <tr>\n      <th>JobRole_Laboratory Technician</th>\n      <td>9</td>\n    </tr>\n    <tr>\n      <th>EducationField_Marketing</th>\n      <td>10</td>\n    </tr>\n    <tr>\n      <th>YearsInCurrentRole</th>\n      <td>11</td>\n    </tr>\n    <tr>\n      <th>EducationField_Technical Degree</th>\n      <td>12</td>\n    </tr>\n    <tr>\n      <th>Department_Research &amp; Development</th>\n      <td>13</td>\n    </tr>\n    <tr>\n      <th>JobRole_Research Scientist</th>\n      <td>14</td>\n    </tr>\n    <tr>\n      <th>MaritalStatus_Divorced</th>\n      <td>15</td>\n    </tr>\n    <tr>\n      <th>Education</th>\n      <td>16</td>\n    </tr>\n    <tr>\n      <th>Gender_Male</th>\n      <td>17</td>\n    </tr>\n    <tr>\n      <th>EducationField_Medical</th>\n      <td>18</td>\n    </tr>\n    <tr>\n      <th>EducationField_Human Resources</th>\n      <td>19</td>\n    </tr>\n    <tr>\n      <th>MaritalStatus_Married</th>\n      <td>20</td>\n    </tr>\n    <tr>\n      <th>EducationField_Other</th>\n      <td>21</td>\n    </tr>\n    <tr>\n      <th>JobRole_Manufacturing Director</th>\n      <td>22</td>\n    </tr>\n    <tr>\n      <th>Department_Sales</th>\n      <td>23</td>\n    </tr>\n    <tr>\n      <th>BusinessTravel_Non-Travel</th>\n      <td>24</td>\n    </tr>\n    <tr>\n      <th>Gender_Female</th>\n      <td>25</td>\n    </tr>\n    <tr>\n      <th>EducationField_Life Sciences</th>\n      <td>26</td>\n    </tr>\n    <tr>\n      <th>JobRole_Healthcare Representative</th>\n      <td>27</td>\n    </tr>\n    <tr>\n      <th>JobRole_Human Resources</th>\n      <td>28</td>\n    </tr>\n    <tr>\n      <th>PerformanceRating</th>\n      <td>29</td>\n    </tr>\n    <tr>\n      <th>JobRole_Manager</th>\n      <td>30</td>\n    </tr>\n    <tr>\n      <th>EmployeeCount</th>\n      <td>31</td>\n    </tr>\n    <tr>\n      <th>StandardHours</th>\n      <td>32</td>\n    </tr>\n    <tr>\n      <th>Department_Human Resources</th>\n      <td>33</td>\n    </tr>\n    <tr>\n      <th>Over18_Y</th>\n      <td>34</td>\n    </tr>\n    <tr>\n      <th>BusinessTravel_Travel_Rarely</th>\n      <td>35</td>\n    </tr>\n    <tr>\n      <th>JobRole_Research Director</th>\n      <td>36</td>\n    </tr>\n  </tbody>\n</table>\n</div>"
     },
     "metadata": {},
     "execution_count": 90
    }
   ],
   "source": [
    "# Recurssive relative ranking \n",
    "rfecv_df = pd.DataFrame(rfecv.ranking_,index=X.columns,columns=[\"Rank\"]).sort_values(by=\"Rank\",ascending=True)\n",
    "rfecv_df"
   ]
  },
  {
   "cell_type": "code",
   "execution_count": 92,
   "metadata": {},
   "outputs": [
    {
     "output_type": "error",
     "ename": "AttributeError",
     "evalue": "'RFECV' object has no attribute 'feature_importances_'",
     "traceback": [
      "\u001b[1;31m---------------------------------------------------------------------------\u001b[0m",
      "\u001b[1;31mAttributeError\u001b[0m                            Traceback (most recent call last)",
      "\u001b[1;32m<ipython-input-92-02d9802d8b1a>\u001b[0m in \u001b[0;36m<module>\u001b[1;34m\u001b[0m\n\u001b[1;32m----> 1\u001b[1;33m \u001b[0mrfecv\u001b[0m\u001b[1;33m.\u001b[0m\u001b[0mfeature_importances_\u001b[0m\u001b[1;33m\u001b[0m\u001b[1;33m\u001b[0m\u001b[0m\n\u001b[0m",
      "\u001b[1;31mAttributeError\u001b[0m: 'RFECV' object has no attribute 'feature_importances_'"
     ]
    }
   ],
   "source": [
    "rfecv.feature_importances_"
   ]
  },
  {
   "cell_type": "code",
   "execution_count": 23,
   "metadata": {},
   "outputs": [
    {
     "output_type": "display_data",
     "data": {
      "text/plain": "<Figure size 432x288 with 1 Axes>",
      "image/svg+xml": "<?xml version=\"1.0\" encoding=\"utf-8\" standalone=\"no\"?>\r\n<!DOCTYPE svg PUBLIC \"-//W3C//DTD SVG 1.1//EN\"\r\n  \"http://www.w3.org/Graphics/SVG/1.1/DTD/svg11.dtd\">\r\n<!-- Created with matplotlib (https://matplotlib.org/) -->\r\n<svg height=\"282.278594pt\" version=\"1.1\" viewBox=\"0 0 398.50625 282.278594\" width=\"398.50625pt\" xmlns=\"http://www.w3.org/2000/svg\" xmlns:xlink=\"http://www.w3.org/1999/xlink\">\r\n <defs>\r\n  <style type=\"text/css\">\r\n*{stroke-linecap:butt;stroke-linejoin:round;}\r\n  </style>\r\n </defs>\r\n <g id=\"figure_1\">\r\n  <g id=\"patch_1\">\r\n   <path d=\"M 0 282.278594 \r\nL 398.50625 282.278594 \r\nL 398.50625 0 \r\nL 0 0 \r\nz\r\n\" style=\"fill:none;\"/>\r\n  </g>\r\n  <g id=\"axes_1\">\r\n   <g id=\"patch_2\">\r\n    <path d=\"M 56.50625 244.722344 \r\nL 391.30625 244.722344 \r\nL 391.30625 27.282344 \r\nL 56.50625 27.282344 \r\nz\r\n\" style=\"fill:#ffffff;\"/>\r\n   </g>\r\n   <g id=\"matplotlib.axis_1\">\r\n    <g id=\"xtick_1\">\r\n     <g id=\"line2d_1\">\r\n      <defs>\r\n       <path d=\"M 0 0 \r\nL 0 3.5 \r\n\" id=\"m39979bd146\" style=\"stroke:#000000;stroke-width:0.8;\"/>\r\n      </defs>\r\n      <g>\r\n       <use style=\"stroke:#000000;stroke-width:0.8;\" x=\"66.088068\" xlink:href=\"#m39979bd146\" y=\"244.722344\"/>\r\n      </g>\r\n     </g>\r\n     <g id=\"text_1\">\r\n      <!-- 0 -->\r\n      <defs>\r\n       <path d=\"M 31.78125 66.40625 \r\nQ 24.171875 66.40625 20.328125 58.90625 \r\nQ 16.5 51.421875 16.5 36.375 \r\nQ 16.5 21.390625 20.328125 13.890625 \r\nQ 24.171875 6.390625 31.78125 6.390625 \r\nQ 39.453125 6.390625 43.28125 13.890625 \r\nQ 47.125 21.390625 47.125 36.375 \r\nQ 47.125 51.421875 43.28125 58.90625 \r\nQ 39.453125 66.40625 31.78125 66.40625 \r\nz\r\nM 31.78125 74.21875 \r\nQ 44.046875 74.21875 50.515625 64.515625 \r\nQ 56.984375 54.828125 56.984375 36.375 \r\nQ 56.984375 17.96875 50.515625 8.265625 \r\nQ 44.046875 -1.421875 31.78125 -1.421875 \r\nQ 19.53125 -1.421875 13.0625 8.265625 \r\nQ 6.59375 17.96875 6.59375 36.375 \r\nQ 6.59375 54.828125 13.0625 64.515625 \r\nQ 19.53125 74.21875 31.78125 74.21875 \r\nz\r\n\" id=\"DejaVuSans-48\"/>\r\n      </defs>\r\n      <g transform=\"translate(62.906818 259.320781)scale(0.1 -0.1)\">\r\n       <use xlink:href=\"#DejaVuSans-48\"/>\r\n      </g>\r\n     </g>\r\n    </g>\r\n    <g id=\"xtick_2\">\r\n     <g id=\"line2d_2\">\r\n      <g>\r\n       <use style=\"stroke:#000000;stroke-width:0.8;\" x=\"122.451705\" xlink:href=\"#m39979bd146\" y=\"244.722344\"/>\r\n      </g>\r\n     </g>\r\n     <g id=\"text_2\">\r\n      <!-- 10 -->\r\n      <defs>\r\n       <path d=\"M 12.40625 8.296875 \r\nL 28.515625 8.296875 \r\nL 28.515625 63.921875 \r\nL 10.984375 60.40625 \r\nL 10.984375 69.390625 \r\nL 28.421875 72.90625 \r\nL 38.28125 72.90625 \r\nL 38.28125 8.296875 \r\nL 54.390625 8.296875 \r\nL 54.390625 0 \r\nL 12.40625 0 \r\nz\r\n\" id=\"DejaVuSans-49\"/>\r\n      </defs>\r\n      <g transform=\"translate(116.089205 259.320781)scale(0.1 -0.1)\">\r\n       <use xlink:href=\"#DejaVuSans-49\"/>\r\n       <use x=\"63.623047\" xlink:href=\"#DejaVuSans-48\"/>\r\n      </g>\r\n     </g>\r\n    </g>\r\n    <g id=\"xtick_3\">\r\n     <g id=\"line2d_3\">\r\n      <g>\r\n       <use style=\"stroke:#000000;stroke-width:0.8;\" x=\"178.815341\" xlink:href=\"#m39979bd146\" y=\"244.722344\"/>\r\n      </g>\r\n     </g>\r\n     <g id=\"text_3\">\r\n      <!-- 20 -->\r\n      <defs>\r\n       <path d=\"M 19.1875 8.296875 \r\nL 53.609375 8.296875 \r\nL 53.609375 0 \r\nL 7.328125 0 \r\nL 7.328125 8.296875 \r\nQ 12.9375 14.109375 22.625 23.890625 \r\nQ 32.328125 33.6875 34.8125 36.53125 \r\nQ 39.546875 41.84375 41.421875 45.53125 \r\nQ 43.3125 49.21875 43.3125 52.78125 \r\nQ 43.3125 58.59375 39.234375 62.25 \r\nQ 35.15625 65.921875 28.609375 65.921875 \r\nQ 23.96875 65.921875 18.8125 64.3125 \r\nQ 13.671875 62.703125 7.8125 59.421875 \r\nL 7.8125 69.390625 \r\nQ 13.765625 71.78125 18.9375 73 \r\nQ 24.125 74.21875 28.421875 74.21875 \r\nQ 39.75 74.21875 46.484375 68.546875 \r\nQ 53.21875 62.890625 53.21875 53.421875 \r\nQ 53.21875 48.921875 51.53125 44.890625 \r\nQ 49.859375 40.875 45.40625 35.40625 \r\nQ 44.1875 33.984375 37.640625 27.21875 \r\nQ 31.109375 20.453125 19.1875 8.296875 \r\nz\r\n\" id=\"DejaVuSans-50\"/>\r\n      </defs>\r\n      <g transform=\"translate(172.452841 259.320781)scale(0.1 -0.1)\">\r\n       <use xlink:href=\"#DejaVuSans-50\"/>\r\n       <use x=\"63.623047\" xlink:href=\"#DejaVuSans-48\"/>\r\n      </g>\r\n     </g>\r\n    </g>\r\n    <g id=\"xtick_4\">\r\n     <g id=\"line2d_4\">\r\n      <g>\r\n       <use style=\"stroke:#000000;stroke-width:0.8;\" x=\"235.178977\" xlink:href=\"#m39979bd146\" y=\"244.722344\"/>\r\n      </g>\r\n     </g>\r\n     <g id=\"text_4\">\r\n      <!-- 30 -->\r\n      <defs>\r\n       <path d=\"M 40.578125 39.3125 \r\nQ 47.65625 37.796875 51.625 33 \r\nQ 55.609375 28.21875 55.609375 21.1875 \r\nQ 55.609375 10.40625 48.1875 4.484375 \r\nQ 40.765625 -1.421875 27.09375 -1.421875 \r\nQ 22.515625 -1.421875 17.65625 -0.515625 \r\nQ 12.796875 0.390625 7.625 2.203125 \r\nL 7.625 11.71875 \r\nQ 11.71875 9.328125 16.59375 8.109375 \r\nQ 21.484375 6.890625 26.8125 6.890625 \r\nQ 36.078125 6.890625 40.9375 10.546875 \r\nQ 45.796875 14.203125 45.796875 21.1875 \r\nQ 45.796875 27.640625 41.28125 31.265625 \r\nQ 36.765625 34.90625 28.71875 34.90625 \r\nL 20.21875 34.90625 \r\nL 20.21875 43.015625 \r\nL 29.109375 43.015625 \r\nQ 36.375 43.015625 40.234375 45.921875 \r\nQ 44.09375 48.828125 44.09375 54.296875 \r\nQ 44.09375 59.90625 40.109375 62.90625 \r\nQ 36.140625 65.921875 28.71875 65.921875 \r\nQ 24.65625 65.921875 20.015625 65.03125 \r\nQ 15.375 64.15625 9.8125 62.3125 \r\nL 9.8125 71.09375 \r\nQ 15.4375 72.65625 20.34375 73.4375 \r\nQ 25.25 74.21875 29.59375 74.21875 \r\nQ 40.828125 74.21875 47.359375 69.109375 \r\nQ 53.90625 64.015625 53.90625 55.328125 \r\nQ 53.90625 49.265625 50.4375 45.09375 \r\nQ 46.96875 40.921875 40.578125 39.3125 \r\nz\r\n\" id=\"DejaVuSans-51\"/>\r\n      </defs>\r\n      <g transform=\"translate(228.816477 259.320781)scale(0.1 -0.1)\">\r\n       <use xlink:href=\"#DejaVuSans-51\"/>\r\n       <use x=\"63.623047\" xlink:href=\"#DejaVuSans-48\"/>\r\n      </g>\r\n     </g>\r\n    </g>\r\n    <g id=\"xtick_5\">\r\n     <g id=\"line2d_5\">\r\n      <g>\r\n       <use style=\"stroke:#000000;stroke-width:0.8;\" x=\"291.542614\" xlink:href=\"#m39979bd146\" y=\"244.722344\"/>\r\n      </g>\r\n     </g>\r\n     <g id=\"text_5\">\r\n      <!-- 40 -->\r\n      <defs>\r\n       <path d=\"M 37.796875 64.3125 \r\nL 12.890625 25.390625 \r\nL 37.796875 25.390625 \r\nz\r\nM 35.203125 72.90625 \r\nL 47.609375 72.90625 \r\nL 47.609375 25.390625 \r\nL 58.015625 25.390625 \r\nL 58.015625 17.1875 \r\nL 47.609375 17.1875 \r\nL 47.609375 0 \r\nL 37.796875 0 \r\nL 37.796875 17.1875 \r\nL 4.890625 17.1875 \r\nL 4.890625 26.703125 \r\nz\r\n\" id=\"DejaVuSans-52\"/>\r\n      </defs>\r\n      <g transform=\"translate(285.180114 259.320781)scale(0.1 -0.1)\">\r\n       <use xlink:href=\"#DejaVuSans-52\"/>\r\n       <use x=\"63.623047\" xlink:href=\"#DejaVuSans-48\"/>\r\n      </g>\r\n     </g>\r\n    </g>\r\n    <g id=\"xtick_6\">\r\n     <g id=\"line2d_6\">\r\n      <g>\r\n       <use style=\"stroke:#000000;stroke-width:0.8;\" x=\"347.90625\" xlink:href=\"#m39979bd146\" y=\"244.722344\"/>\r\n      </g>\r\n     </g>\r\n     <g id=\"text_6\">\r\n      <!-- 50 -->\r\n      <defs>\r\n       <path d=\"M 10.796875 72.90625 \r\nL 49.515625 72.90625 \r\nL 49.515625 64.59375 \r\nL 19.828125 64.59375 \r\nL 19.828125 46.734375 \r\nQ 21.96875 47.46875 24.109375 47.828125 \r\nQ 26.265625 48.1875 28.421875 48.1875 \r\nQ 40.625 48.1875 47.75 41.5 \r\nQ 54.890625 34.8125 54.890625 23.390625 \r\nQ 54.890625 11.625 47.5625 5.09375 \r\nQ 40.234375 -1.421875 26.90625 -1.421875 \r\nQ 22.3125 -1.421875 17.546875 -0.640625 \r\nQ 12.796875 0.140625 7.71875 1.703125 \r\nL 7.71875 11.625 \r\nQ 12.109375 9.234375 16.796875 8.0625 \r\nQ 21.484375 6.890625 26.703125 6.890625 \r\nQ 35.15625 6.890625 40.078125 11.328125 \r\nQ 45.015625 15.765625 45.015625 23.390625 \r\nQ 45.015625 31 40.078125 35.4375 \r\nQ 35.15625 39.890625 26.703125 39.890625 \r\nQ 22.75 39.890625 18.8125 39.015625 \r\nQ 14.890625 38.140625 10.796875 36.28125 \r\nz\r\n\" id=\"DejaVuSans-53\"/>\r\n      </defs>\r\n      <g transform=\"translate(341.54375 259.320781)scale(0.1 -0.1)\">\r\n       <use xlink:href=\"#DejaVuSans-53\"/>\r\n       <use x=\"63.623047\" xlink:href=\"#DejaVuSans-48\"/>\r\n      </g>\r\n     </g>\r\n    </g>\r\n    <g id=\"text_7\">\r\n     <!-- Number of features selected -->\r\n     <defs>\r\n      <path d=\"M 9.8125 72.90625 \r\nL 23.09375 72.90625 \r\nL 55.421875 11.921875 \r\nL 55.421875 72.90625 \r\nL 64.984375 72.90625 \r\nL 64.984375 0 \r\nL 51.703125 0 \r\nL 19.390625 60.984375 \r\nL 19.390625 0 \r\nL 9.8125 0 \r\nz\r\n\" id=\"DejaVuSans-78\"/>\r\n      <path d=\"M 8.5 21.578125 \r\nL 8.5 54.6875 \r\nL 17.484375 54.6875 \r\nL 17.484375 21.921875 \r\nQ 17.484375 14.15625 20.5 10.265625 \r\nQ 23.53125 6.390625 29.59375 6.390625 \r\nQ 36.859375 6.390625 41.078125 11.03125 \r\nQ 45.3125 15.671875 45.3125 23.6875 \r\nL 45.3125 54.6875 \r\nL 54.296875 54.6875 \r\nL 54.296875 0 \r\nL 45.3125 0 \r\nL 45.3125 8.40625 \r\nQ 42.046875 3.421875 37.71875 1 \r\nQ 33.40625 -1.421875 27.6875 -1.421875 \r\nQ 18.265625 -1.421875 13.375 4.4375 \r\nQ 8.5 10.296875 8.5 21.578125 \r\nz\r\nM 31.109375 56 \r\nz\r\n\" id=\"DejaVuSans-117\"/>\r\n      <path d=\"M 52 44.1875 \r\nQ 55.375 50.25 60.0625 53.125 \r\nQ 64.75 56 71.09375 56 \r\nQ 79.640625 56 84.28125 50.015625 \r\nQ 88.921875 44.046875 88.921875 33.015625 \r\nL 88.921875 0 \r\nL 79.890625 0 \r\nL 79.890625 32.71875 \r\nQ 79.890625 40.578125 77.09375 44.375 \r\nQ 74.3125 48.1875 68.609375 48.1875 \r\nQ 61.625 48.1875 57.5625 43.546875 \r\nQ 53.515625 38.921875 53.515625 30.90625 \r\nL 53.515625 0 \r\nL 44.484375 0 \r\nL 44.484375 32.71875 \r\nQ 44.484375 40.625 41.703125 44.40625 \r\nQ 38.921875 48.1875 33.109375 48.1875 \r\nQ 26.21875 48.1875 22.15625 43.53125 \r\nQ 18.109375 38.875 18.109375 30.90625 \r\nL 18.109375 0 \r\nL 9.078125 0 \r\nL 9.078125 54.6875 \r\nL 18.109375 54.6875 \r\nL 18.109375 46.1875 \r\nQ 21.1875 51.21875 25.484375 53.609375 \r\nQ 29.78125 56 35.6875 56 \r\nQ 41.65625 56 45.828125 52.96875 \r\nQ 50 49.953125 52 44.1875 \r\nz\r\n\" id=\"DejaVuSans-109\"/>\r\n      <path d=\"M 48.6875 27.296875 \r\nQ 48.6875 37.203125 44.609375 42.84375 \r\nQ 40.53125 48.484375 33.40625 48.484375 \r\nQ 26.265625 48.484375 22.1875 42.84375 \r\nQ 18.109375 37.203125 18.109375 27.296875 \r\nQ 18.109375 17.390625 22.1875 11.75 \r\nQ 26.265625 6.109375 33.40625 6.109375 \r\nQ 40.53125 6.109375 44.609375 11.75 \r\nQ 48.6875 17.390625 48.6875 27.296875 \r\nz\r\nM 18.109375 46.390625 \r\nQ 20.953125 51.265625 25.265625 53.625 \r\nQ 29.59375 56 35.59375 56 \r\nQ 45.5625 56 51.78125 48.09375 \r\nQ 58.015625 40.1875 58.015625 27.296875 \r\nQ 58.015625 14.40625 51.78125 6.484375 \r\nQ 45.5625 -1.421875 35.59375 -1.421875 \r\nQ 29.59375 -1.421875 25.265625 0.953125 \r\nQ 20.953125 3.328125 18.109375 8.203125 \r\nL 18.109375 0 \r\nL 9.078125 0 \r\nL 9.078125 75.984375 \r\nL 18.109375 75.984375 \r\nz\r\n\" id=\"DejaVuSans-98\"/>\r\n      <path d=\"M 56.203125 29.59375 \r\nL 56.203125 25.203125 \r\nL 14.890625 25.203125 \r\nQ 15.484375 15.921875 20.484375 11.0625 \r\nQ 25.484375 6.203125 34.421875 6.203125 \r\nQ 39.59375 6.203125 44.453125 7.46875 \r\nQ 49.3125 8.734375 54.109375 11.28125 \r\nL 54.109375 2.78125 \r\nQ 49.265625 0.734375 44.1875 -0.34375 \r\nQ 39.109375 -1.421875 33.890625 -1.421875 \r\nQ 20.796875 -1.421875 13.15625 6.1875 \r\nQ 5.515625 13.8125 5.515625 26.8125 \r\nQ 5.515625 40.234375 12.765625 48.109375 \r\nQ 20.015625 56 32.328125 56 \r\nQ 43.359375 56 49.78125 48.890625 \r\nQ 56.203125 41.796875 56.203125 29.59375 \r\nz\r\nM 47.21875 32.234375 \r\nQ 47.125 39.59375 43.09375 43.984375 \r\nQ 39.0625 48.390625 32.421875 48.390625 \r\nQ 24.90625 48.390625 20.390625 44.140625 \r\nQ 15.875 39.890625 15.1875 32.171875 \r\nz\r\n\" id=\"DejaVuSans-101\"/>\r\n      <path d=\"M 41.109375 46.296875 \r\nQ 39.59375 47.171875 37.8125 47.578125 \r\nQ 36.03125 48 33.890625 48 \r\nQ 26.265625 48 22.1875 43.046875 \r\nQ 18.109375 38.09375 18.109375 28.8125 \r\nL 18.109375 0 \r\nL 9.078125 0 \r\nL 9.078125 54.6875 \r\nL 18.109375 54.6875 \r\nL 18.109375 46.1875 \r\nQ 20.953125 51.171875 25.484375 53.578125 \r\nQ 30.03125 56 36.53125 56 \r\nQ 37.453125 56 38.578125 55.875 \r\nQ 39.703125 55.765625 41.0625 55.515625 \r\nz\r\n\" id=\"DejaVuSans-114\"/>\r\n      <path id=\"DejaVuSans-32\"/>\r\n      <path d=\"M 30.609375 48.390625 \r\nQ 23.390625 48.390625 19.1875 42.75 \r\nQ 14.984375 37.109375 14.984375 27.296875 \r\nQ 14.984375 17.484375 19.15625 11.84375 \r\nQ 23.34375 6.203125 30.609375 6.203125 \r\nQ 37.796875 6.203125 41.984375 11.859375 \r\nQ 46.1875 17.53125 46.1875 27.296875 \r\nQ 46.1875 37.015625 41.984375 42.703125 \r\nQ 37.796875 48.390625 30.609375 48.390625 \r\nz\r\nM 30.609375 56 \r\nQ 42.328125 56 49.015625 48.375 \r\nQ 55.71875 40.765625 55.71875 27.296875 \r\nQ 55.71875 13.875 49.015625 6.21875 \r\nQ 42.328125 -1.421875 30.609375 -1.421875 \r\nQ 18.84375 -1.421875 12.171875 6.21875 \r\nQ 5.515625 13.875 5.515625 27.296875 \r\nQ 5.515625 40.765625 12.171875 48.375 \r\nQ 18.84375 56 30.609375 56 \r\nz\r\n\" id=\"DejaVuSans-111\"/>\r\n      <path d=\"M 37.109375 75.984375 \r\nL 37.109375 68.5 \r\nL 28.515625 68.5 \r\nQ 23.6875 68.5 21.796875 66.546875 \r\nQ 19.921875 64.59375 19.921875 59.515625 \r\nL 19.921875 54.6875 \r\nL 34.71875 54.6875 \r\nL 34.71875 47.703125 \r\nL 19.921875 47.703125 \r\nL 19.921875 0 \r\nL 10.890625 0 \r\nL 10.890625 47.703125 \r\nL 2.296875 47.703125 \r\nL 2.296875 54.6875 \r\nL 10.890625 54.6875 \r\nL 10.890625 58.5 \r\nQ 10.890625 67.625 15.140625 71.796875 \r\nQ 19.390625 75.984375 28.609375 75.984375 \r\nz\r\n\" id=\"DejaVuSans-102\"/>\r\n      <path d=\"M 34.28125 27.484375 \r\nQ 23.390625 27.484375 19.1875 25 \r\nQ 14.984375 22.515625 14.984375 16.5 \r\nQ 14.984375 11.71875 18.140625 8.90625 \r\nQ 21.296875 6.109375 26.703125 6.109375 \r\nQ 34.1875 6.109375 38.703125 11.40625 \r\nQ 43.21875 16.703125 43.21875 25.484375 \r\nL 43.21875 27.484375 \r\nz\r\nM 52.203125 31.203125 \r\nL 52.203125 0 \r\nL 43.21875 0 \r\nL 43.21875 8.296875 \r\nQ 40.140625 3.328125 35.546875 0.953125 \r\nQ 30.953125 -1.421875 24.3125 -1.421875 \r\nQ 15.921875 -1.421875 10.953125 3.296875 \r\nQ 6 8.015625 6 15.921875 \r\nQ 6 25.140625 12.171875 29.828125 \r\nQ 18.359375 34.515625 30.609375 34.515625 \r\nL 43.21875 34.515625 \r\nL 43.21875 35.40625 \r\nQ 43.21875 41.609375 39.140625 45 \r\nQ 35.0625 48.390625 27.6875 48.390625 \r\nQ 23 48.390625 18.546875 47.265625 \r\nQ 14.109375 46.140625 10.015625 43.890625 \r\nL 10.015625 52.203125 \r\nQ 14.9375 54.109375 19.578125 55.046875 \r\nQ 24.21875 56 28.609375 56 \r\nQ 40.484375 56 46.34375 49.84375 \r\nQ 52.203125 43.703125 52.203125 31.203125 \r\nz\r\n\" id=\"DejaVuSans-97\"/>\r\n      <path d=\"M 18.3125 70.21875 \r\nL 18.3125 54.6875 \r\nL 36.8125 54.6875 \r\nL 36.8125 47.703125 \r\nL 18.3125 47.703125 \r\nL 18.3125 18.015625 \r\nQ 18.3125 11.328125 20.140625 9.421875 \r\nQ 21.96875 7.515625 27.59375 7.515625 \r\nL 36.8125 7.515625 \r\nL 36.8125 0 \r\nL 27.59375 0 \r\nQ 17.1875 0 13.234375 3.875 \r\nQ 9.28125 7.765625 9.28125 18.015625 \r\nL 9.28125 47.703125 \r\nL 2.6875 47.703125 \r\nL 2.6875 54.6875 \r\nL 9.28125 54.6875 \r\nL 9.28125 70.21875 \r\nz\r\n\" id=\"DejaVuSans-116\"/>\r\n      <path d=\"M 44.28125 53.078125 \r\nL 44.28125 44.578125 \r\nQ 40.484375 46.53125 36.375 47.5 \r\nQ 32.28125 48.484375 27.875 48.484375 \r\nQ 21.1875 48.484375 17.84375 46.4375 \r\nQ 14.5 44.390625 14.5 40.28125 \r\nQ 14.5 37.15625 16.890625 35.375 \r\nQ 19.28125 33.59375 26.515625 31.984375 \r\nL 29.59375 31.296875 \r\nQ 39.15625 29.25 43.1875 25.515625 \r\nQ 47.21875 21.78125 47.21875 15.09375 \r\nQ 47.21875 7.46875 41.1875 3.015625 \r\nQ 35.15625 -1.421875 24.609375 -1.421875 \r\nQ 20.21875 -1.421875 15.453125 -0.5625 \r\nQ 10.6875 0.296875 5.421875 2 \r\nL 5.421875 11.28125 \r\nQ 10.40625 8.6875 15.234375 7.390625 \r\nQ 20.0625 6.109375 24.8125 6.109375 \r\nQ 31.15625 6.109375 34.5625 8.28125 \r\nQ 37.984375 10.453125 37.984375 14.40625 \r\nQ 37.984375 18.0625 35.515625 20.015625 \r\nQ 33.0625 21.96875 24.703125 23.78125 \r\nL 21.578125 24.515625 \r\nQ 13.234375 26.265625 9.515625 29.90625 \r\nQ 5.8125 33.546875 5.8125 39.890625 \r\nQ 5.8125 47.609375 11.28125 51.796875 \r\nQ 16.75 56 26.8125 56 \r\nQ 31.78125 56 36.171875 55.265625 \r\nQ 40.578125 54.546875 44.28125 53.078125 \r\nz\r\n\" id=\"DejaVuSans-115\"/>\r\n      <path d=\"M 9.421875 75.984375 \r\nL 18.40625 75.984375 \r\nL 18.40625 0 \r\nL 9.421875 0 \r\nz\r\n\" id=\"DejaVuSans-108\"/>\r\n      <path d=\"M 48.78125 52.59375 \r\nL 48.78125 44.1875 \r\nQ 44.96875 46.296875 41.140625 47.34375 \r\nQ 37.3125 48.390625 33.40625 48.390625 \r\nQ 24.65625 48.390625 19.8125 42.84375 \r\nQ 14.984375 37.3125 14.984375 27.296875 \r\nQ 14.984375 17.28125 19.8125 11.734375 \r\nQ 24.65625 6.203125 33.40625 6.203125 \r\nQ 37.3125 6.203125 41.140625 7.25 \r\nQ 44.96875 8.296875 48.78125 10.40625 \r\nL 48.78125 2.09375 \r\nQ 45.015625 0.34375 40.984375 -0.53125 \r\nQ 36.96875 -1.421875 32.421875 -1.421875 \r\nQ 20.0625 -1.421875 12.78125 6.34375 \r\nQ 5.515625 14.109375 5.515625 27.296875 \r\nQ 5.515625 40.671875 12.859375 48.328125 \r\nQ 20.21875 56 33.015625 56 \r\nQ 37.15625 56 41.109375 55.140625 \r\nQ 45.0625 54.296875 48.78125 52.59375 \r\nz\r\n\" id=\"DejaVuSans-99\"/>\r\n      <path d=\"M 45.40625 46.390625 \r\nL 45.40625 75.984375 \r\nL 54.390625 75.984375 \r\nL 54.390625 0 \r\nL 45.40625 0 \r\nL 45.40625 8.203125 \r\nQ 42.578125 3.328125 38.25 0.953125 \r\nQ 33.9375 -1.421875 27.875 -1.421875 \r\nQ 17.96875 -1.421875 11.734375 6.484375 \r\nQ 5.515625 14.40625 5.515625 27.296875 \r\nQ 5.515625 40.1875 11.734375 48.09375 \r\nQ 17.96875 56 27.875 56 \r\nQ 33.9375 56 38.25 53.625 \r\nQ 42.578125 51.265625 45.40625 46.390625 \r\nz\r\nM 14.796875 27.296875 \r\nQ 14.796875 17.390625 18.875 11.75 \r\nQ 22.953125 6.109375 30.078125 6.109375 \r\nQ 37.203125 6.109375 41.296875 11.75 \r\nQ 45.40625 17.390625 45.40625 27.296875 \r\nQ 45.40625 37.203125 41.296875 42.84375 \r\nQ 37.203125 48.484375 30.078125 48.484375 \r\nQ 22.953125 48.484375 18.875 42.84375 \r\nQ 14.796875 37.203125 14.796875 27.296875 \r\nz\r\n\" id=\"DejaVuSans-100\"/>\r\n     </defs>\r\n     <g transform=\"translate(152.472656 272.998906)scale(0.1 -0.1)\">\r\n      <use xlink:href=\"#DejaVuSans-78\"/>\r\n      <use x=\"74.804688\" xlink:href=\"#DejaVuSans-117\"/>\r\n      <use x=\"138.183594\" xlink:href=\"#DejaVuSans-109\"/>\r\n      <use x=\"235.595703\" xlink:href=\"#DejaVuSans-98\"/>\r\n      <use x=\"299.072266\" xlink:href=\"#DejaVuSans-101\"/>\r\n      <use x=\"360.595703\" xlink:href=\"#DejaVuSans-114\"/>\r\n      <use x=\"401.708984\" xlink:href=\"#DejaVuSans-32\"/>\r\n      <use x=\"433.496094\" xlink:href=\"#DejaVuSans-111\"/>\r\n      <use x=\"494.677734\" xlink:href=\"#DejaVuSans-102\"/>\r\n      <use x=\"529.882812\" xlink:href=\"#DejaVuSans-32\"/>\r\n      <use x=\"561.669922\" xlink:href=\"#DejaVuSans-102\"/>\r\n      <use x=\"596.875\" xlink:href=\"#DejaVuSans-101\"/>\r\n      <use x=\"658.398438\" xlink:href=\"#DejaVuSans-97\"/>\r\n      <use x=\"719.677734\" xlink:href=\"#DejaVuSans-116\"/>\r\n      <use x=\"758.886719\" xlink:href=\"#DejaVuSans-117\"/>\r\n      <use x=\"822.265625\" xlink:href=\"#DejaVuSans-114\"/>\r\n      <use x=\"861.128906\" xlink:href=\"#DejaVuSans-101\"/>\r\n      <use x=\"922.652344\" xlink:href=\"#DejaVuSans-115\"/>\r\n      <use x=\"974.751953\" xlink:href=\"#DejaVuSans-32\"/>\r\n      <use x=\"1006.539062\" xlink:href=\"#DejaVuSans-115\"/>\r\n      <use x=\"1058.638672\" xlink:href=\"#DejaVuSans-101\"/>\r\n      <use x=\"1120.162109\" xlink:href=\"#DejaVuSans-108\"/>\r\n      <use x=\"1147.945312\" xlink:href=\"#DejaVuSans-101\"/>\r\n      <use x=\"1209.46875\" xlink:href=\"#DejaVuSans-99\"/>\r\n      <use x=\"1264.449219\" xlink:href=\"#DejaVuSans-116\"/>\r\n      <use x=\"1303.658203\" xlink:href=\"#DejaVuSans-101\"/>\r\n      <use x=\"1365.181641\" xlink:href=\"#DejaVuSans-100\"/>\r\n     </g>\r\n    </g>\r\n   </g>\r\n   <g id=\"matplotlib.axis_2\">\r\n    <g id=\"ytick_1\">\r\n     <g id=\"line2d_7\">\r\n      <defs>\r\n       <path d=\"M 0 0 \r\nL -3.5 0 \r\n\" id=\"med73e8797c\" style=\"stroke:#000000;stroke-width:0.8;\"/>\r\n      </defs>\r\n      <g>\r\n       <use style=\"stroke:#000000;stroke-width:0.8;\" x=\"56.50625\" xlink:href=\"#med73e8797c\" y=\"234.251666\"/>\r\n      </g>\r\n     </g>\r\n     <g id=\"text_8\">\r\n      <!-- 0.825 -->\r\n      <defs>\r\n       <path d=\"M 10.6875 12.40625 \r\nL 21 12.40625 \r\nL 21 0 \r\nL 10.6875 0 \r\nz\r\n\" id=\"DejaVuSans-46\"/>\r\n       <path d=\"M 31.78125 34.625 \r\nQ 24.75 34.625 20.71875 30.859375 \r\nQ 16.703125 27.09375 16.703125 20.515625 \r\nQ 16.703125 13.921875 20.71875 10.15625 \r\nQ 24.75 6.390625 31.78125 6.390625 \r\nQ 38.8125 6.390625 42.859375 10.171875 \r\nQ 46.921875 13.96875 46.921875 20.515625 \r\nQ 46.921875 27.09375 42.890625 30.859375 \r\nQ 38.875 34.625 31.78125 34.625 \r\nz\r\nM 21.921875 38.8125 \r\nQ 15.578125 40.375 12.03125 44.71875 \r\nQ 8.5 49.078125 8.5 55.328125 \r\nQ 8.5 64.0625 14.71875 69.140625 \r\nQ 20.953125 74.21875 31.78125 74.21875 \r\nQ 42.671875 74.21875 48.875 69.140625 \r\nQ 55.078125 64.0625 55.078125 55.328125 \r\nQ 55.078125 49.078125 51.53125 44.71875 \r\nQ 48 40.375 41.703125 38.8125 \r\nQ 48.828125 37.15625 52.796875 32.3125 \r\nQ 56.78125 27.484375 56.78125 20.515625 \r\nQ 56.78125 9.90625 50.3125 4.234375 \r\nQ 43.84375 -1.421875 31.78125 -1.421875 \r\nQ 19.734375 -1.421875 13.25 4.234375 \r\nQ 6.78125 9.90625 6.78125 20.515625 \r\nQ 6.78125 27.484375 10.78125 32.3125 \r\nQ 14.796875 37.15625 21.921875 38.8125 \r\nz\r\nM 18.3125 54.390625 \r\nQ 18.3125 48.734375 21.84375 45.5625 \r\nQ 25.390625 42.390625 31.78125 42.390625 \r\nQ 38.140625 42.390625 41.71875 45.5625 \r\nQ 45.3125 48.734375 45.3125 54.390625 \r\nQ 45.3125 60.0625 41.71875 63.234375 \r\nQ 38.140625 66.40625 31.78125 66.40625 \r\nQ 25.390625 66.40625 21.84375 63.234375 \r\nQ 18.3125 60.0625 18.3125 54.390625 \r\nz\r\n\" id=\"DejaVuSans-56\"/>\r\n      </defs>\r\n      <g transform=\"translate(20.878125 238.050885)scale(0.1 -0.1)\">\r\n       <use xlink:href=\"#DejaVuSans-48\"/>\r\n       <use x=\"63.623047\" xlink:href=\"#DejaVuSans-46\"/>\r\n       <use x=\"95.410156\" xlink:href=\"#DejaVuSans-56\"/>\r\n       <use x=\"159.033203\" xlink:href=\"#DejaVuSans-50\"/>\r\n       <use x=\"222.65625\" xlink:href=\"#DejaVuSans-53\"/>\r\n      </g>\r\n     </g>\r\n    </g>\r\n    <g id=\"ytick_2\">\r\n     <g id=\"line2d_8\">\r\n      <g>\r\n       <use style=\"stroke:#000000;stroke-width:0.8;\" x=\"56.50625\" xlink:href=\"#med73e8797c\" y=\"208.304453\"/>\r\n      </g>\r\n     </g>\r\n     <g id=\"text_9\">\r\n      <!-- 0.830 -->\r\n      <g transform=\"translate(20.878125 212.103671)scale(0.1 -0.1)\">\r\n       <use xlink:href=\"#DejaVuSans-48\"/>\r\n       <use x=\"63.623047\" xlink:href=\"#DejaVuSans-46\"/>\r\n       <use x=\"95.410156\" xlink:href=\"#DejaVuSans-56\"/>\r\n       <use x=\"159.033203\" xlink:href=\"#DejaVuSans-51\"/>\r\n       <use x=\"222.65625\" xlink:href=\"#DejaVuSans-48\"/>\r\n      </g>\r\n     </g>\r\n    </g>\r\n    <g id=\"ytick_3\">\r\n     <g id=\"line2d_9\">\r\n      <g>\r\n       <use style=\"stroke:#000000;stroke-width:0.8;\" x=\"56.50625\" xlink:href=\"#med73e8797c\" y=\"182.357239\"/>\r\n      </g>\r\n     </g>\r\n     <g id=\"text_10\">\r\n      <!-- 0.835 -->\r\n      <g transform=\"translate(20.878125 186.156457)scale(0.1 -0.1)\">\r\n       <use xlink:href=\"#DejaVuSans-48\"/>\r\n       <use x=\"63.623047\" xlink:href=\"#DejaVuSans-46\"/>\r\n       <use x=\"95.410156\" xlink:href=\"#DejaVuSans-56\"/>\r\n       <use x=\"159.033203\" xlink:href=\"#DejaVuSans-51\"/>\r\n       <use x=\"222.65625\" xlink:href=\"#DejaVuSans-53\"/>\r\n      </g>\r\n     </g>\r\n    </g>\r\n    <g id=\"ytick_4\">\r\n     <g id=\"line2d_10\">\r\n      <g>\r\n       <use style=\"stroke:#000000;stroke-width:0.8;\" x=\"56.50625\" xlink:href=\"#med73e8797c\" y=\"156.410025\"/>\r\n      </g>\r\n     </g>\r\n     <g id=\"text_11\">\r\n      <!-- 0.840 -->\r\n      <g transform=\"translate(20.878125 160.209244)scale(0.1 -0.1)\">\r\n       <use xlink:href=\"#DejaVuSans-48\"/>\r\n       <use x=\"63.623047\" xlink:href=\"#DejaVuSans-46\"/>\r\n       <use x=\"95.410156\" xlink:href=\"#DejaVuSans-56\"/>\r\n       <use x=\"159.033203\" xlink:href=\"#DejaVuSans-52\"/>\r\n       <use x=\"222.65625\" xlink:href=\"#DejaVuSans-48\"/>\r\n      </g>\r\n     </g>\r\n    </g>\r\n    <g id=\"ytick_5\">\r\n     <g id=\"line2d_11\">\r\n      <g>\r\n       <use style=\"stroke:#000000;stroke-width:0.8;\" x=\"56.50625\" xlink:href=\"#med73e8797c\" y=\"130.462811\"/>\r\n      </g>\r\n     </g>\r\n     <g id=\"text_12\">\r\n      <!-- 0.845 -->\r\n      <g transform=\"translate(20.878125 134.26203)scale(0.1 -0.1)\">\r\n       <use xlink:href=\"#DejaVuSans-48\"/>\r\n       <use x=\"63.623047\" xlink:href=\"#DejaVuSans-46\"/>\r\n       <use x=\"95.410156\" xlink:href=\"#DejaVuSans-56\"/>\r\n       <use x=\"159.033203\" xlink:href=\"#DejaVuSans-52\"/>\r\n       <use x=\"222.65625\" xlink:href=\"#DejaVuSans-53\"/>\r\n      </g>\r\n     </g>\r\n    </g>\r\n    <g id=\"ytick_6\">\r\n     <g id=\"line2d_12\">\r\n      <g>\r\n       <use style=\"stroke:#000000;stroke-width:0.8;\" x=\"56.50625\" xlink:href=\"#med73e8797c\" y=\"104.515597\"/>\r\n      </g>\r\n     </g>\r\n     <g id=\"text_13\">\r\n      <!-- 0.850 -->\r\n      <g transform=\"translate(20.878125 108.314816)scale(0.1 -0.1)\">\r\n       <use xlink:href=\"#DejaVuSans-48\"/>\r\n       <use x=\"63.623047\" xlink:href=\"#DejaVuSans-46\"/>\r\n       <use x=\"95.410156\" xlink:href=\"#DejaVuSans-56\"/>\r\n       <use x=\"159.033203\" xlink:href=\"#DejaVuSans-53\"/>\r\n       <use x=\"222.65625\" xlink:href=\"#DejaVuSans-48\"/>\r\n      </g>\r\n     </g>\r\n    </g>\r\n    <g id=\"ytick_7\">\r\n     <g id=\"line2d_13\">\r\n      <g>\r\n       <use style=\"stroke:#000000;stroke-width:0.8;\" x=\"56.50625\" xlink:href=\"#med73e8797c\" y=\"78.568383\"/>\r\n      </g>\r\n     </g>\r\n     <g id=\"text_14\">\r\n      <!-- 0.855 -->\r\n      <g transform=\"translate(20.878125 82.367602)scale(0.1 -0.1)\">\r\n       <use xlink:href=\"#DejaVuSans-48\"/>\r\n       <use x=\"63.623047\" xlink:href=\"#DejaVuSans-46\"/>\r\n       <use x=\"95.410156\" xlink:href=\"#DejaVuSans-56\"/>\r\n       <use x=\"159.033203\" xlink:href=\"#DejaVuSans-53\"/>\r\n       <use x=\"222.65625\" xlink:href=\"#DejaVuSans-53\"/>\r\n      </g>\r\n     </g>\r\n    </g>\r\n    <g id=\"ytick_8\">\r\n     <g id=\"line2d_14\">\r\n      <g>\r\n       <use style=\"stroke:#000000;stroke-width:0.8;\" x=\"56.50625\" xlink:href=\"#med73e8797c\" y=\"52.62117\"/>\r\n      </g>\r\n     </g>\r\n     <g id=\"text_15\">\r\n      <!-- 0.860 -->\r\n      <defs>\r\n       <path d=\"M 33.015625 40.375 \r\nQ 26.375 40.375 22.484375 35.828125 \r\nQ 18.609375 31.296875 18.609375 23.390625 \r\nQ 18.609375 15.53125 22.484375 10.953125 \r\nQ 26.375 6.390625 33.015625 6.390625 \r\nQ 39.65625 6.390625 43.53125 10.953125 \r\nQ 47.40625 15.53125 47.40625 23.390625 \r\nQ 47.40625 31.296875 43.53125 35.828125 \r\nQ 39.65625 40.375 33.015625 40.375 \r\nz\r\nM 52.59375 71.296875 \r\nL 52.59375 62.3125 \r\nQ 48.875 64.0625 45.09375 64.984375 \r\nQ 41.3125 65.921875 37.59375 65.921875 \r\nQ 27.828125 65.921875 22.671875 59.328125 \r\nQ 17.53125 52.734375 16.796875 39.40625 \r\nQ 19.671875 43.65625 24.015625 45.921875 \r\nQ 28.375 48.1875 33.59375 48.1875 \r\nQ 44.578125 48.1875 50.953125 41.515625 \r\nQ 57.328125 34.859375 57.328125 23.390625 \r\nQ 57.328125 12.15625 50.6875 5.359375 \r\nQ 44.046875 -1.421875 33.015625 -1.421875 \r\nQ 20.359375 -1.421875 13.671875 8.265625 \r\nQ 6.984375 17.96875 6.984375 36.375 \r\nQ 6.984375 53.65625 15.1875 63.9375 \r\nQ 23.390625 74.21875 37.203125 74.21875 \r\nQ 40.921875 74.21875 44.703125 73.484375 \r\nQ 48.484375 72.75 52.59375 71.296875 \r\nz\r\n\" id=\"DejaVuSans-54\"/>\r\n      </defs>\r\n      <g transform=\"translate(20.878125 56.420388)scale(0.1 -0.1)\">\r\n       <use xlink:href=\"#DejaVuSans-48\"/>\r\n       <use x=\"63.623047\" xlink:href=\"#DejaVuSans-46\"/>\r\n       <use x=\"95.410156\" xlink:href=\"#DejaVuSans-56\"/>\r\n       <use x=\"159.033203\" xlink:href=\"#DejaVuSans-54\"/>\r\n       <use x=\"222.65625\" xlink:href=\"#DejaVuSans-48\"/>\r\n      </g>\r\n     </g>\r\n    </g>\r\n    <g id=\"text_16\">\r\n     <!-- Cross validation score (nb of correct classifications) -->\r\n     <defs>\r\n      <path d=\"M 64.40625 67.28125 \r\nL 64.40625 56.890625 \r\nQ 59.421875 61.53125 53.78125 63.8125 \r\nQ 48.140625 66.109375 41.796875 66.109375 \r\nQ 29.296875 66.109375 22.65625 58.46875 \r\nQ 16.015625 50.828125 16.015625 36.375 \r\nQ 16.015625 21.96875 22.65625 14.328125 \r\nQ 29.296875 6.6875 41.796875 6.6875 \r\nQ 48.140625 6.6875 53.78125 8.984375 \r\nQ 59.421875 11.28125 64.40625 15.921875 \r\nL 64.40625 5.609375 \r\nQ 59.234375 2.09375 53.4375 0.328125 \r\nQ 47.65625 -1.421875 41.21875 -1.421875 \r\nQ 24.65625 -1.421875 15.125 8.703125 \r\nQ 5.609375 18.84375 5.609375 36.375 \r\nQ 5.609375 53.953125 15.125 64.078125 \r\nQ 24.65625 74.21875 41.21875 74.21875 \r\nQ 47.75 74.21875 53.53125 72.484375 \r\nQ 59.328125 70.75 64.40625 67.28125 \r\nz\r\n\" id=\"DejaVuSans-67\"/>\r\n      <path d=\"M 2.984375 54.6875 \r\nL 12.5 54.6875 \r\nL 29.59375 8.796875 \r\nL 46.6875 54.6875 \r\nL 56.203125 54.6875 \r\nL 35.6875 0 \r\nL 23.484375 0 \r\nz\r\n\" id=\"DejaVuSans-118\"/>\r\n      <path d=\"M 9.421875 54.6875 \r\nL 18.40625 54.6875 \r\nL 18.40625 0 \r\nL 9.421875 0 \r\nz\r\nM 9.421875 75.984375 \r\nL 18.40625 75.984375 \r\nL 18.40625 64.59375 \r\nL 9.421875 64.59375 \r\nz\r\n\" id=\"DejaVuSans-105\"/>\r\n      <path d=\"M 54.890625 33.015625 \r\nL 54.890625 0 \r\nL 45.90625 0 \r\nL 45.90625 32.71875 \r\nQ 45.90625 40.484375 42.875 44.328125 \r\nQ 39.84375 48.1875 33.796875 48.1875 \r\nQ 26.515625 48.1875 22.3125 43.546875 \r\nQ 18.109375 38.921875 18.109375 30.90625 \r\nL 18.109375 0 \r\nL 9.078125 0 \r\nL 9.078125 54.6875 \r\nL 18.109375 54.6875 \r\nL 18.109375 46.1875 \r\nQ 21.34375 51.125 25.703125 53.5625 \r\nQ 30.078125 56 35.796875 56 \r\nQ 45.21875 56 50.046875 50.171875 \r\nQ 54.890625 44.34375 54.890625 33.015625 \r\nz\r\n\" id=\"DejaVuSans-110\"/>\r\n      <path d=\"M 31 75.875 \r\nQ 24.46875 64.65625 21.28125 53.65625 \r\nQ 18.109375 42.671875 18.109375 31.390625 \r\nQ 18.109375 20.125 21.3125 9.0625 \r\nQ 24.515625 -2 31 -13.1875 \r\nL 23.1875 -13.1875 \r\nQ 15.875 -1.703125 12.234375 9.375 \r\nQ 8.59375 20.453125 8.59375 31.390625 \r\nQ 8.59375 42.28125 12.203125 53.3125 \r\nQ 15.828125 64.359375 23.1875 75.875 \r\nz\r\n\" id=\"DejaVuSans-40\"/>\r\n      <path d=\"M 8.015625 75.875 \r\nL 15.828125 75.875 \r\nQ 23.140625 64.359375 26.78125 53.3125 \r\nQ 30.421875 42.28125 30.421875 31.390625 \r\nQ 30.421875 20.453125 26.78125 9.375 \r\nQ 23.140625 -1.703125 15.828125 -13.1875 \r\nL 8.015625 -13.1875 \r\nQ 14.5 -2 17.703125 9.0625 \r\nQ 20.90625 20.125 20.90625 31.390625 \r\nQ 20.90625 42.671875 17.703125 53.65625 \r\nQ 14.5 64.65625 8.015625 75.875 \r\nz\r\n\" id=\"DejaVuSans-41\"/>\r\n     </defs>\r\n     <g transform=\"translate(14.798438 264.804688)rotate(-90)scale(0.1 -0.1)\">\r\n      <use xlink:href=\"#DejaVuSans-67\"/>\r\n      <use x=\"69.824219\" xlink:href=\"#DejaVuSans-114\"/>\r\n      <use x=\"108.6875\" xlink:href=\"#DejaVuSans-111\"/>\r\n      <use x=\"169.869141\" xlink:href=\"#DejaVuSans-115\"/>\r\n      <use x=\"221.96875\" xlink:href=\"#DejaVuSans-115\"/>\r\n      <use x=\"274.068359\" xlink:href=\"#DejaVuSans-32\"/>\r\n      <use x=\"305.855469\" xlink:href=\"#DejaVuSans-118\"/>\r\n      <use x=\"365.035156\" xlink:href=\"#DejaVuSans-97\"/>\r\n      <use x=\"426.314453\" xlink:href=\"#DejaVuSans-108\"/>\r\n      <use x=\"454.097656\" xlink:href=\"#DejaVuSans-105\"/>\r\n      <use x=\"481.880859\" xlink:href=\"#DejaVuSans-100\"/>\r\n      <use x=\"545.357422\" xlink:href=\"#DejaVuSans-97\"/>\r\n      <use x=\"606.636719\" xlink:href=\"#DejaVuSans-116\"/>\r\n      <use x=\"645.845703\" xlink:href=\"#DejaVuSans-105\"/>\r\n      <use x=\"673.628906\" xlink:href=\"#DejaVuSans-111\"/>\r\n      <use x=\"734.810547\" xlink:href=\"#DejaVuSans-110\"/>\r\n      <use x=\"798.189453\" xlink:href=\"#DejaVuSans-32\"/>\r\n      <use x=\"829.976562\" xlink:href=\"#DejaVuSans-115\"/>\r\n      <use x=\"882.076172\" xlink:href=\"#DejaVuSans-99\"/>\r\n      <use x=\"937.056641\" xlink:href=\"#DejaVuSans-111\"/>\r\n      <use x=\"998.238281\" xlink:href=\"#DejaVuSans-114\"/>\r\n      <use x=\"1037.101562\" xlink:href=\"#DejaVuSans-101\"/>\r\n      <use x=\"1098.625\" xlink:href=\"#DejaVuSans-32\"/>\r\n      <use x=\"1130.412109\" xlink:href=\"#DejaVuSans-40\"/>\r\n      <use x=\"1169.425781\" xlink:href=\"#DejaVuSans-110\"/>\r\n      <use x=\"1232.804688\" xlink:href=\"#DejaVuSans-98\"/>\r\n      <use x=\"1296.28125\" xlink:href=\"#DejaVuSans-32\"/>\r\n      <use x=\"1328.068359\" xlink:href=\"#DejaVuSans-111\"/>\r\n      <use x=\"1389.25\" xlink:href=\"#DejaVuSans-102\"/>\r\n      <use x=\"1424.455078\" xlink:href=\"#DejaVuSans-32\"/>\r\n      <use x=\"1456.242188\" xlink:href=\"#DejaVuSans-99\"/>\r\n      <use x=\"1511.222656\" xlink:href=\"#DejaVuSans-111\"/>\r\n      <use x=\"1572.404297\" xlink:href=\"#DejaVuSans-114\"/>\r\n      <use x=\"1611.767578\" xlink:href=\"#DejaVuSans-114\"/>\r\n      <use x=\"1650.630859\" xlink:href=\"#DejaVuSans-101\"/>\r\n      <use x=\"1712.154297\" xlink:href=\"#DejaVuSans-99\"/>\r\n      <use x=\"1767.134766\" xlink:href=\"#DejaVuSans-116\"/>\r\n      <use x=\"1806.34375\" xlink:href=\"#DejaVuSans-32\"/>\r\n      <use x=\"1838.130859\" xlink:href=\"#DejaVuSans-99\"/>\r\n      <use x=\"1893.111328\" xlink:href=\"#DejaVuSans-108\"/>\r\n      <use x=\"1920.894531\" xlink:href=\"#DejaVuSans-97\"/>\r\n      <use x=\"1982.173828\" xlink:href=\"#DejaVuSans-115\"/>\r\n      <use x=\"2034.273438\" xlink:href=\"#DejaVuSans-115\"/>\r\n      <use x=\"2086.373047\" xlink:href=\"#DejaVuSans-105\"/>\r\n      <use x=\"2114.15625\" xlink:href=\"#DejaVuSans-102\"/>\r\n      <use x=\"2149.361328\" xlink:href=\"#DejaVuSans-105\"/>\r\n      <use x=\"2177.144531\" xlink:href=\"#DejaVuSans-99\"/>\r\n      <use x=\"2232.125\" xlink:href=\"#DejaVuSans-97\"/>\r\n      <use x=\"2293.404297\" xlink:href=\"#DejaVuSans-116\"/>\r\n      <use x=\"2332.613281\" xlink:href=\"#DejaVuSans-105\"/>\r\n      <use x=\"2360.396484\" xlink:href=\"#DejaVuSans-111\"/>\r\n      <use x=\"2421.578125\" xlink:href=\"#DejaVuSans-110\"/>\r\n      <use x=\"2484.957031\" xlink:href=\"#DejaVuSans-115\"/>\r\n      <use x=\"2537.056641\" xlink:href=\"#DejaVuSans-41\"/>\r\n     </g>\r\n    </g>\r\n   </g>\r\n   <g id=\"line2d_15\">\r\n    <path clip-path=\"url(#pac9b73d51a)\" d=\"M 71.724432 178.39738 \r\nL 77.360795 206.767472 \r\nL 82.997159 234.838707 \r\nL 88.633523 225.552786 \r\nL 94.269886 183.029668 \r\nL 99.90625 168.96203 \r\nL 105.542614 164.223007 \r\nL 111.178977 169.004723 \r\nL 116.815341 135.95965 \r\nL 122.451705 107.760333 \r\nL 128.088068 74.800647 \r\nL 133.724432 69.997584 \r\nL 139.360795 93.607307 \r\nL 144.997159 60.626275 \r\nL 150.633523 65.322603 \r\nL 156.269886 88.97502 \r\nL 161.90625 60.626275 \r\nL 167.542614 74.7793 \r\nL 173.178977 65.34395 \r\nL 178.815341 37.16598 \r\nL 184.451705 79.60371 \r\nL 190.088068 88.996367 \r\nL 195.724432 84.257345 \r\nL 201.360795 93.671348 \r\nL 206.997159 98.367677 \r\nL 212.633523 84.171957 \r\nL 218.269886 112.520702 \r\nL 223.90625 93.778083 \r\nL 229.542614 79.60371 \r\nL 235.178977 84.321386 \r\nL 240.815341 60.711662 \r\nL 246.451705 103.149393 \r\nL 252.088068 70.147013 \r\nL 257.724432 56.079375 \r\nL 263.360795 70.189707 \r\nL 268.997159 93.714042 \r\nL 274.633523 84.321386 \r\nL 280.269886 84.321386 \r\nL 285.90625 103.192087 \r\nL 291.542614 98.431717 \r\nL 297.178977 84.300039 \r\nL 302.815341 79.582363 \r\nL 308.451705 84.300039 \r\nL 314.088068 84.300039 \r\nL 319.724432 84.278692 \r\nL 325.360795 93.714042 \r\nL 330.997159 79.582363 \r\nL 336.633523 79.582363 \r\nL 342.269886 84.278692 \r\nL 347.90625 88.996367 \r\nL 353.542614 88.996367 \r\nL 359.178977 84.278692 \r\nL 364.815341 79.582363 \r\nL 370.451705 79.582363 \r\nL 376.088068 88.996367 \r\n\" style=\"fill:none;stroke:#1f77b4;stroke-linecap:square;stroke-width:1.5;\"/>\r\n   </g>\r\n   <g id=\"patch_3\">\r\n    <path d=\"M 56.50625 244.722344 \r\nL 56.50625 27.282344 \r\n\" style=\"fill:none;stroke:#000000;stroke-linecap:square;stroke-linejoin:miter;stroke-width:0.8;\"/>\r\n   </g>\r\n   <g id=\"patch_4\">\r\n    <path d=\"M 391.30625 244.722344 \r\nL 391.30625 27.282344 \r\n\" style=\"fill:none;stroke:#000000;stroke-linecap:square;stroke-linejoin:miter;stroke-width:0.8;\"/>\r\n   </g>\r\n   <g id=\"patch_5\">\r\n    <path d=\"M 56.50625 244.722344 \r\nL 391.30625 244.722344 \r\n\" style=\"fill:none;stroke:#000000;stroke-linecap:square;stroke-linejoin:miter;stroke-width:0.8;\"/>\r\n   </g>\r\n   <g id=\"patch_6\">\r\n    <path d=\"M 56.50625 27.282344 \r\nL 391.30625 27.282344 \r\n\" style=\"fill:none;stroke:#000000;stroke-linecap:square;stroke-linejoin:miter;stroke-width:0.8;\"/>\r\n   </g>\r\n  </g>\r\n </g>\r\n <defs>\r\n  <clipPath id=\"pac9b73d51a\">\r\n   <rect height=\"217.44\" width=\"334.8\" x=\"56.50625\" y=\"27.282344\"/>\r\n  </clipPath>\r\n </defs>\r\n</svg>\r\n",
      "image/png": "[encoded data removed]"
     },
     "metadata": {
      "needs_background": "light"
     }
    }
   ],
   "source": [
    "# plt.figure(figsize=(12,6))\n",
    "plt.xlabel(\"Number of features selected\")\n",
    "plt.ylabel(\"Cross validation score (nb of correct classifications)\")\n",
    "plt.plot(range(1, len(rfecv.grid_scores_) + 1), rfecv.grid_scores_)\n",
    "plt.show() "
   ]
  },
  {
   "source": [
    "Using DecisionTreeClassifier"
   ],
   "cell_type": "markdown",
   "metadata": {}
  },
  {
   "cell_type": "code",
   "execution_count": null,
   "metadata": {},
   "outputs": [],
   "source": []
  },
  {
   "cell_type": "code",
   "execution_count": null,
   "metadata": {},
   "outputs": [],
   "source": []
  }
 ]
}