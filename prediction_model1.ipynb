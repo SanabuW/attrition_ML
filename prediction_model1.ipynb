{
 "metadata": {
  "language_info": {
   "codemirror_mode": {
    "name": "ipython",
    "version": 3
   },
   "file_extension": ".py",
   "mimetype": "text/x-python",
   "name": "python",
   "nbconvert_exporter": "python",
   "pygments_lexer": "ipython3",
   "version": "3.6.13"
  },
  "orig_nbformat": 2,
  "kernelspec": {
   "name": "python3613jvsc74a57bd021df4bf8aa744819da7029291a170c301aca2ae776ef79a33d4b0d42fed7be0e",
   "display_name": "Python 3.6.13 64-bit ('PythonAdv': conda)"
  }
 },
 "nbformat": 4,
 "nbformat_minor": 2,
 "cells": [
  {
   "cell_type": "code",
   "execution_count": 1,
   "metadata": {},
   "outputs": [],
   "source": [
    "import os  \n",
    "import numpy as np\n",
    "import pandas as pd\n",
    "import matplotlib.pyplot as plt\n",
    "import seaborn as sns\n",
    "from pprint import pprint"
   ]
  },
  {
   "cell_type": "code",
   "execution_count": 15,
   "metadata": {},
   "outputs": [
    {
     "output_type": "execute_result",
     "data": {
      "text/plain": [
       "      Age Attrition     BusinessTravel  DailyRate              Department  \\\n",
       "0      41       Yes      Travel_Rarely       1102                   Sales   \n",
       "1      49        No  Travel_Frequently        279  Research & Development   \n",
       "2      37       Yes      Travel_Rarely       1373  Research & Development   \n",
       "3      33        No  Travel_Frequently       1392  Research & Development   \n",
       "4      27        No      Travel_Rarely        591  Research & Development   \n",
       "...   ...       ...                ...        ...                     ...   \n",
       "1465   36        No  Travel_Frequently        884  Research & Development   \n",
       "1466   39        No      Travel_Rarely        613  Research & Development   \n",
       "1467   27        No      Travel_Rarely        155  Research & Development   \n",
       "1468   49        No  Travel_Frequently       1023                   Sales   \n",
       "1469   34        No      Travel_Rarely        628  Research & Development   \n",
       "\n",
       "      DistanceFromHome  Education EducationField  EmployeeCount  \\\n",
       "0                    1          2  Life Sciences              1   \n",
       "1                    8          1  Life Sciences              1   \n",
       "2                    2          2          Other              1   \n",
       "3                    3          4  Life Sciences              1   \n",
       "4                    2          1        Medical              1   \n",
       "...                ...        ...            ...            ...   \n",
       "1465                23          2        Medical              1   \n",
       "1466                 6          1        Medical              1   \n",
       "1467                 4          3  Life Sciences              1   \n",
       "1468                 2          3        Medical              1   \n",
       "1469                 8          3        Medical              1   \n",
       "\n",
       "      EmployeeNumber  ...  RelationshipSatisfaction StandardHours  \\\n",
       "0                  1  ...                         1            80   \n",
       "1                  2  ...                         4            80   \n",
       "2                  4  ...                         2            80   \n",
       "3                  5  ...                         3            80   \n",
       "4                  7  ...                         4            80   \n",
       "...              ...  ...                       ...           ...   \n",
       "1465            2061  ...                         3            80   \n",
       "1466            2062  ...                         1            80   \n",
       "1467            2064  ...                         2            80   \n",
       "1468            2065  ...                         4            80   \n",
       "1469            2068  ...                         1            80   \n",
       "\n",
       "      StockOptionLevel  TotalWorkingYears  TrainingTimesLastYear  \\\n",
       "0                    0                  8                      0   \n",
       "1                    1                 10                      3   \n",
       "2                    0                  7                      3   \n",
       "3                    0                  8                      3   \n",
       "4                    1                  6                      3   \n",
       "...                ...                ...                    ...   \n",
       "1465                 1                 17                      3   \n",
       "1466                 1                  9                      5   \n",
       "1467                 1                  6                      0   \n",
       "1468                 0                 17                      3   \n",
       "1469                 0                  6                      3   \n",
       "\n",
       "     WorkLifeBalance  YearsAtCompany YearsInCurrentRole  \\\n",
       "0                  1               6                  4   \n",
       "1                  3              10                  7   \n",
       "2                  3               0                  0   \n",
       "3                  3               8                  7   \n",
       "4                  3               2                  2   \n",
       "...              ...             ...                ...   \n",
       "1465               3               5                  2   \n",
       "1466               3               7                  7   \n",
       "1467               3               6                  2   \n",
       "1468               2               9                  6   \n",
       "1469               4               4                  3   \n",
       "\n",
       "      YearsSinceLastPromotion  YearsWithCurrManager  \n",
       "0                           0                     5  \n",
       "1                           1                     7  \n",
       "2                           0                     0  \n",
       "3                           3                     0  \n",
       "4                           2                     2  \n",
       "...                       ...                   ...  \n",
       "1465                        0                     3  \n",
       "1466                        1                     7  \n",
       "1467                        0                     3  \n",
       "1468                        0                     8  \n",
       "1469                        1                     2  \n",
       "\n",
       "[1470 rows x 35 columns]"
      ],
      "text/html": "<div>\n<style scoped>\n    .dataframe tbody tr th:only-of-type {\n        vertical-align: middle;\n    }\n\n    .dataframe tbody tr th {\n        vertical-align: top;\n    }\n\n    .dataframe thead th {\n        text-align: right;\n    }\n</style>\n<table border=\"1\" class=\"dataframe\">\n  <thead>\n    <tr style=\"text-align: right;\">\n      <th></th>\n      <th>Age</th>\n      <th>Attrition</th>\n      <th>BusinessTravel</th>\n      <th>DailyRate</th>\n      <th>Department</th>\n      <th>DistanceFromHome</th>\n      <th>Education</th>\n      <th>EducationField</th>\n      <th>EmployeeCount</th>\n      <th>EmployeeNumber</th>\n      <th>...</th>\n      <th>RelationshipSatisfaction</th>\n      <th>StandardHours</th>\n      <th>StockOptionLevel</th>\n      <th>TotalWorkingYears</th>\n      <th>TrainingTimesLastYear</th>\n      <th>WorkLifeBalance</th>\n      <th>YearsAtCompany</th>\n      <th>YearsInCurrentRole</th>\n      <th>YearsSinceLastPromotion</th>\n      <th>YearsWithCurrManager</th>\n    </tr>\n  </thead>\n  <tbody>\n    <tr>\n      <th>0</th>\n      <td>41</td>\n      <td>Yes</td>\n      <td>Travel_Rarely</td>\n      <td>1102</td>\n      <td>Sales</td>\n      <td>1</td>\n      <td>2</td>\n      <td>Life Sciences</td>\n      <td>1</td>\n      <td>1</td>\n      <td>...</td>\n      <td>1</td>\n      <td>80</td>\n      <td>0</td>\n      <td>8</td>\n      <td>0</td>\n      <td>1</td>\n      <td>6</td>\n      <td>4</td>\n      <td>0</td>\n      <td>5</td>\n    </tr>\n    <tr>\n      <th>1</th>\n      <td>49</td>\n      <td>No</td>\n      <td>Travel_Frequently</td>\n      <td>279</td>\n      <td>Research &amp; Development</td>\n      <td>8</td>\n      <td>1</td>\n      <td>Life Sciences</td>\n      <td>1</td>\n      <td>2</td>\n      <td>...</td>\n      <td>4</td>\n      <td>80</td>\n      <td>1</td>\n      <td>10</td>\n      <td>3</td>\n      <td>3</td>\n      <td>10</td>\n      <td>7</td>\n      <td>1</td>\n      <td>7</td>\n    </tr>\n    <tr>\n      <th>2</th>\n      <td>37</td>\n      <td>Yes</td>\n      <td>Travel_Rarely</td>\n      <td>1373</td>\n      <td>Research &amp; Development</td>\n      <td>2</td>\n      <td>2</td>\n      <td>Other</td>\n      <td>1</td>\n      <td>4</td>\n      <td>...</td>\n      <td>2</td>\n      <td>80</td>\n      <td>0</td>\n      <td>7</td>\n      <td>3</td>\n      <td>3</td>\n      <td>0</td>\n      <td>0</td>\n      <td>0</td>\n      <td>0</td>\n    </tr>\n    <tr>\n      <th>3</th>\n      <td>33</td>\n      <td>No</td>\n      <td>Travel_Frequently</td>\n      <td>1392</td>\n      <td>Research &amp; Development</td>\n      <td>3</td>\n      <td>4</td>\n      <td>Life Sciences</td>\n      <td>1</td>\n      <td>5</td>\n      <td>...</td>\n      <td>3</td>\n      <td>80</td>\n      <td>0</td>\n      <td>8</td>\n      <td>3</td>\n      <td>3</td>\n      <td>8</td>\n      <td>7</td>\n      <td>3</td>\n      <td>0</td>\n    </tr>\n    <tr>\n      <th>4</th>\n      <td>27</td>\n      <td>No</td>\n      <td>Travel_Rarely</td>\n      <td>591</td>\n      <td>Research &amp; Development</td>\n      <td>2</td>\n      <td>1</td>\n      <td>Medical</td>\n      <td>1</td>\n      <td>7</td>\n      <td>...</td>\n      <td>4</td>\n      <td>80</td>\n      <td>1</td>\n      <td>6</td>\n      <td>3</td>\n      <td>3</td>\n      <td>2</td>\n      <td>2</td>\n      <td>2</td>\n      <td>2</td>\n    </tr>\n    <tr>\n      <th>...</th>\n      <td>...</td>\n      <td>...</td>\n      <td>...</td>\n      <td>...</td>\n      <td>...</td>\n      <td>...</td>\n      <td>...</td>\n      <td>...</td>\n      <td>...</td>\n      <td>...</td>\n      <td>...</td>\n      <td>...</td>\n      <td>...</td>\n      <td>...</td>\n      <td>...</td>\n      <td>...</td>\n      <td>...</td>\n      <td>...</td>\n      <td>...</td>\n      <td>...</td>\n      <td>...</td>\n    </tr>\n    <tr>\n      <th>1465</th>\n      <td>36</td>\n      <td>No</td>\n      <td>Travel_Frequently</td>\n      <td>884</td>\n      <td>Research &amp; Development</td>\n      <td>23</td>\n      <td>2</td>\n      <td>Medical</td>\n      <td>1</td>\n      <td>2061</td>\n      <td>...</td>\n      <td>3</td>\n      <td>80</td>\n      <td>1</td>\n      <td>17</td>\n      <td>3</td>\n      <td>3</td>\n      <td>5</td>\n      <td>2</td>\n      <td>0</td>\n      <td>3</td>\n    </tr>\n    <tr>\n      <th>1466</th>\n      <td>39</td>\n      <td>No</td>\n      <td>Travel_Rarely</td>\n      <td>613</td>\n      <td>Research &amp; Development</td>\n      <td>6</td>\n      <td>1</td>\n      <td>Medical</td>\n      <td>1</td>\n      <td>2062</td>\n      <td>...</td>\n      <td>1</td>\n      <td>80</td>\n      <td>1</td>\n      <td>9</td>\n      <td>5</td>\n      <td>3</td>\n      <td>7</td>\n      <td>7</td>\n      <td>1</td>\n      <td>7</td>\n    </tr>\n    <tr>\n      <th>1467</th>\n      <td>27</td>\n      <td>No</td>\n      <td>Travel_Rarely</td>\n      <td>155</td>\n      <td>Research &amp; Development</td>\n      <td>4</td>\n      <td>3</td>\n      <td>Life Sciences</td>\n      <td>1</td>\n      <td>2064</td>\n      <td>...</td>\n      <td>2</td>\n      <td>80</td>\n      <td>1</td>\n      <td>6</td>\n      <td>0</td>\n      <td>3</td>\n      <td>6</td>\n      <td>2</td>\n      <td>0</td>\n      <td>3</td>\n    </tr>\n    <tr>\n      <th>1468</th>\n      <td>49</td>\n      <td>No</td>\n      <td>Travel_Frequently</td>\n      <td>1023</td>\n      <td>Sales</td>\n      <td>2</td>\n      <td>3</td>\n      <td>Medical</td>\n      <td>1</td>\n      <td>2065</td>\n      <td>...</td>\n      <td>4</td>\n      <td>80</td>\n      <td>0</td>\n      <td>17</td>\n      <td>3</td>\n      <td>2</td>\n      <td>9</td>\n      <td>6</td>\n      <td>0</td>\n      <td>8</td>\n    </tr>\n    <tr>\n      <th>1469</th>\n      <td>34</td>\n      <td>No</td>\n      <td>Travel_Rarely</td>\n      <td>628</td>\n      <td>Research &amp; Development</td>\n      <td>8</td>\n      <td>3</td>\n      <td>Medical</td>\n      <td>1</td>\n      <td>2068</td>\n      <td>...</td>\n      <td>1</td>\n      <td>80</td>\n      <td>0</td>\n      <td>6</td>\n      <td>3</td>\n      <td>4</td>\n      <td>4</td>\n      <td>3</td>\n      <td>1</td>\n      <td>2</td>\n    </tr>\n  </tbody>\n</table>\n<p>1470 rows × 35 columns</p>\n</div>"
     },
     "metadata": {},
     "execution_count": 15
    }
   ],
   "source": [
    "# Read in csv data\n",
    "attrition_df = pd.read_csv(\"data/IBM_attrition_data.csv\")\n",
    "data = attrition_df.copy()\n",
    "data"
   ]
  },
  {
   "cell_type": "code",
   "execution_count": 16,
   "metadata": {},
   "outputs": [
    {
     "output_type": "execute_result",
     "data": {
      "text/plain": [
       "      Age Attrition     BusinessTravel  DailyRate              Department  \\\n",
       "417    40        No      Travel_Rarely       1398                   Sales   \n",
       "752    36       Yes      Travel_Rarely        885  Research & Development   \n",
       "304    39        No      Travel_Rarely       1132  Research & Development   \n",
       "1346   45        No      Travel_Rarely        556  Research & Development   \n",
       "83     38        No         Non-Travel        573  Research & Development   \n",
       "542    38        No      Travel_Rarely        168  Research & Development   \n",
       "1174   25        No  Travel_Frequently        772  Research & Development   \n",
       "519    29        No  Travel_Frequently        806  Research & Development   \n",
       "1391   38        No      Travel_Rarely       1404                   Sales   \n",
       "593    36        No      Travel_Rarely        676  Research & Development   \n",
       "861    46        No      Travel_Rarely       1402                   Sales   \n",
       "1232   35        No      Travel_Rarely       1370  Research & Development   \n",
       "126    58       Yes      Travel_Rarely        147  Research & Development   \n",
       "14     28       Yes      Travel_Rarely        103  Research & Development   \n",
       "886    30        No      Travel_Rarely       1465  Research & Development   \n",
       "686    41        No      Travel_Rarely        263  Research & Development   \n",
       "1261   38        No      Travel_Rarely        833  Research & Development   \n",
       "1420   41        No      Travel_Rarely        642  Research & Development   \n",
       "1202   38        No      Travel_Rarely       1495  Research & Development   \n",
       "884    40        No      Travel_Rarely        107                   Sales   \n",
       "\n",
       "      DistanceFromHome  Education    EducationField  EmployeeCount  \\\n",
       "417                  2          4     Life Sciences              1   \n",
       "752                 16          4     Life Sciences              1   \n",
       "304                  1          3           Medical              1   \n",
       "1346                25          2     Life Sciences              1   \n",
       "83                   6          3           Medical              1   \n",
       "542                  1          3     Life Sciences              1   \n",
       "1174                 2          1     Life Sciences              1   \n",
       "519                  1          4     Life Sciences              1   \n",
       "1391                 1          3     Life Sciences              1   \n",
       "593                  1          3             Other              1   \n",
       "861                  2          3         Marketing              1   \n",
       "1232                27          4     Life Sciences              1   \n",
       "126                 23          4           Medical              1   \n",
       "14                  24          3     Life Sciences              1   \n",
       "886                  1          3           Medical              1   \n",
       "686                  6          3           Medical              1   \n",
       "1261                18          3           Medical              1   \n",
       "1420                 1          3     Life Sciences              1   \n",
       "1202                 4          2           Medical              1   \n",
       "884                 10          3  Technical Degree              1   \n",
       "\n",
       "      EmployeeNumber  ...  RelationshipSatisfaction StandardHours  \\\n",
       "417              558  ...                         4            80   \n",
       "752             1042  ...                         3            80   \n",
       "304              417  ...                         1            80   \n",
       "1346            1888  ...                         4            80   \n",
       "83               107  ...                         4            80   \n",
       "542              743  ...                         4            80   \n",
       "1174            1653  ...                         3            80   \n",
       "519              710  ...                         4            80   \n",
       "1391            1961  ...                         1            80   \n",
       "593              823  ...                         1            80   \n",
       "861             1204  ...                         1            80   \n",
       "1232            1728  ...                         2            80   \n",
       "126              165  ...                         4            80   \n",
       "14                19  ...                         2            80   \n",
       "886             1241  ...                         1            80   \n",
       "686              957  ...                         3            80   \n",
       "1261            1766  ...                         3            80   \n",
       "1420            1999  ...                         1            80   \n",
       "1202            1687  ...                         4            80   \n",
       "884             1239  ...                         2            80   \n",
       "\n",
       "      StockOptionLevel  TotalWorkingYears  TrainingTimesLastYear  \\\n",
       "417                  0                 21                      2   \n",
       "752                  0                 18                      1   \n",
       "304                  3                 19                      5   \n",
       "1346                 2                 10                      2   \n",
       "83                   3                 17                      3   \n",
       "542                  0                 10                      4   \n",
       "1174                 2                  7                      6   \n",
       "519                  1                 10                      5   \n",
       "1391                 0                 20                      3   \n",
       "593                  1                 10                      2   \n",
       "861                  0                 28                      2   \n",
       "1232                 1                 17                      3   \n",
       "126                  1                 40                      3   \n",
       "14                   0                  6                      4   \n",
       "886                  1                 12                      2   \n",
       "686                  0                 20                      3   \n",
       "1261                 1                 15                      2   \n",
       "1420                 1                 12                      3   \n",
       "1202                 1                  7                      5   \n",
       "884                  1                  7                      2   \n",
       "\n",
       "     WorkLifeBalance  YearsAtCompany YearsInCurrentRole  \\\n",
       "417                3              20                 15   \n",
       "752                3              17                 13   \n",
       "304                2              18                 10   \n",
       "1346               2               9                  8   \n",
       "83                 3              13                 11   \n",
       "542                4               1                  0   \n",
       "1174               3               7                  7   \n",
       "519                3              10                  7   \n",
       "1391               2               1                  0   \n",
       "593                3               9                  7   \n",
       "861                3              26                 15   \n",
       "1232               3               7                  7   \n",
       "126                2              40                 10   \n",
       "14                 3               4                  2   \n",
       "886                3              11                  9   \n",
       "686                3              18                 13   \n",
       "1261               3               1                  0   \n",
       "1420               3               5                  3   \n",
       "1202               2               0                  0   \n",
       "884                4               5                  1   \n",
       "\n",
       "      YearsSinceLastPromotion  YearsWithCurrManager  \n",
       "417                         1                    12  \n",
       "752                        15                    14  \n",
       "304                         3                     7  \n",
       "1346                        3                     8  \n",
       "83                          1                     9  \n",
       "542                         0                     0  \n",
       "1174                        0                     7  \n",
       "519                         2                     8  \n",
       "1391                        0                     0  \n",
       "593                         0                     5  \n",
       "861                        15                     9  \n",
       "1232                        0                     7  \n",
       "126                        15                     6  \n",
       "14                          0                     3  \n",
       "886                         5                     7  \n",
       "686                         2                    17  \n",
       "1261                        1                     0  \n",
       "1420                        1                     0  \n",
       "1202                        0                     0  \n",
       "884                         1                     3  \n",
       "\n",
       "[20 rows x 35 columns]"
      ],
      "text/html": "<div>\n<style scoped>\n    .dataframe tbody tr th:only-of-type {\n        vertical-align: middle;\n    }\n\n    .dataframe tbody tr th {\n        vertical-align: top;\n    }\n\n    .dataframe thead th {\n        text-align: right;\n    }\n</style>\n<table border=\"1\" class=\"dataframe\">\n  <thead>\n    <tr style=\"text-align: right;\">\n      <th></th>\n      <th>Age</th>\n      <th>Attrition</th>\n      <th>BusinessTravel</th>\n      <th>DailyRate</th>\n      <th>Department</th>\n      <th>DistanceFromHome</th>\n      <th>Education</th>\n      <th>EducationField</th>\n      <th>EmployeeCount</th>\n      <th>EmployeeNumber</th>\n      <th>...</th>\n      <th>RelationshipSatisfaction</th>\n      <th>StandardHours</th>\n      <th>StockOptionLevel</th>\n      <th>TotalWorkingYears</th>\n      <th>TrainingTimesLastYear</th>\n      <th>WorkLifeBalance</th>\n      <th>YearsAtCompany</th>\n      <th>YearsInCurrentRole</th>\n      <th>YearsSinceLastPromotion</th>\n      <th>YearsWithCurrManager</th>\n    </tr>\n  </thead>\n  <tbody>\n    <tr>\n      <th>417</th>\n      <td>40</td>\n      <td>No</td>\n      <td>Travel_Rarely</td>\n      <td>1398</td>\n      <td>Sales</td>\n      <td>2</td>\n      <td>4</td>\n      <td>Life Sciences</td>\n      <td>1</td>\n      <td>558</td>\n      <td>...</td>\n      <td>4</td>\n      <td>80</td>\n      <td>0</td>\n      <td>21</td>\n      <td>2</td>\n      <td>3</td>\n      <td>20</td>\n      <td>15</td>\n      <td>1</td>\n      <td>12</td>\n    </tr>\n    <tr>\n      <th>752</th>\n      <td>36</td>\n      <td>Yes</td>\n      <td>Travel_Rarely</td>\n      <td>885</td>\n      <td>Research &amp; Development</td>\n      <td>16</td>\n      <td>4</td>\n      <td>Life Sciences</td>\n      <td>1</td>\n      <td>1042</td>\n      <td>...</td>\n      <td>3</td>\n      <td>80</td>\n      <td>0</td>\n      <td>18</td>\n      <td>1</td>\n      <td>3</td>\n      <td>17</td>\n      <td>13</td>\n      <td>15</td>\n      <td>14</td>\n    </tr>\n    <tr>\n      <th>304</th>\n      <td>39</td>\n      <td>No</td>\n      <td>Travel_Rarely</td>\n      <td>1132</td>\n      <td>Research &amp; Development</td>\n      <td>1</td>\n      <td>3</td>\n      <td>Medical</td>\n      <td>1</td>\n      <td>417</td>\n      <td>...</td>\n      <td>1</td>\n      <td>80</td>\n      <td>3</td>\n      <td>19</td>\n      <td>5</td>\n      <td>2</td>\n      <td>18</td>\n      <td>10</td>\n      <td>3</td>\n      <td>7</td>\n    </tr>\n    <tr>\n      <th>1346</th>\n      <td>45</td>\n      <td>No</td>\n      <td>Travel_Rarely</td>\n      <td>556</td>\n      <td>Research &amp; Development</td>\n      <td>25</td>\n      <td>2</td>\n      <td>Life Sciences</td>\n      <td>1</td>\n      <td>1888</td>\n      <td>...</td>\n      <td>4</td>\n      <td>80</td>\n      <td>2</td>\n      <td>10</td>\n      <td>2</td>\n      <td>2</td>\n      <td>9</td>\n      <td>8</td>\n      <td>3</td>\n      <td>8</td>\n    </tr>\n    <tr>\n      <th>83</th>\n      <td>38</td>\n      <td>No</td>\n      <td>Non-Travel</td>\n      <td>573</td>\n      <td>Research &amp; Development</td>\n      <td>6</td>\n      <td>3</td>\n      <td>Medical</td>\n      <td>1</td>\n      <td>107</td>\n      <td>...</td>\n      <td>4</td>\n      <td>80</td>\n      <td>3</td>\n      <td>17</td>\n      <td>3</td>\n      <td>3</td>\n      <td>13</td>\n      <td>11</td>\n      <td>1</td>\n      <td>9</td>\n    </tr>\n    <tr>\n      <th>542</th>\n      <td>38</td>\n      <td>No</td>\n      <td>Travel_Rarely</td>\n      <td>168</td>\n      <td>Research &amp; Development</td>\n      <td>1</td>\n      <td>3</td>\n      <td>Life Sciences</td>\n      <td>1</td>\n      <td>743</td>\n      <td>...</td>\n      <td>4</td>\n      <td>80</td>\n      <td>0</td>\n      <td>10</td>\n      <td>4</td>\n      <td>4</td>\n      <td>1</td>\n      <td>0</td>\n      <td>0</td>\n      <td>0</td>\n    </tr>\n    <tr>\n      <th>1174</th>\n      <td>25</td>\n      <td>No</td>\n      <td>Travel_Frequently</td>\n      <td>772</td>\n      <td>Research &amp; Development</td>\n      <td>2</td>\n      <td>1</td>\n      <td>Life Sciences</td>\n      <td>1</td>\n      <td>1653</td>\n      <td>...</td>\n      <td>3</td>\n      <td>80</td>\n      <td>2</td>\n      <td>7</td>\n      <td>6</td>\n      <td>3</td>\n      <td>7</td>\n      <td>7</td>\n      <td>0</td>\n      <td>7</td>\n    </tr>\n    <tr>\n      <th>519</th>\n      <td>29</td>\n      <td>No</td>\n      <td>Travel_Frequently</td>\n      <td>806</td>\n      <td>Research &amp; Development</td>\n      <td>1</td>\n      <td>4</td>\n      <td>Life Sciences</td>\n      <td>1</td>\n      <td>710</td>\n      <td>...</td>\n      <td>4</td>\n      <td>80</td>\n      <td>1</td>\n      <td>10</td>\n      <td>5</td>\n      <td>3</td>\n      <td>10</td>\n      <td>7</td>\n      <td>2</td>\n      <td>8</td>\n    </tr>\n    <tr>\n      <th>1391</th>\n      <td>38</td>\n      <td>No</td>\n      <td>Travel_Rarely</td>\n      <td>1404</td>\n      <td>Sales</td>\n      <td>1</td>\n      <td>3</td>\n      <td>Life Sciences</td>\n      <td>1</td>\n      <td>1961</td>\n      <td>...</td>\n      <td>1</td>\n      <td>80</td>\n      <td>0</td>\n      <td>20</td>\n      <td>3</td>\n      <td>2</td>\n      <td>1</td>\n      <td>0</td>\n      <td>0</td>\n      <td>0</td>\n    </tr>\n    <tr>\n      <th>593</th>\n      <td>36</td>\n      <td>No</td>\n      <td>Travel_Rarely</td>\n      <td>676</td>\n      <td>Research &amp; Development</td>\n      <td>1</td>\n      <td>3</td>\n      <td>Other</td>\n      <td>1</td>\n      <td>823</td>\n      <td>...</td>\n      <td>1</td>\n      <td>80</td>\n      <td>1</td>\n      <td>10</td>\n      <td>2</td>\n      <td>3</td>\n      <td>9</td>\n      <td>7</td>\n      <td>0</td>\n      <td>5</td>\n    </tr>\n    <tr>\n      <th>861</th>\n      <td>46</td>\n      <td>No</td>\n      <td>Travel_Rarely</td>\n      <td>1402</td>\n      <td>Sales</td>\n      <td>2</td>\n      <td>3</td>\n      <td>Marketing</td>\n      <td>1</td>\n      <td>1204</td>\n      <td>...</td>\n      <td>1</td>\n      <td>80</td>\n      <td>0</td>\n      <td>28</td>\n      <td>2</td>\n      <td>3</td>\n      <td>26</td>\n      <td>15</td>\n      <td>15</td>\n      <td>9</td>\n    </tr>\n    <tr>\n      <th>1232</th>\n      <td>35</td>\n      <td>No</td>\n      <td>Travel_Rarely</td>\n      <td>1370</td>\n      <td>Research &amp; Development</td>\n      <td>27</td>\n      <td>4</td>\n      <td>Life Sciences</td>\n      <td>1</td>\n      <td>1728</td>\n      <td>...</td>\n      <td>2</td>\n      <td>80</td>\n      <td>1</td>\n      <td>17</td>\n      <td>3</td>\n      <td>3</td>\n      <td>7</td>\n      <td>7</td>\n      <td>0</td>\n      <td>7</td>\n    </tr>\n    <tr>\n      <th>126</th>\n      <td>58</td>\n      <td>Yes</td>\n      <td>Travel_Rarely</td>\n      <td>147</td>\n      <td>Research &amp; Development</td>\n      <td>23</td>\n      <td>4</td>\n      <td>Medical</td>\n      <td>1</td>\n      <td>165</td>\n      <td>...</td>\n      <td>4</td>\n      <td>80</td>\n      <td>1</td>\n      <td>40</td>\n      <td>3</td>\n      <td>2</td>\n      <td>40</td>\n      <td>10</td>\n      <td>15</td>\n      <td>6</td>\n    </tr>\n    <tr>\n      <th>14</th>\n      <td>28</td>\n      <td>Yes</td>\n      <td>Travel_Rarely</td>\n      <td>103</td>\n      <td>Research &amp; Development</td>\n      <td>24</td>\n      <td>3</td>\n      <td>Life Sciences</td>\n      <td>1</td>\n      <td>19</td>\n      <td>...</td>\n      <td>2</td>\n      <td>80</td>\n      <td>0</td>\n      <td>6</td>\n      <td>4</td>\n      <td>3</td>\n      <td>4</td>\n      <td>2</td>\n      <td>0</td>\n      <td>3</td>\n    </tr>\n    <tr>\n      <th>886</th>\n      <td>30</td>\n      <td>No</td>\n      <td>Travel_Rarely</td>\n      <td>1465</td>\n      <td>Research &amp; Development</td>\n      <td>1</td>\n      <td>3</td>\n      <td>Medical</td>\n      <td>1</td>\n      <td>1241</td>\n      <td>...</td>\n      <td>1</td>\n      <td>80</td>\n      <td>1</td>\n      <td>12</td>\n      <td>2</td>\n      <td>3</td>\n      <td>11</td>\n      <td>9</td>\n      <td>5</td>\n      <td>7</td>\n    </tr>\n    <tr>\n      <th>686</th>\n      <td>41</td>\n      <td>No</td>\n      <td>Travel_Rarely</td>\n      <td>263</td>\n      <td>Research &amp; Development</td>\n      <td>6</td>\n      <td>3</td>\n      <td>Medical</td>\n      <td>1</td>\n      <td>957</td>\n      <td>...</td>\n      <td>3</td>\n      <td>80</td>\n      <td>0</td>\n      <td>20</td>\n      <td>3</td>\n      <td>3</td>\n      <td>18</td>\n      <td>13</td>\n      <td>2</td>\n      <td>17</td>\n    </tr>\n    <tr>\n      <th>1261</th>\n      <td>38</td>\n      <td>No</td>\n      <td>Travel_Rarely</td>\n      <td>833</td>\n      <td>Research &amp; Development</td>\n      <td>18</td>\n      <td>3</td>\n      <td>Medical</td>\n      <td>1</td>\n      <td>1766</td>\n      <td>...</td>\n      <td>3</td>\n      <td>80</td>\n      <td>1</td>\n      <td>15</td>\n      <td>2</td>\n      <td>3</td>\n      <td>1</td>\n      <td>0</td>\n      <td>1</td>\n      <td>0</td>\n    </tr>\n    <tr>\n      <th>1420</th>\n      <td>41</td>\n      <td>No</td>\n      <td>Travel_Rarely</td>\n      <td>642</td>\n      <td>Research &amp; Development</td>\n      <td>1</td>\n      <td>3</td>\n      <td>Life Sciences</td>\n      <td>1</td>\n      <td>1999</td>\n      <td>...</td>\n      <td>1</td>\n      <td>80</td>\n      <td>1</td>\n      <td>12</td>\n      <td>3</td>\n      <td>3</td>\n      <td>5</td>\n      <td>3</td>\n      <td>1</td>\n      <td>0</td>\n    </tr>\n    <tr>\n      <th>1202</th>\n      <td>38</td>\n      <td>No</td>\n      <td>Travel_Rarely</td>\n      <td>1495</td>\n      <td>Research &amp; Development</td>\n      <td>4</td>\n      <td>2</td>\n      <td>Medical</td>\n      <td>1</td>\n      <td>1687</td>\n      <td>...</td>\n      <td>4</td>\n      <td>80</td>\n      <td>1</td>\n      <td>7</td>\n      <td>5</td>\n      <td>2</td>\n      <td>0</td>\n      <td>0</td>\n      <td>0</td>\n      <td>0</td>\n    </tr>\n    <tr>\n      <th>884</th>\n      <td>40</td>\n      <td>No</td>\n      <td>Travel_Rarely</td>\n      <td>107</td>\n      <td>Sales</td>\n      <td>10</td>\n      <td>3</td>\n      <td>Technical Degree</td>\n      <td>1</td>\n      <td>1239</td>\n      <td>...</td>\n      <td>2</td>\n      <td>80</td>\n      <td>1</td>\n      <td>7</td>\n      <td>2</td>\n      <td>4</td>\n      <td>5</td>\n      <td>1</td>\n      <td>1</td>\n      <td>3</td>\n    </tr>\n  </tbody>\n</table>\n<p>20 rows × 35 columns</p>\n</div>"
     },
     "metadata": {},
     "execution_count": 16
    }
   ],
   "source": [
    "data.sample(20)"
   ]
  },
  {
   "cell_type": "code",
   "execution_count": 17,
   "metadata": {},
   "outputs": [
    {
     "output_type": "stream",
     "name": "stdout",
     "text": [
      "<class 'pandas.core.frame.DataFrame'>\nRangeIndex: 1470 entries, 0 to 1469\nData columns (total 35 columns):\n #   Column                    Non-Null Count  Dtype \n---  ------                    --------------  ----- \n 0   Age                       1470 non-null   int64 \n 1   Attrition                 1470 non-null   object\n 2   BusinessTravel            1470 non-null   object\n 3   DailyRate                 1470 non-null   int64 \n 4   Department                1470 non-null   object\n 5   DistanceFromHome          1470 non-null   int64 \n 6   Education                 1470 non-null   int64 \n 7   EducationField            1470 non-null   object\n 8   EmployeeCount             1470 non-null   int64 \n 9   EmployeeNumber            1470 non-null   int64 \n 10  EnvironmentSatisfaction   1470 non-null   int64 \n 11  Gender                    1470 non-null   object\n 12  HourlyRate                1470 non-null   int64 \n 13  JobInvolvement            1470 non-null   int64 \n 14  JobLevel                  1470 non-null   int64 \n 15  JobRole                   1470 non-null   object\n 16  JobSatisfaction           1470 non-null   int64 \n 17  MaritalStatus             1470 non-null   object\n 18  MonthlyIncome             1470 non-null   int64 \n 19  MonthlyRate               1470 non-null   int64 \n 20  NumCompaniesWorked        1470 non-null   int64 \n 21  Over18                    1470 non-null   object\n 22  OverTime                  1470 non-null   object\n 23  PercentSalaryHike         1470 non-null   int64 \n 24  PerformanceRating         1470 non-null   int64 \n 25  RelationshipSatisfaction  1470 non-null   int64 \n 26  StandardHours             1470 non-null   int64 \n 27  StockOptionLevel          1470 non-null   int64 \n 28  TotalWorkingYears         1470 non-null   int64 \n 29  TrainingTimesLastYear     1470 non-null   int64 \n 30  WorkLifeBalance           1470 non-null   int64 \n 31  YearsAtCompany            1470 non-null   int64 \n 32  YearsInCurrentRole        1470 non-null   int64 \n 33  YearsSinceLastPromotion   1470 non-null   int64 \n 34  YearsWithCurrManager      1470 non-null   int64 \ndtypes: int64(26), object(9)\nmemory usage: 402.1+ KB\n"
     ]
    }
   ],
   "source": [
    "# Checking data info\n",
    "data.info()"
   ]
  },
  {
   "cell_type": "code",
   "execution_count": 18,
   "metadata": {},
   "outputs": [],
   "source": [
    "# Drop Over18 column since all employees are over 18\n",
    "data = data.drop([\"Over18\", \"EmployeeCount\", \"StandardHours\", \"EmployeeNumber\"], axis=1)"
   ]
  },
  {
   "cell_type": "code",
   "execution_count": 19,
   "metadata": {},
   "outputs": [
    {
     "output_type": "stream",
     "name": "stdout",
     "text": [
      "<class 'pandas.core.frame.DataFrame'>\nRangeIndex: 1470 entries, 0 to 1469\nData columns (total 31 columns):\n #   Column                    Non-Null Count  Dtype \n---  ------                    --------------  ----- \n 0   Age                       1470 non-null   int64 \n 1   Attrition                 1470 non-null   object\n 2   BusinessTravel            1470 non-null   object\n 3   DailyRate                 1470 non-null   int64 \n 4   Department                1470 non-null   object\n 5   DistanceFromHome          1470 non-null   int64 \n 6   Education                 1470 non-null   int64 \n 7   EducationField            1470 non-null   object\n 8   EnvironmentSatisfaction   1470 non-null   int64 \n 9   Gender                    1470 non-null   object\n 10  HourlyRate                1470 non-null   int64 \n 11  JobInvolvement            1470 non-null   int64 \n 12  JobLevel                  1470 non-null   int64 \n 13  JobRole                   1470 non-null   object\n 14  JobSatisfaction           1470 non-null   int64 \n 15  MaritalStatus             1470 non-null   object\n 16  MonthlyIncome             1470 non-null   int64 \n 17  MonthlyRate               1470 non-null   int64 \n 18  NumCompaniesWorked        1470 non-null   int64 \n 19  OverTime                  1470 non-null   object\n 20  PercentSalaryHike         1470 non-null   int64 \n 21  PerformanceRating         1470 non-null   int64 \n 22  RelationshipSatisfaction  1470 non-null   int64 \n 23  StockOptionLevel          1470 non-null   int64 \n 24  TotalWorkingYears         1470 non-null   int64 \n 25  TrainingTimesLastYear     1470 non-null   int64 \n 26  WorkLifeBalance           1470 non-null   int64 \n 27  YearsAtCompany            1470 non-null   int64 \n 28  YearsInCurrentRole        1470 non-null   int64 \n 29  YearsSinceLastPromotion   1470 non-null   int64 \n 30  YearsWithCurrManager      1470 non-null   int64 \ndtypes: int64(23), object(8)\nmemory usage: 356.1+ KB\n"
     ]
    }
   ],
   "source": [
    "data.info()"
   ]
  },
  {
   "cell_type": "code",
   "execution_count": 24,
   "metadata": {},
   "outputs": [],
   "source": [
    "# # Category Distribution \n",
    "# data[[\"BusinessTravel\", \"Department\", \"Education\", \n",
    "#       \"EducationField\", \"EnvironmentSatisfaction\", \"Gender\",\n",
    "#       \"JobInvolvement\", \"JobRole\", \"JobSatisfaction\", \n",
    "#       \"MaritalStatus\", \"OverTime\", \"PerformanceRating\", \n",
    "#       \"RelationshipSatisfaction\", \"WorkLifeBalance\"]].value_counts()/len(data)"
   ]
  },
  {
   "cell_type": "code",
   "execution_count": null,
   "metadata": {},
   "outputs": [],
   "source": [
    "# sns.pairplot(data[[[[\"BusinessTravel\", \"Department\", \"Education\", \n",
    "#                     \"EducationField\", \"EnvironmentSatisfaction\", \"Gender\",\n",
    "#                     \"JobInvolvement\", \"JobRole\", \"JobSatisfaction\", \n",
    "#                     \"MaritalStatus\", \"OverTime\", \"PerformanceRating\", \n",
    "#                     \"RelationshipSatisfaction\", \"WorkLifeBalance\"]], diag_kind='kde']])"
   ]
  },
  {
   "cell_type": "code",
   "execution_count": 10,
   "metadata": {},
   "outputs": [
    {
     "output_type": "stream",
     "name": "stdout",
     "text": [
      "<class 'pandas.core.frame.DataFrame'>\nRangeIndex: 1470 entries, 0 to 1469\nData columns (total 45 columns):\n #   Column                             Non-Null Count  Dtype\n---  ------                             --------------  -----\n 0   Age                                1470 non-null   int64\n 1   DailyRate                          1470 non-null   int64\n 2   DistanceFromHome                   1470 non-null   int64\n 3   Education                          1470 non-null   int64\n 4   EnvironmentSatisfaction            1470 non-null   int64\n 5   HourlyRate                         1470 non-null   int64\n 6   JobInvolvement                     1470 non-null   int64\n 7   JobLevel                           1470 non-null   int64\n 8   JobSatisfaction                    1470 non-null   int64\n 9   MonthlyIncome                      1470 non-null   int64\n 10  MonthlyRate                        1470 non-null   int64\n 11  NumCompaniesWorked                 1470 non-null   int64\n 12  PercentSalaryHike                  1470 non-null   int64\n 13  PerformanceRating                  1470 non-null   int64\n 14  RelationshipSatisfaction           1470 non-null   int64\n 15  StockOptionLevel                   1470 non-null   int64\n 16  TotalWorkingYears                  1470 non-null   int64\n 17  TrainingTimesLastYear              1470 non-null   int64\n 18  WorkLifeBalance                    1470 non-null   int64\n 19  YearsAtCompany                     1470 non-null   int64\n 20  YearsInCurrentRole                 1470 non-null   int64\n 21  YearsSinceLastPromotion            1470 non-null   int64\n 22  YearsWithCurrManager               1470 non-null   int64\n 23  Attrition                          1470 non-null   uint8\n 24  BusinessTravel_Travel_Frequently   1470 non-null   uint8\n 25  BusinessTravel_Travel_Rarely       1470 non-null   uint8\n 26  Department_Research & Development  1470 non-null   uint8\n 27  Department_Sales                   1470 non-null   uint8\n 28  EducationField_Life Sciences       1470 non-null   uint8\n 29  EducationField_Marketing           1470 non-null   uint8\n 30  EducationField_Medical             1470 non-null   uint8\n 31  EducationField_Other               1470 non-null   uint8\n 32  EducationField_Technical Degree    1470 non-null   uint8\n 33  Gender                             1470 non-null   uint8\n 34  JobRole_Human Resources            1470 non-null   uint8\n 35  JobRole_Laboratory Technician      1470 non-null   uint8\n 36  JobRole_Manager                    1470 non-null   uint8\n 37  JobRole_Manufacturing Director     1470 non-null   uint8\n 38  JobRole_Research Director          1470 non-null   uint8\n 39  JobRole_Research Scientist         1470 non-null   uint8\n 40  JobRole_Sales Executive            1470 non-null   uint8\n 41  JobRole_Sales Representative       1470 non-null   uint8\n 42  MaritalStatus_Married              1470 non-null   uint8\n 43  MaritalStatus_Single               1470 non-null   uint8\n 44  OverTime                           1470 non-null   uint8\ndtypes: int64(23), uint8(22)\nmemory usage: 295.8 KB\n"
     ]
    }
   ],
   "source": [
    "# Rename Attrition_Yes column to Attrition \n",
    "attrition_data = attrition_df.rename(columns={\"Attrition_Yes\": \"Attrition\", \"OverTime_Yes\": \"OverTime\", \"Gender_Male\": \"Gender\"})\n",
    "attrition_data.info()"
   ]
  },
  {
   "cell_type": "code",
   "execution_count": 11,
   "metadata": {},
   "outputs": [
    {
     "output_type": "execute_result",
     "data": {
      "text/plain": [
       "(294, 45)"
      ]
     },
     "metadata": {},
     "execution_count": 11
    }
   ],
   "source": [
    "# Set aside Test Set \n",
    "from sklearn.model_selection import train_test_split\n",
    "\n",
    "# X = attrition_df.drop([\"Attrition\"], axis=1).values\n",
    "# y = attrition_df[\"Attrition\"]\n",
    "\n",
    "train_set, test_set = train_test_split(attrition_data, test_size=0.2, random_state=42)\n",
    "\n",
    "test_set.shape"
   ]
  },
  {
   "cell_type": "code",
   "execution_count": 12,
   "metadata": {},
   "outputs": [],
   "source": [
    "# Export dummy data to csv for tableau plotting\n",
    "filepath = \"attrition_dummy.csv\"\n",
    "attrition_dummy = attrition_data.to_csv(filepath)"
   ]
  },
  {
   "cell_type": "code",
   "execution_count": 13,
   "metadata": {},
   "outputs": [
    {
     "output_type": "execute_result",
     "data": {
      "text/plain": [
       "Attrition                            1.000000\n",
       "OverTime                             0.280567\n",
       "MaritalStatus_Single                 0.205061\n",
       "JobRole_Sales Representative         0.170863\n",
       "BusinessTravel_Travel_Frequently     0.112736\n",
       "JobRole_Laboratory Technician        0.099943\n",
       "Department_Sales                     0.084838\n",
       "DistanceFromHome                     0.067886\n",
       "EducationField_Technical Degree      0.064842\n",
       "NumCompaniesWorked                   0.063013\n",
       "EducationField_Marketing             0.045301\n",
       "Gender                               0.036962\n",
       "JobRole_Human Resources              0.035862\n",
       "MonthlyRate                          0.019092\n",
       "JobRole_Research Scientist           0.012676\n",
       "JobRole_Sales Executive              0.012341\n",
       "HourlyRate                           0.003221\n",
       "PerformanceRating                   -0.005086\n",
       "EducationField_Other                -0.005969\n",
       "PercentSalaryHike                   -0.017458\n",
       "RelationshipSatisfaction            -0.018682\n",
       "Education                           -0.022896\n",
       "YearsSinceLastPromotion             -0.028593\n",
       "EducationField_Life Sciences        -0.035336\n",
       "EducationField_Medical              -0.039803\n",
       "DailyRate                           -0.039971\n",
       "BusinessTravel_Travel_Rarely        -0.048013\n",
       "TrainingTimesLastYear               -0.060597\n",
       "WorkLifeBalance                     -0.064892\n",
       "EnvironmentSatisfaction             -0.080855\n",
       "JobRole_Manager                     -0.084434\n",
       "JobRole_Manufacturing Director      -0.087040\n",
       "Department_Research & Development   -0.089606\n",
       "JobRole_Research Director           -0.091995\n",
       "MaritalStatus_Married               -0.102940\n",
       "JobSatisfaction                     -0.104915\n",
       "JobInvolvement                      -0.117724\n",
       "YearsAtCompany                      -0.132936\n",
       "Age                                 -0.153240\n",
       "StockOptionLevel                    -0.155555\n",
       "YearsWithCurrManager                -0.158191\n",
       "MonthlyIncome                       -0.159820\n",
       "TotalWorkingYears                   -0.169475\n",
       "JobLevel                            -0.172187\n",
       "YearsInCurrentRole                  -0.177569\n",
       "Name: Attrition, dtype: float64"
      ]
     },
     "metadata": {},
     "execution_count": 13
    }
   ],
   "source": [
    "# Analyze correlation of each variable with the target variable in the train set \n",
    "train_data = train_set.copy()\n",
    "corr_matrix = train_data.corr()\n",
    "corr_matrix[\"Attrition\"].sort_values(ascending=False)"
   ]
  },
  {
   "source": [
    "END"
   ],
   "cell_type": "markdown",
   "metadata": {}
  },
  {
   "cell_type": "code",
   "execution_count": 174,
   "metadata": {},
   "outputs": [
    {
     "output_type": "execute_result",
     "data": {
      "text/plain": [
       "      Age  DailyRate  DistanceFromHome  Education  EnvironmentSatisfaction  \\\n",
       "1097   24        350                21          2                        3   \n",
       "727    18        287                 5          2                        2   \n",
       "254    29       1247                20          2                        4   \n",
       "1175   39        492                12          3                        4   \n",
       "1341   31        311                20          3                        2   \n",
       "...   ...        ...               ...        ...                      ...   \n",
       "1130   35        750                28          3                        2   \n",
       "1294   41        447                 5          3                        2   \n",
       "860    22       1256                 3          4                        3   \n",
       "1459   29       1378                13          2                        4   \n",
       "1126   50        264                 9          3                        3   \n",
       "\n",
       "      HourlyRate  JobInvolvement  JobLevel  JobSatisfaction  MonthlyIncome  \\\n",
       "1097          57               2         1                1           2296   \n",
       "727           73               3         1                4           1051   \n",
       "254           45               3         2                4           6931   \n",
       "1175          66               3         2                2           5295   \n",
       "1341          89               3         2                3           4197   \n",
       "...          ...             ...       ...              ...            ...   \n",
       "1130          46               4         2                3           3407   \n",
       "1294          85               4         2                2           6870   \n",
       "860           48               2         1                4           2853   \n",
       "1459          46               2         2                2           4025   \n",
       "1126          59               3         5                3          19331   \n",
       "\n",
       "      ...  JobRole_Laboratory Technician  JobRole_Manager  \\\n",
       "1097  ...                              1                0   \n",
       "727   ...                              0                0   \n",
       "254   ...                              0                0   \n",
       "1175  ...                              0                0   \n",
       "1341  ...                              1                0   \n",
       "...   ...                            ...              ...   \n",
       "1130  ...                              1                0   \n",
       "1294  ...                              0                0   \n",
       "860   ...                              0                0   \n",
       "1459  ...                              1                0   \n",
       "1126  ...                              0                1   \n",
       "\n",
       "      JobRole_Manufacturing Director  JobRole_Research Director  \\\n",
       "1097                               0                          0   \n",
       "727                                0                          0   \n",
       "254                                0                          0   \n",
       "1175                               1                          0   \n",
       "1341                               0                          0   \n",
       "...                              ...                        ...   \n",
       "1130                               0                          0   \n",
       "1294                               0                          0   \n",
       "860                                0                          0   \n",
       "1459                               0                          0   \n",
       "1126                               0                          0   \n",
       "\n",
       "      JobRole_Research Scientist  JobRole_Sales Executive  \\\n",
       "1097                           0                        0   \n",
       "727                            1                        0   \n",
       "254                            0                        1   \n",
       "1175                           0                        0   \n",
       "1341                           0                        0   \n",
       "...                          ...                      ...   \n",
       "1130                           0                        0   \n",
       "1294                           0                        0   \n",
       "860                            1                        0   \n",
       "1459                           0                        0   \n",
       "1126                           0                        0   \n",
       "\n",
       "      JobRole_Sales Representative  MaritalStatus_Married  \\\n",
       "1097                             0                      0   \n",
       "727                              0                      0   \n",
       "254                              0                      0   \n",
       "1175                             0                      1   \n",
       "1341                             0                      0   \n",
       "...                            ...                    ...   \n",
       "1130                             0                      1   \n",
       "1294                             0                      0   \n",
       "860                              0                      1   \n",
       "1459                             0                      1   \n",
       "1126                             0                      1   \n",
       "\n",
       "      MaritalStatus_Single  OverTime  \n",
       "1097                     0         0  \n",
       "727                      1         0  \n",
       "254                      0         0  \n",
       "1175                     0         0  \n",
       "1341                     0         0  \n",
       "...                    ...       ...  \n",
       "1130                     0         0  \n",
       "1294                     1         0  \n",
       "860                      0         1  \n",
       "1459                     0         1  \n",
       "1126                     0         1  \n",
       "\n",
       "[1176 rows x 44 columns]"
      ],
      "text/html": "<div>\n<style scoped>\n    .dataframe tbody tr th:only-of-type {\n        vertical-align: middle;\n    }\n\n    .dataframe tbody tr th {\n        vertical-align: top;\n    }\n\n    .dataframe thead th {\n        text-align: right;\n    }\n</style>\n<table border=\"1\" class=\"dataframe\">\n  <thead>\n    <tr style=\"text-align: right;\">\n      <th></th>\n      <th>Age</th>\n      <th>DailyRate</th>\n      <th>DistanceFromHome</th>\n      <th>Education</th>\n      <th>EnvironmentSatisfaction</th>\n      <th>HourlyRate</th>\n      <th>JobInvolvement</th>\n      <th>JobLevel</th>\n      <th>JobSatisfaction</th>\n      <th>MonthlyIncome</th>\n      <th>...</th>\n      <th>JobRole_Laboratory Technician</th>\n      <th>JobRole_Manager</th>\n      <th>JobRole_Manufacturing Director</th>\n      <th>JobRole_Research Director</th>\n      <th>JobRole_Research Scientist</th>\n      <th>JobRole_Sales Executive</th>\n      <th>JobRole_Sales Representative</th>\n      <th>MaritalStatus_Married</th>\n      <th>MaritalStatus_Single</th>\n      <th>OverTime</th>\n    </tr>\n  </thead>\n  <tbody>\n    <tr>\n      <th>1097</th>\n      <td>24</td>\n      <td>350</td>\n      <td>21</td>\n      <td>2</td>\n      <td>3</td>\n      <td>57</td>\n      <td>2</td>\n      <td>1</td>\n      <td>1</td>\n      <td>2296</td>\n      <td>...</td>\n      <td>1</td>\n      <td>0</td>\n      <td>0</td>\n      <td>0</td>\n      <td>0</td>\n      <td>0</td>\n      <td>0</td>\n      <td>0</td>\n      <td>0</td>\n      <td>0</td>\n    </tr>\n    <tr>\n      <th>727</th>\n      <td>18</td>\n      <td>287</td>\n      <td>5</td>\n      <td>2</td>\n      <td>2</td>\n      <td>73</td>\n      <td>3</td>\n      <td>1</td>\n      <td>4</td>\n      <td>1051</td>\n      <td>...</td>\n      <td>0</td>\n      <td>0</td>\n      <td>0</td>\n      <td>0</td>\n      <td>1</td>\n      <td>0</td>\n      <td>0</td>\n      <td>0</td>\n      <td>1</td>\n      <td>0</td>\n    </tr>\n    <tr>\n      <th>254</th>\n      <td>29</td>\n      <td>1247</td>\n      <td>20</td>\n      <td>2</td>\n      <td>4</td>\n      <td>45</td>\n      <td>3</td>\n      <td>2</td>\n      <td>4</td>\n      <td>6931</td>\n      <td>...</td>\n      <td>0</td>\n      <td>0</td>\n      <td>0</td>\n      <td>0</td>\n      <td>0</td>\n      <td>1</td>\n      <td>0</td>\n      <td>0</td>\n      <td>0</td>\n      <td>0</td>\n    </tr>\n    <tr>\n      <th>1175</th>\n      <td>39</td>\n      <td>492</td>\n      <td>12</td>\n      <td>3</td>\n      <td>4</td>\n      <td>66</td>\n      <td>3</td>\n      <td>2</td>\n      <td>2</td>\n      <td>5295</td>\n      <td>...</td>\n      <td>0</td>\n      <td>0</td>\n      <td>1</td>\n      <td>0</td>\n      <td>0</td>\n      <td>0</td>\n      <td>0</td>\n      <td>1</td>\n      <td>0</td>\n      <td>0</td>\n    </tr>\n    <tr>\n      <th>1341</th>\n      <td>31</td>\n      <td>311</td>\n      <td>20</td>\n      <td>3</td>\n      <td>2</td>\n      <td>89</td>\n      <td>3</td>\n      <td>2</td>\n      <td>3</td>\n      <td>4197</td>\n      <td>...</td>\n      <td>1</td>\n      <td>0</td>\n      <td>0</td>\n      <td>0</td>\n      <td>0</td>\n      <td>0</td>\n      <td>0</td>\n      <td>0</td>\n      <td>0</td>\n      <td>0</td>\n    </tr>\n    <tr>\n      <th>...</th>\n      <td>...</td>\n      <td>...</td>\n      <td>...</td>\n      <td>...</td>\n      <td>...</td>\n      <td>...</td>\n      <td>...</td>\n      <td>...</td>\n      <td>...</td>\n      <td>...</td>\n      <td>...</td>\n      <td>...</td>\n      <td>...</td>\n      <td>...</td>\n      <td>...</td>\n      <td>...</td>\n      <td>...</td>\n      <td>...</td>\n      <td>...</td>\n      <td>...</td>\n      <td>...</td>\n    </tr>\n    <tr>\n      <th>1130</th>\n      <td>35</td>\n      <td>750</td>\n      <td>28</td>\n      <td>3</td>\n      <td>2</td>\n      <td>46</td>\n      <td>4</td>\n      <td>2</td>\n      <td>3</td>\n      <td>3407</td>\n      <td>...</td>\n      <td>1</td>\n      <td>0</td>\n      <td>0</td>\n      <td>0</td>\n      <td>0</td>\n      <td>0</td>\n      <td>0</td>\n      <td>1</td>\n      <td>0</td>\n      <td>0</td>\n    </tr>\n    <tr>\n      <th>1294</th>\n      <td>41</td>\n      <td>447</td>\n      <td>5</td>\n      <td>3</td>\n      <td>2</td>\n      <td>85</td>\n      <td>4</td>\n      <td>2</td>\n      <td>2</td>\n      <td>6870</td>\n      <td>...</td>\n      <td>0</td>\n      <td>0</td>\n      <td>0</td>\n      <td>0</td>\n      <td>0</td>\n      <td>0</td>\n      <td>0</td>\n      <td>0</td>\n      <td>1</td>\n      <td>0</td>\n    </tr>\n    <tr>\n      <th>860</th>\n      <td>22</td>\n      <td>1256</td>\n      <td>3</td>\n      <td>4</td>\n      <td>3</td>\n      <td>48</td>\n      <td>2</td>\n      <td>1</td>\n      <td>4</td>\n      <td>2853</td>\n      <td>...</td>\n      <td>0</td>\n      <td>0</td>\n      <td>0</td>\n      <td>0</td>\n      <td>1</td>\n      <td>0</td>\n      <td>0</td>\n      <td>1</td>\n      <td>0</td>\n      <td>1</td>\n    </tr>\n    <tr>\n      <th>1459</th>\n      <td>29</td>\n      <td>1378</td>\n      <td>13</td>\n      <td>2</td>\n      <td>4</td>\n      <td>46</td>\n      <td>2</td>\n      <td>2</td>\n      <td>2</td>\n      <td>4025</td>\n      <td>...</td>\n      <td>1</td>\n      <td>0</td>\n      <td>0</td>\n      <td>0</td>\n      <td>0</td>\n      <td>0</td>\n      <td>0</td>\n      <td>1</td>\n      <td>0</td>\n      <td>1</td>\n    </tr>\n    <tr>\n      <th>1126</th>\n      <td>50</td>\n      <td>264</td>\n      <td>9</td>\n      <td>3</td>\n      <td>3</td>\n      <td>59</td>\n      <td>3</td>\n      <td>5</td>\n      <td>3</td>\n      <td>19331</td>\n      <td>...</td>\n      <td>0</td>\n      <td>1</td>\n      <td>0</td>\n      <td>0</td>\n      <td>0</td>\n      <td>0</td>\n      <td>0</td>\n      <td>1</td>\n      <td>0</td>\n      <td>1</td>\n    </tr>\n  </tbody>\n</table>\n<p>1176 rows × 44 columns</p>\n</div>"
     },
     "metadata": {},
     "execution_count": 174
    }
   ],
   "source": [
    "# Setting target and feature variables in the training data set\n",
    "X = train_set.drop([\"Attrition\"], axis=1)\n",
    "y = train_set[\"Attrition\"].copy()\n",
    "X"
   ]
  },
  {
   "cell_type": "code",
   "execution_count": 175,
   "metadata": {},
   "outputs": [
    {
     "output_type": "execute_result",
     "data": {
      "text/plain": [
       "array([-1.38855944, -1.10813858,  1.44039645, -0.86335572,  0.2797056 ,\n",
       "       -0.47283217, -1.01234042, -0.9322736 , -1.58233648, -0.86827746,\n",
       "       -0.60189535, -1.05916816, -0.33924934, -0.42929015, -0.63982217,\n",
       "        2.54747106, -1.1673683 ,  0.15731946,  0.3574354 , -0.97426331,\n",
       "       -0.88820751, -0.67610953, -1.14244794, -0.49041445,  0.63904869,\n",
       "        0.73297674, -0.66554097, -0.84663352, -0.34332306, -0.67620195,\n",
       "       -0.24966102,  3.2624476 ,  0.81447304, -0.19245009,  2.18282063,\n",
       "       -0.26835533, -0.31637564, -0.24773341, -0.50901929, -0.52486957,\n",
       "       -0.26099788, -0.93733358, -0.66288195, -0.63641018])"
      ]
     },
     "metadata": {},
     "execution_count": 175
    }
   ],
   "source": [
    "# Creating a Pipeline of Tasks \n",
    "##Using Pipeline class\n",
    "from sklearn.pipeline import Pipeline\n",
    "##Using StandardScaler to scale all the numerical attributes\n",
    "from sklearn.preprocessing import StandardScaler\n",
    "\n",
    "numerics = ['uint8', 'int64']\n",
    "\n",
    "num_data = X.select_dtypes(include=numerics)\n",
    "\n",
    "##pipeline for numerical attributes\n",
    "##imputing -> adding attributes -> scale them\n",
    "num_pipeline = Pipeline([\n",
    "        ('std_scaler', StandardScaler()),\n",
    "    ])\n",
    "\n",
    "num_data_tr = num_pipeline.fit_transform(num_data)\n",
    "num_data_tr[0]"
   ]
  },
  {
   "cell_type": "code",
   "execution_count": null,
   "metadata": {},
   "outputs": [],
   "source": [
    "##Transform different columns or subsets using ColumnTransformer\n",
    "from sklearn.compose import ColumnTransformer\n",
    "\n",
    "num_attrs = list(num_data)\n",
    "cat_attrs = [\"Origin\"]\n",
    "\n",
    "##complete pipeline to transform \n",
    "##both numerical and cat. attributes\n",
    "full_pipeline = ColumnTransformer([\n",
    "        (\"num\", num_pipeline, num_attrs),\n",
    "        (\"cat\", OneHotEncoder(), cat_attrs),\n",
    "    ])\n",
    "\n",
    "prepared_data = full_pipeline.fit_transform(data)\n",
    "prepared_data[0]"
   ]
  },
  {
   "cell_type": "code",
   "execution_count": null,
   "metadata": {},
   "outputs": [],
   "source": []
  },
  {
   "cell_type": "code",
   "execution_count": 110,
   "metadata": {},
   "outputs": [],
   "source": [
    "# # Set up data transformation pipeline for numerical data \n",
    "# def num_pipeline_transformer(attrition_data):\n",
    "#     '''\n",
    "#     Function to process numerical transformations\n",
    "#     Argument:\n",
    "#         data: original dataframe \n",
    "#     Returns:\n",
    "#         num_attrs: numerical dataframe\n",
    "#         num_pipeline: numerical pipeline object\n",
    "        \n",
    "#     '''\n",
    "#     numerics = ['uint8','int64']\n",
    "\n",
    "#     num_attrs = attrition_data.select_dtypes(include=numerics)\n",
    "\n",
    "#     num_pipeline = Pipeline([\n",
    "#         ('std_scaler', StandardScaler()),\n",
    "#         ])\n",
    "#     return num_attrs, num_pipeline\n"
   ]
  },
  {
   "cell_type": "code",
   "execution_count": 114,
   "metadata": {},
   "outputs": [],
   "source": [
    "# # Set up data transformation pipeline for numerical and categorical data \n",
    "# def pipeline_transformer(attrition_data):\n",
    "#     '''\n",
    "#     Complete transformation pipeline for both\n",
    "#     nuerical and categorical data.\n",
    "    \n",
    "#     Argument:\n",
    "#         data: original dataframe \n",
    "#     Returns:\n",
    "#         prepared_data: transformed data, ready to use\n",
    "#     '''\n",
    "#     category_cols = [\"Attrition\"]\n",
    "\n",
    "#     num_attrs, num_pipeline = num_pipeline_transformer(attrition_data)\n",
    "#     full_pipeline = ColumnTransformer([\n",
    "#         (\"num\", num_pipeline, list(num_attrs)),\n",
    "#         (\"cat\", OneHotEncoder(), category_cols),\n",
    "#         ])\n",
    "#     prepared_data = full_pipeline.fit_transform(attrition_data)\n",
    "#     return prepared_data"
   ]
  },
  {
   "cell_type": "code",
   "execution_count": 115,
   "metadata": {},
   "outputs": [],
   "source": [
    "# # # Final automation \n",
    "# # ## Preprocess the Attrition column in data\n",
    "# def preprocess_attrition_cols(attrition_data):\n",
    "#     attrition_data[\"Attrition\"] = attrition_data[\"Attrition\"].map({0: \"No\", 1: \"Yes\"})\n",
    "#     return attrition_data"
   ]
  },
  {
   "cell_type": "code",
   "execution_count": 116,
   "metadata": {},
   "outputs": [
    {
     "output_type": "execute_result",
     "data": {
      "text/plain": [
       "array([[ 0.4463504 ,  0.74252653, -1.01090934, ...,  1.45864991,\n",
       "         1.59174553,  1.        ],\n",
       "       [ 1.32236521, -1.2977746 , -0.14714972, ..., -0.68556546,\n",
       "        -0.62824112,  1.        ],\n",
       "       [ 0.008343  ,  1.41436324, -0.88751511, ...,  1.45864991,\n",
       "         1.59174553,  1.        ],\n",
       "       ...,\n",
       "       [-1.08667552, -1.60518328, -0.64072665, ..., -0.68556546,\n",
       "         1.59174553,  1.        ],\n",
       "       [ 1.32236521,  0.54667746, -0.88751511, ..., -0.68556546,\n",
       "        -0.62824112,  1.        ],\n",
       "       [-0.32016256, -0.43256792, -0.14714972, ..., -0.68556546,\n",
       "        -0.62824112,  1.        ]])"
      ]
     },
     "metadata": {},
     "execution_count": 116
    }
   ],
   "source": [
    "# ## Call the final pipeline transformer\n",
    "# preprocessed_df = preprocess_attrition_cols(attrition_data)\n",
    "# prepared_data = pipeline_transformer(preprocessed_df)\n",
    "# prepared_data"
   ]
  },
  {
   "cell_type": "code",
   "execution_count": 73,
   "metadata": {},
   "outputs": [
    {
     "output_type": "execute_result",
     "data": {
      "text/plain": [
       "array([ 0.4463504 ,  0.74252653, -1.01090934, -0.89168825, -0.66053067,\n",
       "        1.38313827,  0.37967213, -0.05778755,  1.15325359, -0.10834951,\n",
       "        0.72601994,  2.12513592, -1.1505541 , -0.42623002, -1.58417824,\n",
       "       -0.93201439, -0.42164246, -2.17198183, -2.49382042, -0.16461311,\n",
       "       -0.0632959 , -0.67914568,  0.24583399,  1.        ])"
      ]
     },
     "metadata": {},
     "execution_count": 73
    }
   ],
   "source": [
    "# # Attrition column\n",
    "# prepared_data[]"
   ]
  },
  {
   "cell_type": "code",
   "execution_count": 122,
   "metadata": {},
   "outputs": [
    {
     "output_type": "error",
     "ename": "ValueError",
     "evalue": "Input contains NaN",
     "traceback": [
      "\u001b[1;31m---------------------------------------------------------------------------\u001b[0m",
      "\u001b[1;31mValueError\u001b[0m                                Traceback (most recent call last)",
      "\u001b[1;32m<ipython-input-122-2eecac85a3c0>\u001b[0m in \u001b[0;36m<module>\u001b[1;34m\u001b[0m\n\u001b[0;32m      4\u001b[0m \u001b[1;33m\u001b[0m\u001b[0m\n\u001b[0;32m      5\u001b[0m \u001b[0mmodel\u001b[0m \u001b[1;33m=\u001b[0m \u001b[0mDecisionTreeClassifier\u001b[0m\u001b[1;33m(\u001b[0m\u001b[1;33m)\u001b[0m\u001b[1;33m\u001b[0m\u001b[1;33m\u001b[0m\u001b[0m\n\u001b[1;32m----> 6\u001b[1;33m \u001b[0mmodel\u001b[0m\u001b[1;33m.\u001b[0m\u001b[0mfit\u001b[0m\u001b[1;33m(\u001b[0m\u001b[0mprepared_data\u001b[0m\u001b[1;33m,\u001b[0m \u001b[0my_train\u001b[0m\u001b[1;33m)\u001b[0m\u001b[1;33m\u001b[0m\u001b[1;33m\u001b[0m\u001b[0m\n\u001b[0m",
      "\u001b[1;32m~\\anaconda3\\envs\\PythonAdv\\lib\\site-packages\\sklearn\\tree\\_classes.py\u001b[0m in \u001b[0;36mfit\u001b[1;34m(self, X, y, sample_weight, check_input, X_idx_sorted)\u001b[0m\n\u001b[0;32m    900\u001b[0m             \u001b[0msample_weight\u001b[0m\u001b[1;33m=\u001b[0m\u001b[0msample_weight\u001b[0m\u001b[1;33m,\u001b[0m\u001b[1;33m\u001b[0m\u001b[1;33m\u001b[0m\u001b[0m\n\u001b[0;32m    901\u001b[0m             \u001b[0mcheck_input\u001b[0m\u001b[1;33m=\u001b[0m\u001b[0mcheck_input\u001b[0m\u001b[1;33m,\u001b[0m\u001b[1;33m\u001b[0m\u001b[1;33m\u001b[0m\u001b[0m\n\u001b[1;32m--> 902\u001b[1;33m             X_idx_sorted=X_idx_sorted)\n\u001b[0m\u001b[0;32m    903\u001b[0m         \u001b[1;32mreturn\u001b[0m \u001b[0mself\u001b[0m\u001b[1;33m\u001b[0m\u001b[1;33m\u001b[0m\u001b[0m\n\u001b[0;32m    904\u001b[0m \u001b[1;33m\u001b[0m\u001b[0m\n",
      "\u001b[1;32m~\\anaconda3\\envs\\PythonAdv\\lib\\site-packages\\sklearn\\tree\\_classes.py\u001b[0m in \u001b[0;36mfit\u001b[1;34m(self, X, y, sample_weight, check_input, X_idx_sorted)\u001b[0m\n\u001b[0;32m    156\u001b[0m             X, y = self._validate_data(X, y,\n\u001b[0;32m    157\u001b[0m                                        validate_separately=(check_X_params,\n\u001b[1;32m--> 158\u001b[1;33m                                                             check_y_params))\n\u001b[0m\u001b[0;32m    159\u001b[0m             \u001b[1;32mif\u001b[0m \u001b[0missparse\u001b[0m\u001b[1;33m(\u001b[0m\u001b[0mX\u001b[0m\u001b[1;33m)\u001b[0m\u001b[1;33m:\u001b[0m\u001b[1;33m\u001b[0m\u001b[1;33m\u001b[0m\u001b[0m\n\u001b[0;32m    160\u001b[0m                 \u001b[0mX\u001b[0m\u001b[1;33m.\u001b[0m\u001b[0msort_indices\u001b[0m\u001b[1;33m(\u001b[0m\u001b[1;33m)\u001b[0m\u001b[1;33m\u001b[0m\u001b[1;33m\u001b[0m\u001b[0m\n",
      "\u001b[1;32m~\\anaconda3\\envs\\PythonAdv\\lib\\site-packages\\sklearn\\base.py\u001b[0m in \u001b[0;36m_validate_data\u001b[1;34m(self, X, y, reset, validate_separately, **check_params)\u001b[0m\n\u001b[0;32m    429\u001b[0m                 \u001b[0mcheck_X_params\u001b[0m\u001b[1;33m,\u001b[0m \u001b[0mcheck_y_params\u001b[0m \u001b[1;33m=\u001b[0m \u001b[0mvalidate_separately\u001b[0m\u001b[1;33m\u001b[0m\u001b[1;33m\u001b[0m\u001b[0m\n\u001b[0;32m    430\u001b[0m                 \u001b[0mX\u001b[0m \u001b[1;33m=\u001b[0m \u001b[0mcheck_array\u001b[0m\u001b[1;33m(\u001b[0m\u001b[0mX\u001b[0m\u001b[1;33m,\u001b[0m \u001b[1;33m**\u001b[0m\u001b[0mcheck_X_params\u001b[0m\u001b[1;33m)\u001b[0m\u001b[1;33m\u001b[0m\u001b[1;33m\u001b[0m\u001b[0m\n\u001b[1;32m--> 431\u001b[1;33m                 \u001b[0my\u001b[0m \u001b[1;33m=\u001b[0m \u001b[0mcheck_array\u001b[0m\u001b[1;33m(\u001b[0m\u001b[0my\u001b[0m\u001b[1;33m,\u001b[0m \u001b[1;33m**\u001b[0m\u001b[0mcheck_y_params\u001b[0m\u001b[1;33m)\u001b[0m\u001b[1;33m\u001b[0m\u001b[1;33m\u001b[0m\u001b[0m\n\u001b[0m\u001b[0;32m    432\u001b[0m             \u001b[1;32melse\u001b[0m\u001b[1;33m:\u001b[0m\u001b[1;33m\u001b[0m\u001b[1;33m\u001b[0m\u001b[0m\n\u001b[0;32m    433\u001b[0m                 \u001b[0mX\u001b[0m\u001b[1;33m,\u001b[0m \u001b[0my\u001b[0m \u001b[1;33m=\u001b[0m \u001b[0mcheck_X_y\u001b[0m\u001b[1;33m(\u001b[0m\u001b[0mX\u001b[0m\u001b[1;33m,\u001b[0m \u001b[0my\u001b[0m\u001b[1;33m,\u001b[0m \u001b[1;33m**\u001b[0m\u001b[0mcheck_params\u001b[0m\u001b[1;33m)\u001b[0m\u001b[1;33m\u001b[0m\u001b[1;33m\u001b[0m\u001b[0m\n",
      "\u001b[1;32m~\\anaconda3\\envs\\PythonAdv\\lib\\site-packages\\sklearn\\utils\\validation.py\u001b[0m in \u001b[0;36minner_f\u001b[1;34m(*args, **kwargs)\u001b[0m\n\u001b[0;32m     61\u001b[0m             \u001b[0mextra_args\u001b[0m \u001b[1;33m=\u001b[0m \u001b[0mlen\u001b[0m\u001b[1;33m(\u001b[0m\u001b[0margs\u001b[0m\u001b[1;33m)\u001b[0m \u001b[1;33m-\u001b[0m \u001b[0mlen\u001b[0m\u001b[1;33m(\u001b[0m\u001b[0mall_args\u001b[0m\u001b[1;33m)\u001b[0m\u001b[1;33m\u001b[0m\u001b[1;33m\u001b[0m\u001b[0m\n\u001b[0;32m     62\u001b[0m             \u001b[1;32mif\u001b[0m \u001b[0mextra_args\u001b[0m \u001b[1;33m<=\u001b[0m \u001b[1;36m0\u001b[0m\u001b[1;33m:\u001b[0m\u001b[1;33m\u001b[0m\u001b[1;33m\u001b[0m\u001b[0m\n\u001b[1;32m---> 63\u001b[1;33m                 \u001b[1;32mreturn\u001b[0m \u001b[0mf\u001b[0m\u001b[1;33m(\u001b[0m\u001b[1;33m*\u001b[0m\u001b[0margs\u001b[0m\u001b[1;33m,\u001b[0m \u001b[1;33m**\u001b[0m\u001b[0mkwargs\u001b[0m\u001b[1;33m)\u001b[0m\u001b[1;33m\u001b[0m\u001b[1;33m\u001b[0m\u001b[0m\n\u001b[0m\u001b[0;32m     64\u001b[0m \u001b[1;33m\u001b[0m\u001b[0m\n\u001b[0;32m     65\u001b[0m             \u001b[1;31m# extra_args > 0\u001b[0m\u001b[1;33m\u001b[0m\u001b[1;33m\u001b[0m\u001b[1;33m\u001b[0m\u001b[0m\n",
      "\u001b[1;32m~\\anaconda3\\envs\\PythonAdv\\lib\\site-packages\\sklearn\\utils\\validation.py\u001b[0m in \u001b[0;36mcheck_array\u001b[1;34m(array, accept_sparse, accept_large_sparse, dtype, order, copy, force_all_finite, ensure_2d, allow_nd, ensure_min_samples, ensure_min_features, estimator)\u001b[0m\n\u001b[0;32m    662\u001b[0m         \u001b[1;32mif\u001b[0m \u001b[0mforce_all_finite\u001b[0m\u001b[1;33m:\u001b[0m\u001b[1;33m\u001b[0m\u001b[1;33m\u001b[0m\u001b[0m\n\u001b[0;32m    663\u001b[0m             _assert_all_finite(array,\n\u001b[1;32m--> 664\u001b[1;33m                                allow_nan=force_all_finite == 'allow-nan')\n\u001b[0m\u001b[0;32m    665\u001b[0m \u001b[1;33m\u001b[0m\u001b[0m\n\u001b[0;32m    666\u001b[0m     \u001b[1;32mif\u001b[0m \u001b[0mensure_min_samples\u001b[0m \u001b[1;33m>\u001b[0m \u001b[1;36m0\u001b[0m\u001b[1;33m:\u001b[0m\u001b[1;33m\u001b[0m\u001b[1;33m\u001b[0m\u001b[0m\n",
      "\u001b[1;32m~\\anaconda3\\envs\\PythonAdv\\lib\\site-packages\\sklearn\\utils\\validation.py\u001b[0m in \u001b[0;36m_assert_all_finite\u001b[1;34m(X, allow_nan, msg_dtype)\u001b[0m\n\u001b[0;32m    109\u001b[0m     \u001b[1;32melif\u001b[0m \u001b[0mX\u001b[0m\u001b[1;33m.\u001b[0m\u001b[0mdtype\u001b[0m \u001b[1;33m==\u001b[0m \u001b[0mnp\u001b[0m\u001b[1;33m.\u001b[0m\u001b[0mdtype\u001b[0m\u001b[1;33m(\u001b[0m\u001b[1;34m'object'\u001b[0m\u001b[1;33m)\u001b[0m \u001b[1;32mand\u001b[0m \u001b[1;32mnot\u001b[0m \u001b[0mallow_nan\u001b[0m\u001b[1;33m:\u001b[0m\u001b[1;33m\u001b[0m\u001b[1;33m\u001b[0m\u001b[0m\n\u001b[0;32m    110\u001b[0m         \u001b[1;32mif\u001b[0m \u001b[0m_object_dtype_isnan\u001b[0m\u001b[1;33m(\u001b[0m\u001b[0mX\u001b[0m\u001b[1;33m)\u001b[0m\u001b[1;33m.\u001b[0m\u001b[0many\u001b[0m\u001b[1;33m(\u001b[0m\u001b[1;33m)\u001b[0m\u001b[1;33m:\u001b[0m\u001b[1;33m\u001b[0m\u001b[1;33m\u001b[0m\u001b[0m\n\u001b[1;32m--> 111\u001b[1;33m             \u001b[1;32mraise\u001b[0m \u001b[0mValueError\u001b[0m\u001b[1;33m(\u001b[0m\u001b[1;34m\"Input contains NaN\"\u001b[0m\u001b[1;33m)\u001b[0m\u001b[1;33m\u001b[0m\u001b[1;33m\u001b[0m\u001b[0m\n\u001b[0m\u001b[0;32m    112\u001b[0m \u001b[1;33m\u001b[0m\u001b[0m\n\u001b[0;32m    113\u001b[0m \u001b[1;33m\u001b[0m\u001b[0m\n",
      "\u001b[1;31mValueError\u001b[0m: Input contains NaN"
     ]
    }
   ],
   "source": [
    "# # Training Models \n",
    "# # DecisionTree\n",
    "# from sklearn.tree import DecisionTreeClassifier\n",
    "\n",
    "# model = DecisionTreeClassifier()\n",
    "# model.fit(prepared_data, y_train)\n"
   ]
  },
  {
   "cell_type": "code",
   "execution_count": null,
   "metadata": {},
   "outputs": [],
   "source": []
  },
  {
   "cell_type": "code",
   "execution_count": null,
   "metadata": {},
   "outputs": [],
   "source": []
  },
  {
   "cell_type": "code",
   "execution_count": null,
   "metadata": {},
   "outputs": [],
   "source": []
  },
  {
   "cell_type": "code",
   "execution_count": null,
   "metadata": {},
   "outputs": [],
   "source": []
  },
  {
   "cell_type": "code",
   "execution_count": null,
   "metadata": {},
   "outputs": [],
   "source": []
  },
  {
   "cell_type": "code",
   "execution_count": null,
   "metadata": {},
   "outputs": [],
   "source": []
  }
 ]
}