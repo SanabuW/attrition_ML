{
 "metadata": {
  "language_info": {
   "codemirror_mode": {
    "name": "ipython",
    "version": 3
   },
   "file_extension": ".py",
   "mimetype": "text/x-python",
   "name": "python",
   "nbconvert_exporter": "python",
   "pygments_lexer": "ipython3",
   "version": "3.6.13"
  },
  "orig_nbformat": 2,
  "kernelspec": {
   "name": "python3613jvsc74a57bd021df4bf8aa744819da7029291a170c301aca2ae776ef79a33d4b0d42fed7be0e",
   "display_name": "Python 3.6.13 64-bit ('PythonAdv': conda)"
  }
 },
 "nbformat": 4,
 "nbformat_minor": 2,
 "cells": [
  {
   "source": [
    "# Predicting IBM Employee Attrition \n",
    "\n",
    "1. Data Collection - we are using the IBM Attrition Data from kaggle.\n",
    "2. EDA - Carry our exploratory analysis to figure out the important features and creating new combination of features.\n",
    "3. Data Preparation - Using step 4, create a pipeline of tasks to transform the data to be loaded into our ML models.\n",
    "4. Selecting and Training ML models - Training a few models to evaluate their predictions using cross-validation."
   ],
   "cell_type": "markdown",
   "metadata": {}
  },
  {
   "cell_type": "code",
   "execution_count": 1,
   "metadata": {},
   "outputs": [],
   "source": [
    "import os  \n",
    "import numpy as np\n",
    "import pandas as pd\n",
    "import matplotlib.pyplot as plt\n",
    "import seaborn as sns\n",
    "from pprint import pprint"
   ]
  },
  {
   "source": [
    "### Step 1: Read in csv data"
   ],
   "cell_type": "markdown",
   "metadata": {}
  },
  {
   "cell_type": "code",
   "execution_count": 21,
   "metadata": {},
   "outputs": [
    {
     "output_type": "execute_result",
     "data": {
      "text/plain": [
       "      Age Attrition     BusinessTravel  DailyRate              Department  \\\n",
       "0      41       Yes      Travel_Rarely       1102                   Sales   \n",
       "1      49        No  Travel_Frequently        279  Research & Development   \n",
       "2      37       Yes      Travel_Rarely       1373  Research & Development   \n",
       "3      33        No  Travel_Frequently       1392  Research & Development   \n",
       "4      27        No      Travel_Rarely        591  Research & Development   \n",
       "...   ...       ...                ...        ...                     ...   \n",
       "1465   36        No  Travel_Frequently        884  Research & Development   \n",
       "1466   39        No      Travel_Rarely        613  Research & Development   \n",
       "1467   27        No      Travel_Rarely        155  Research & Development   \n",
       "1468   49        No  Travel_Frequently       1023                   Sales   \n",
       "1469   34        No      Travel_Rarely        628  Research & Development   \n",
       "\n",
       "      DistanceFromHome  Education EducationField  EmployeeCount  \\\n",
       "0                    1          2  Life Sciences              1   \n",
       "1                    8          1  Life Sciences              1   \n",
       "2                    2          2          Other              1   \n",
       "3                    3          4  Life Sciences              1   \n",
       "4                    2          1        Medical              1   \n",
       "...                ...        ...            ...            ...   \n",
       "1465                23          2        Medical              1   \n",
       "1466                 6          1        Medical              1   \n",
       "1467                 4          3  Life Sciences              1   \n",
       "1468                 2          3        Medical              1   \n",
       "1469                 8          3        Medical              1   \n",
       "\n",
       "      EmployeeNumber  ...  RelationshipSatisfaction StandardHours  \\\n",
       "0                  1  ...                         1            80   \n",
       "1                  2  ...                         4            80   \n",
       "2                  4  ...                         2            80   \n",
       "3                  5  ...                         3            80   \n",
       "4                  7  ...                         4            80   \n",
       "...              ...  ...                       ...           ...   \n",
       "1465            2061  ...                         3            80   \n",
       "1466            2062  ...                         1            80   \n",
       "1467            2064  ...                         2            80   \n",
       "1468            2065  ...                         4            80   \n",
       "1469            2068  ...                         1            80   \n",
       "\n",
       "      StockOptionLevel  TotalWorkingYears  TrainingTimesLastYear  \\\n",
       "0                    0                  8                      0   \n",
       "1                    1                 10                      3   \n",
       "2                    0                  7                      3   \n",
       "3                    0                  8                      3   \n",
       "4                    1                  6                      3   \n",
       "...                ...                ...                    ...   \n",
       "1465                 1                 17                      3   \n",
       "1466                 1                  9                      5   \n",
       "1467                 1                  6                      0   \n",
       "1468                 0                 17                      3   \n",
       "1469                 0                  6                      3   \n",
       "\n",
       "     WorkLifeBalance  YearsAtCompany YearsInCurrentRole  \\\n",
       "0                  1               6                  4   \n",
       "1                  3              10                  7   \n",
       "2                  3               0                  0   \n",
       "3                  3               8                  7   \n",
       "4                  3               2                  2   \n",
       "...              ...             ...                ...   \n",
       "1465               3               5                  2   \n",
       "1466               3               7                  7   \n",
       "1467               3               6                  2   \n",
       "1468               2               9                  6   \n",
       "1469               4               4                  3   \n",
       "\n",
       "      YearsSinceLastPromotion  YearsWithCurrManager  \n",
       "0                           0                     5  \n",
       "1                           1                     7  \n",
       "2                           0                     0  \n",
       "3                           3                     0  \n",
       "4                           2                     2  \n",
       "...                       ...                   ...  \n",
       "1465                        0                     3  \n",
       "1466                        1                     7  \n",
       "1467                        0                     3  \n",
       "1468                        0                     8  \n",
       "1469                        1                     2  \n",
       "\n",
       "[1470 rows x 35 columns]"
      ],
      "text/html": "<div>\n<style scoped>\n    .dataframe tbody tr th:only-of-type {\n        vertical-align: middle;\n    }\n\n    .dataframe tbody tr th {\n        vertical-align: top;\n    }\n\n    .dataframe thead th {\n        text-align: right;\n    }\n</style>\n<table border=\"1\" class=\"dataframe\">\n  <thead>\n    <tr style=\"text-align: right;\">\n      <th></th>\n      <th>Age</th>\n      <th>Attrition</th>\n      <th>BusinessTravel</th>\n      <th>DailyRate</th>\n      <th>Department</th>\n      <th>DistanceFromHome</th>\n      <th>Education</th>\n      <th>EducationField</th>\n      <th>EmployeeCount</th>\n      <th>EmployeeNumber</th>\n      <th>...</th>\n      <th>RelationshipSatisfaction</th>\n      <th>StandardHours</th>\n      <th>StockOptionLevel</th>\n      <th>TotalWorkingYears</th>\n      <th>TrainingTimesLastYear</th>\n      <th>WorkLifeBalance</th>\n      <th>YearsAtCompany</th>\n      <th>YearsInCurrentRole</th>\n      <th>YearsSinceLastPromotion</th>\n      <th>YearsWithCurrManager</th>\n    </tr>\n  </thead>\n  <tbody>\n    <tr>\n      <th>0</th>\n      <td>41</td>\n      <td>Yes</td>\n      <td>Travel_Rarely</td>\n      <td>1102</td>\n      <td>Sales</td>\n      <td>1</td>\n      <td>2</td>\n      <td>Life Sciences</td>\n      <td>1</td>\n      <td>1</td>\n      <td>...</td>\n      <td>1</td>\n      <td>80</td>\n      <td>0</td>\n      <td>8</td>\n      <td>0</td>\n      <td>1</td>\n      <td>6</td>\n      <td>4</td>\n      <td>0</td>\n      <td>5</td>\n    </tr>\n    <tr>\n      <th>1</th>\n      <td>49</td>\n      <td>No</td>\n      <td>Travel_Frequently</td>\n      <td>279</td>\n      <td>Research &amp; Development</td>\n      <td>8</td>\n      <td>1</td>\n      <td>Life Sciences</td>\n      <td>1</td>\n      <td>2</td>\n      <td>...</td>\n      <td>4</td>\n      <td>80</td>\n      <td>1</td>\n      <td>10</td>\n      <td>3</td>\n      <td>3</td>\n      <td>10</td>\n      <td>7</td>\n      <td>1</td>\n      <td>7</td>\n    </tr>\n    <tr>\n      <th>2</th>\n      <td>37</td>\n      <td>Yes</td>\n      <td>Travel_Rarely</td>\n      <td>1373</td>\n      <td>Research &amp; Development</td>\n      <td>2</td>\n      <td>2</td>\n      <td>Other</td>\n      <td>1</td>\n      <td>4</td>\n      <td>...</td>\n      <td>2</td>\n      <td>80</td>\n      <td>0</td>\n      <td>7</td>\n      <td>3</td>\n      <td>3</td>\n      <td>0</td>\n      <td>0</td>\n      <td>0</td>\n      <td>0</td>\n    </tr>\n    <tr>\n      <th>3</th>\n      <td>33</td>\n      <td>No</td>\n      <td>Travel_Frequently</td>\n      <td>1392</td>\n      <td>Research &amp; Development</td>\n      <td>3</td>\n      <td>4</td>\n      <td>Life Sciences</td>\n      <td>1</td>\n      <td>5</td>\n      <td>...</td>\n      <td>3</td>\n      <td>80</td>\n      <td>0</td>\n      <td>8</td>\n      <td>3</td>\n      <td>3</td>\n      <td>8</td>\n      <td>7</td>\n      <td>3</td>\n      <td>0</td>\n    </tr>\n    <tr>\n      <th>4</th>\n      <td>27</td>\n      <td>No</td>\n      <td>Travel_Rarely</td>\n      <td>591</td>\n      <td>Research &amp; Development</td>\n      <td>2</td>\n      <td>1</td>\n      <td>Medical</td>\n      <td>1</td>\n      <td>7</td>\n      <td>...</td>\n      <td>4</td>\n      <td>80</td>\n      <td>1</td>\n      <td>6</td>\n      <td>3</td>\n      <td>3</td>\n      <td>2</td>\n      <td>2</td>\n      <td>2</td>\n      <td>2</td>\n    </tr>\n    <tr>\n      <th>...</th>\n      <td>...</td>\n      <td>...</td>\n      <td>...</td>\n      <td>...</td>\n      <td>...</td>\n      <td>...</td>\n      <td>...</td>\n      <td>...</td>\n      <td>...</td>\n      <td>...</td>\n      <td>...</td>\n      <td>...</td>\n      <td>...</td>\n      <td>...</td>\n      <td>...</td>\n      <td>...</td>\n      <td>...</td>\n      <td>...</td>\n      <td>...</td>\n      <td>...</td>\n      <td>...</td>\n    </tr>\n    <tr>\n      <th>1465</th>\n      <td>36</td>\n      <td>No</td>\n      <td>Travel_Frequently</td>\n      <td>884</td>\n      <td>Research &amp; Development</td>\n      <td>23</td>\n      <td>2</td>\n      <td>Medical</td>\n      <td>1</td>\n      <td>2061</td>\n      <td>...</td>\n      <td>3</td>\n      <td>80</td>\n      <td>1</td>\n      <td>17</td>\n      <td>3</td>\n      <td>3</td>\n      <td>5</td>\n      <td>2</td>\n      <td>0</td>\n      <td>3</td>\n    </tr>\n    <tr>\n      <th>1466</th>\n      <td>39</td>\n      <td>No</td>\n      <td>Travel_Rarely</td>\n      <td>613</td>\n      <td>Research &amp; Development</td>\n      <td>6</td>\n      <td>1</td>\n      <td>Medical</td>\n      <td>1</td>\n      <td>2062</td>\n      <td>...</td>\n      <td>1</td>\n      <td>80</td>\n      <td>1</td>\n      <td>9</td>\n      <td>5</td>\n      <td>3</td>\n      <td>7</td>\n      <td>7</td>\n      <td>1</td>\n      <td>7</td>\n    </tr>\n    <tr>\n      <th>1467</th>\n      <td>27</td>\n      <td>No</td>\n      <td>Travel_Rarely</td>\n      <td>155</td>\n      <td>Research &amp; Development</td>\n      <td>4</td>\n      <td>3</td>\n      <td>Life Sciences</td>\n      <td>1</td>\n      <td>2064</td>\n      <td>...</td>\n      <td>2</td>\n      <td>80</td>\n      <td>1</td>\n      <td>6</td>\n      <td>0</td>\n      <td>3</td>\n      <td>6</td>\n      <td>2</td>\n      <td>0</td>\n      <td>3</td>\n    </tr>\n    <tr>\n      <th>1468</th>\n      <td>49</td>\n      <td>No</td>\n      <td>Travel_Frequently</td>\n      <td>1023</td>\n      <td>Sales</td>\n      <td>2</td>\n      <td>3</td>\n      <td>Medical</td>\n      <td>1</td>\n      <td>2065</td>\n      <td>...</td>\n      <td>4</td>\n      <td>80</td>\n      <td>0</td>\n      <td>17</td>\n      <td>3</td>\n      <td>2</td>\n      <td>9</td>\n      <td>6</td>\n      <td>0</td>\n      <td>8</td>\n    </tr>\n    <tr>\n      <th>1469</th>\n      <td>34</td>\n      <td>No</td>\n      <td>Travel_Rarely</td>\n      <td>628</td>\n      <td>Research &amp; Development</td>\n      <td>8</td>\n      <td>3</td>\n      <td>Medical</td>\n      <td>1</td>\n      <td>2068</td>\n      <td>...</td>\n      <td>1</td>\n      <td>80</td>\n      <td>0</td>\n      <td>6</td>\n      <td>3</td>\n      <td>4</td>\n      <td>4</td>\n      <td>3</td>\n      <td>1</td>\n      <td>2</td>\n    </tr>\n  </tbody>\n</table>\n<p>1470 rows × 35 columns</p>\n</div>"
     },
     "metadata": {},
     "execution_count": 21
    }
   ],
   "source": [
    "# Read in csv data\n",
    "attrition_df = pd.read_csv(\"./data/IBM_attrition_data.csv\")\n",
    "data = attrition_df.copy()\n",
    "data"
   ]
  },
  {
   "source": [
    "### Step 2: Exploratory Data Analysis"
   ],
   "cell_type": "markdown",
   "metadata": {}
  },
  {
   "cell_type": "code",
   "execution_count": 22,
   "metadata": {},
   "outputs": [
    {
     "output_type": "stream",
     "name": "stdout",
     "text": [
      "<class 'pandas.core.frame.DataFrame'>\nRangeIndex: 1470 entries, 0 to 1469\nData columns (total 35 columns):\n #   Column                    Non-Null Count  Dtype \n---  ------                    --------------  ----- \n 0   Age                       1470 non-null   int64 \n 1   Attrition                 1470 non-null   object\n 2   BusinessTravel            1470 non-null   object\n 3   DailyRate                 1470 non-null   int64 \n 4   Department                1470 non-null   object\n 5   DistanceFromHome          1470 non-null   int64 \n 6   Education                 1470 non-null   int64 \n 7   EducationField            1470 non-null   object\n 8   EmployeeCount             1470 non-null   int64 \n 9   EmployeeNumber            1470 non-null   int64 \n 10  EnvironmentSatisfaction   1470 non-null   int64 \n 11  Gender                    1470 non-null   object\n 12  HourlyRate                1470 non-null   int64 \n 13  JobInvolvement            1470 non-null   int64 \n 14  JobLevel                  1470 non-null   int64 \n 15  JobRole                   1470 non-null   object\n 16  JobSatisfaction           1470 non-null   int64 \n 17  MaritalStatus             1470 non-null   object\n 18  MonthlyIncome             1470 non-null   int64 \n 19  MonthlyRate               1470 non-null   int64 \n 20  NumCompaniesWorked        1470 non-null   int64 \n 21  Over18                    1470 non-null   object\n 22  OverTime                  1470 non-null   object\n 23  PercentSalaryHike         1470 non-null   int64 \n 24  PerformanceRating         1470 non-null   int64 \n 25  RelationshipSatisfaction  1470 non-null   int64 \n 26  StandardHours             1470 non-null   int64 \n 27  StockOptionLevel          1470 non-null   int64 \n 28  TotalWorkingYears         1470 non-null   int64 \n 29  TrainingTimesLastYear     1470 non-null   int64 \n 30  WorkLifeBalance           1470 non-null   int64 \n 31  YearsAtCompany            1470 non-null   int64 \n 32  YearsInCurrentRole        1470 non-null   int64 \n 33  YearsSinceLastPromotion   1470 non-null   int64 \n 34  YearsWithCurrManager      1470 non-null   int64 \ndtypes: int64(26), object(9)\nmemory usage: 402.1+ KB\n"
     ]
    }
   ],
   "source": [
    "# Checking data info\n",
    "data.info()"
   ]
  },
  {
   "cell_type": "code",
   "execution_count": 23,
   "metadata": {},
   "outputs": [],
   "source": [
    "# Drop unneccessary columns \n",
    "data = data.drop([\"Over18\", \"EmployeeCount\", \"StandardHours\", \"EmployeeNumber\"], axis=1)"
   ]
  },
  {
   "cell_type": "code",
   "execution_count": 24,
   "metadata": {},
   "outputs": [
    {
     "output_type": "stream",
     "name": "stdout",
     "text": [
      "<class 'pandas.core.frame.DataFrame'>\nRangeIndex: 1470 entries, 0 to 1469\nData columns (total 31 columns):\n #   Column                    Non-Null Count  Dtype \n---  ------                    --------------  ----- \n 0   Age                       1470 non-null   int64 \n 1   Attrition                 1470 non-null   object\n 2   BusinessTravel            1470 non-null   object\n 3   DailyRate                 1470 non-null   int64 \n 4   Department                1470 non-null   object\n 5   DistanceFromHome          1470 non-null   int64 \n 6   Education                 1470 non-null   int64 \n 7   EducationField            1470 non-null   object\n 8   EnvironmentSatisfaction   1470 non-null   int64 \n 9   Gender                    1470 non-null   object\n 10  HourlyRate                1470 non-null   int64 \n 11  JobInvolvement            1470 non-null   int64 \n 12  JobLevel                  1470 non-null   int64 \n 13  JobRole                   1470 non-null   object\n 14  JobSatisfaction           1470 non-null   int64 \n 15  MaritalStatus             1470 non-null   object\n 16  MonthlyIncome             1470 non-null   int64 \n 17  MonthlyRate               1470 non-null   int64 \n 18  NumCompaniesWorked        1470 non-null   int64 \n 19  OverTime                  1470 non-null   object\n 20  PercentSalaryHike         1470 non-null   int64 \n 21  PerformanceRating         1470 non-null   int64 \n 22  RelationshipSatisfaction  1470 non-null   int64 \n 23  StockOptionLevel          1470 non-null   int64 \n 24  TotalWorkingYears         1470 non-null   int64 \n 25  TrainingTimesLastYear     1470 non-null   int64 \n 26  WorkLifeBalance           1470 non-null   int64 \n 27  YearsAtCompany            1470 non-null   int64 \n 28  YearsInCurrentRole        1470 non-null   int64 \n 29  YearsSinceLastPromotion   1470 non-null   int64 \n 30  YearsWithCurrManager      1470 non-null   int64 \ndtypes: int64(23), object(8)\nmemory usage: 356.1+ KB\n"
     ]
    }
   ],
   "source": [
    "# New data frame info\n",
    "data.info()"
   ]
  },
  {
   "source": [
    "### Setting aside Test Set"
   ],
   "cell_type": "markdown",
   "metadata": {}
  },
  {
   "cell_type": "code",
   "execution_count": 55,
   "metadata": {},
   "outputs": [
    {
     "output_type": "execute_result",
     "data": {
      "text/plain": [
       "(294, 48)"
      ]
     },
     "metadata": {},
     "execution_count": 55
    }
   ],
   "source": [
    "# Set train and test set\n",
    "from sklearn.model_selection import train_test_split\n",
    "\n",
    "train_set, test_set = train_test_split(data, test_size=0.2, random_state=42)\n",
    "\n",
    "test_set.shape"
   ]
  },
  {
   "cell_type": "code",
   "execution_count": 56,
   "metadata": {},
   "outputs": [
    {
     "output_type": "stream",
     "name": "stderr",
     "text": [
      "C:\\Users\\jenny\\anaconda3\\envs\\PythonAdv\\lib\\site-packages\\ipykernel_launcher.py:3: SettingWithCopyWarning: \nA value is trying to be set on a copy of a slice from a DataFrame.\nTry using .loc[row_indexer,col_indexer] = value instead\n\nSee the caveats in the documentation: https://pandas.pydata.org/pandas-docs/stable/user_guide/indexing.html#returning-a-view-versus-a-copy\n  This is separate from the ipykernel package so we can avoid doing imports until\nC:\\Users\\jenny\\anaconda3\\envs\\PythonAdv\\lib\\site-packages\\ipykernel_launcher.py:4: SettingWithCopyWarning: \nA value is trying to be set on a copy of a slice from a DataFrame.\nTry using .loc[row_indexer,col_indexer] = value instead\n\nSee the caveats in the documentation: https://pandas.pydata.org/pandas-docs/stable/user_guide/indexing.html#returning-a-view-versus-a-copy\n  after removing the cwd from sys.path.\nC:\\Users\\jenny\\anaconda3\\envs\\PythonAdv\\lib\\site-packages\\ipykernel_launcher.py:5: SettingWithCopyWarning: \nA value is trying to be set on a copy of a slice from a DataFrame.\nTry using .loc[row_indexer,col_indexer] = value instead\n\nSee the caveats in the documentation: https://pandas.pydata.org/pandas-docs/stable/user_guide/indexing.html#returning-a-view-versus-a-copy\n  \"\"\"\nC:\\Users\\jenny\\anaconda3\\envs\\PythonAdv\\lib\\site-packages\\ipykernel_launcher.py:6: SettingWithCopyWarning: \nA value is trying to be set on a copy of a slice from a DataFrame.\nTry using .loc[row_indexer,col_indexer] = value instead\n\nSee the caveats in the documentation: https://pandas.pydata.org/pandas-docs/stable/user_guide/indexing.html#returning-a-view-versus-a-copy\n  \nC:\\Users\\jenny\\anaconda3\\envs\\PythonAdv\\lib\\site-packages\\ipykernel_launcher.py:7: SettingWithCopyWarning: \nA value is trying to be set on a copy of a slice from a DataFrame.\nTry using .loc[row_indexer,col_indexer] = value instead\n\nSee the caveats in the documentation: https://pandas.pydata.org/pandas-docs/stable/user_guide/indexing.html#returning-a-view-versus-a-copy\n  import sys\nC:\\Users\\jenny\\anaconda3\\envs\\PythonAdv\\lib\\site-packages\\ipykernel_launcher.py:8: SettingWithCopyWarning: \nA value is trying to be set on a copy of a slice from a DataFrame.\nTry using .loc[row_indexer,col_indexer] = value instead\n\nSee the caveats in the documentation: https://pandas.pydata.org/pandas-docs/stable/user_guide/indexing.html#returning-a-view-versus-a-copy\n  \nC:\\Users\\jenny\\anaconda3\\envs\\PythonAdv\\lib\\site-packages\\ipykernel_launcher.py:9: SettingWithCopyWarning: \nA value is trying to be set on a copy of a slice from a DataFrame.\nTry using .loc[row_indexer,col_indexer] = value instead\n\nSee the caveats in the documentation: https://pandas.pydata.org/pandas-docs/stable/user_guide/indexing.html#returning-a-view-versus-a-copy\n  if __name__ == '__main__':\n"
     ]
    },
    {
     "output_type": "execute_result",
     "data": {
      "text/plain": [
       "      Age  DailyRate  DistanceFromHome Education  EmployeeCount  \\\n",
       "1097   24        350                21   College              1   \n",
       "727    18        287                 5   College              1   \n",
       "254    29       1247                20   College              1   \n",
       "1175   39        492                12  Bachelor              1   \n",
       "1341   31        311                20  Bachelor              1   \n",
       "\n",
       "      EmployeeNumber EnvironmentSatisfaction  HourlyRate JobInvolvement  \\\n",
       "1097            1551                    High          57         Medium   \n",
       "727             1012                  Medium          73           High   \n",
       "254              349               Very High          45           High   \n",
       "1175            1654               Very High          66           High   \n",
       "1341            1881                  Medium          89           High   \n",
       "\n",
       "      JobLevel  ... JobRole_Laboratory Technician  JobRole_Manager  \\\n",
       "1097         1  ...                             1                0   \n",
       "727          1  ...                             0                0   \n",
       "254          2  ...                             0                0   \n",
       "1175         2  ...                             0                0   \n",
       "1341         2  ...                             1                0   \n",
       "\n",
       "      JobRole_Manufacturing Director  JobRole_Research Director  \\\n",
       "1097                               0                          0   \n",
       "727                                0                          0   \n",
       "254                                0                          0   \n",
       "1175                               1                          0   \n",
       "1341                               0                          0   \n",
       "\n",
       "      JobRole_Research Scientist JobRole_Sales Executive  \\\n",
       "1097                           0                       0   \n",
       "727                            1                       0   \n",
       "254                            0                       1   \n",
       "1175                           0                       0   \n",
       "1341                           0                       0   \n",
       "\n",
       "     JobRole_Sales Representative  MaritalStatus_Married  \\\n",
       "1097                            0                      0   \n",
       "727                             0                      0   \n",
       "254                             0                      0   \n",
       "1175                            0                      1   \n",
       "1341                            0                      0   \n",
       "\n",
       "      MaritalStatus_Single  OverTime  \n",
       "1097                     0         0  \n",
       "727                      1         0  \n",
       "254                      0         0  \n",
       "1175                     0         0  \n",
       "1341                     0         0  \n",
       "\n",
       "[5 rows x 48 columns]"
      ],
      "text/html": "<div>\n<style scoped>\n    .dataframe tbody tr th:only-of-type {\n        vertical-align: middle;\n    }\n\n    .dataframe tbody tr th {\n        vertical-align: top;\n    }\n\n    .dataframe thead th {\n        text-align: right;\n    }\n</style>\n<table border=\"1\" class=\"dataframe\">\n  <thead>\n    <tr style=\"text-align: right;\">\n      <th></th>\n      <th>Age</th>\n      <th>DailyRate</th>\n      <th>DistanceFromHome</th>\n      <th>Education</th>\n      <th>EmployeeCount</th>\n      <th>EmployeeNumber</th>\n      <th>EnvironmentSatisfaction</th>\n      <th>HourlyRate</th>\n      <th>JobInvolvement</th>\n      <th>JobLevel</th>\n      <th>...</th>\n      <th>JobRole_Laboratory Technician</th>\n      <th>JobRole_Manager</th>\n      <th>JobRole_Manufacturing Director</th>\n      <th>JobRole_Research Director</th>\n      <th>JobRole_Research Scientist</th>\n      <th>JobRole_Sales Executive</th>\n      <th>JobRole_Sales Representative</th>\n      <th>MaritalStatus_Married</th>\n      <th>MaritalStatus_Single</th>\n      <th>OverTime</th>\n    </tr>\n  </thead>\n  <tbody>\n    <tr>\n      <th>1097</th>\n      <td>24</td>\n      <td>350</td>\n      <td>21</td>\n      <td>College</td>\n      <td>1</td>\n      <td>1551</td>\n      <td>High</td>\n      <td>57</td>\n      <td>Medium</td>\n      <td>1</td>\n      <td>...</td>\n      <td>1</td>\n      <td>0</td>\n      <td>0</td>\n      <td>0</td>\n      <td>0</td>\n      <td>0</td>\n      <td>0</td>\n      <td>0</td>\n      <td>0</td>\n      <td>0</td>\n    </tr>\n    <tr>\n      <th>727</th>\n      <td>18</td>\n      <td>287</td>\n      <td>5</td>\n      <td>College</td>\n      <td>1</td>\n      <td>1012</td>\n      <td>Medium</td>\n      <td>73</td>\n      <td>High</td>\n      <td>1</td>\n      <td>...</td>\n      <td>0</td>\n      <td>0</td>\n      <td>0</td>\n      <td>0</td>\n      <td>1</td>\n      <td>0</td>\n      <td>0</td>\n      <td>0</td>\n      <td>1</td>\n      <td>0</td>\n    </tr>\n    <tr>\n      <th>254</th>\n      <td>29</td>\n      <td>1247</td>\n      <td>20</td>\n      <td>College</td>\n      <td>1</td>\n      <td>349</td>\n      <td>Very High</td>\n      <td>45</td>\n      <td>High</td>\n      <td>2</td>\n      <td>...</td>\n      <td>0</td>\n      <td>0</td>\n      <td>0</td>\n      <td>0</td>\n      <td>0</td>\n      <td>1</td>\n      <td>0</td>\n      <td>0</td>\n      <td>0</td>\n      <td>0</td>\n    </tr>\n    <tr>\n      <th>1175</th>\n      <td>39</td>\n      <td>492</td>\n      <td>12</td>\n      <td>Bachelor</td>\n      <td>1</td>\n      <td>1654</td>\n      <td>Very High</td>\n      <td>66</td>\n      <td>High</td>\n      <td>2</td>\n      <td>...</td>\n      <td>0</td>\n      <td>0</td>\n      <td>1</td>\n      <td>0</td>\n      <td>0</td>\n      <td>0</td>\n      <td>0</td>\n      <td>1</td>\n      <td>0</td>\n      <td>0</td>\n    </tr>\n    <tr>\n      <th>1341</th>\n      <td>31</td>\n      <td>311</td>\n      <td>20</td>\n      <td>Bachelor</td>\n      <td>1</td>\n      <td>1881</td>\n      <td>Medium</td>\n      <td>89</td>\n      <td>High</td>\n      <td>2</td>\n      <td>...</td>\n      <td>1</td>\n      <td>0</td>\n      <td>0</td>\n      <td>0</td>\n      <td>0</td>\n      <td>0</td>\n      <td>0</td>\n      <td>0</td>\n      <td>0</td>\n      <td>0</td>\n    </tr>\n  </tbody>\n</table>\n<p>5 rows × 48 columns</p>\n</div>"
     },
     "metadata": {},
     "execution_count": 56
    }
   ],
   "source": [
    "# Convert integer classes in categorical columns to their names \n",
    "def preprocess_cat_columns(train_set):\n",
    "    train_set[\"Education\"] = train_set[\"Education\"].map({1:\"Below College\", 2:\"College\", 3:\"Bachelor\", 4:\"Master\",5:\"Doctor\"}) \n",
    "    train_set[\"EnvironmentSatisfaction\"] = train_set[\"EnvironmentSatisfaction\"].map({1:\"Low\", 2:\"Medium\", 3:\"High\", 4:\"Very High\"})\n",
    "    train_set[\"JobInvolvement\"] = train_set[\"JobInvolvement\"].map({1:\"Low\", 2:\"Medium\", 3:\"High\", 4:\"Very High\"})\n",
    "    train_set[\"JobSatisfaction\"] = train_set[\"JobSatisfaction\"].map({1:\"Low\", 2:\"Medium\", 3:\"High\", 4:\"Very High\"})\n",
    "    train_set[\"PerformanceRating\"] = train_set[\"PerformanceRating\"].map({1:\"Low\", 2:\"Medium\", 3:\"High\", 4:\"Very High\"})\n",
    "    train_set[\"RelationshipSatisfaction\"] = train_set[\"RelationshipSatisfaction\"].map({1:\"Low\", 2:\"Medium\", 3:\"High\", 4:\"Very High\"})\n",
    "    train_set[\"WorkLifeBalance\"] = train_set[\"WorkLifeBalance\"].map({1:\"Bad\", 2:\"Good\", 3:\"Better\", 4:\"Best\"})\n",
    "    return train_set\n",
    "\n",
    "\n",
    "data = preprocess_cat_columns(train_set)\n",
    "data.head()"
   ]
  },
  {
   "cell_type": "code",
   "execution_count": 57,
   "metadata": {},
   "outputs": [
    {
     "output_type": "stream",
     "name": "stdout",
     "text": [
      "<class 'pandas.core.frame.DataFrame'>\nInt64Index: 1176 entries, 1097 to 1126\nData columns (total 48 columns):\n #   Column                             Non-Null Count  Dtype \n---  ------                             --------------  ----- \n 0   Age                                1176 non-null   int64 \n 1   DailyRate                          1176 non-null   int64 \n 2   DistanceFromHome                   1176 non-null   int64 \n 3   Education                          1176 non-null   object\n 4   EmployeeCount                      1176 non-null   int64 \n 5   EmployeeNumber                     1176 non-null   int64 \n 6   EnvironmentSatisfaction            1176 non-null   object\n 7   HourlyRate                         1176 non-null   int64 \n 8   JobInvolvement                     1176 non-null   object\n 9   JobLevel                           1176 non-null   int64 \n 10  JobSatisfaction                    1176 non-null   object\n 11  MonthlyIncome                      1176 non-null   int64 \n 12  MonthlyRate                        1176 non-null   int64 \n 13  NumCompaniesWorked                 1176 non-null   int64 \n 14  PercentSalaryHike                  1176 non-null   int64 \n 15  PerformanceRating                  1176 non-null   object\n 16  RelationshipSatisfaction           1176 non-null   object\n 17  StandardHours                      1176 non-null   int64 \n 18  StockOptionLevel                   1176 non-null   int64 \n 19  TotalWorkingYears                  1176 non-null   int64 \n 20  TrainingTimesLastYear              1176 non-null   int64 \n 21  WorkLifeBalance                    1176 non-null   object\n 22  YearsAtCompany                     1176 non-null   int64 \n 23  YearsInCurrentRole                 1176 non-null   int64 \n 24  YearsSinceLastPromotion            1176 non-null   int64 \n 25  YearsWithCurrManager               1176 non-null   int64 \n 26  Attrition                          1176 non-null   uint8 \n 27  BusinessTravel_Travel_Frequently   1176 non-null   uint8 \n 28  BusinessTravel_Travel_Rarely       1176 non-null   uint8 \n 29  Department_Research & Development  1176 non-null   uint8 \n 30  Department_Sales                   1176 non-null   uint8 \n 31  EducationField_Life Sciences       1176 non-null   uint8 \n 32  EducationField_Marketing           1176 non-null   uint8 \n 33  EducationField_Medical             1176 non-null   uint8 \n 34  EducationField_Other               1176 non-null   uint8 \n 35  EducationField_Technical Degree    1176 non-null   uint8 \n 36  Gender                             1176 non-null   uint8 \n 37  JobRole_Human Resources            1176 non-null   uint8 \n 38  JobRole_Laboratory Technician      1176 non-null   uint8 \n 39  JobRole_Manager                    1176 non-null   uint8 \n 40  JobRole_Manufacturing Director     1176 non-null   uint8 \n 41  JobRole_Research Director          1176 non-null   uint8 \n 42  JobRole_Research Scientist         1176 non-null   uint8 \n 43  JobRole_Sales Executive            1176 non-null   uint8 \n 44  JobRole_Sales Representative       1176 non-null   uint8 \n 45  MaritalStatus_Married              1176 non-null   uint8 \n 46  MaritalStatus_Single               1176 non-null   uint8 \n 47  OverTime                           1176 non-null   uint8 \ndtypes: int64(19), object(7), uint8(22)\nmemory usage: 273.3+ KB\n"
     ]
    }
   ],
   "source": [
    "# One hot encoding the categorical columns \n",
    "train_data = pd.get_dummies(data, drop_first=True)\n",
    "data.info()"
   ]
  },
  {
   "cell_type": "code",
   "execution_count": 58,
   "metadata": {},
   "outputs": [
    {
     "output_type": "stream",
     "name": "stdout",
     "text": [
      "<class 'pandas.core.frame.DataFrame'>\nInt64Index: 1176 entries, 1097 to 1126\nData columns (total 48 columns):\n #   Column                             Non-Null Count  Dtype \n---  ------                             --------------  ----- \n 0   Age                                1176 non-null   int64 \n 1   DailyRate                          1176 non-null   int64 \n 2   DistanceFromHome                   1176 non-null   int64 \n 3   Education                          1176 non-null   object\n 4   EmployeeCount                      1176 non-null   int64 \n 5   EmployeeNumber                     1176 non-null   int64 \n 6   EnvironmentSatisfaction            1176 non-null   object\n 7   HourlyRate                         1176 non-null   int64 \n 8   JobInvolvement                     1176 non-null   object\n 9   JobLevel                           1176 non-null   int64 \n 10  JobSatisfaction                    1176 non-null   object\n 11  MonthlyIncome                      1176 non-null   int64 \n 12  MonthlyRate                        1176 non-null   int64 \n 13  NumCompaniesWorked                 1176 non-null   int64 \n 14  PercentSalaryHike                  1176 non-null   int64 \n 15  PerformanceRating                  1176 non-null   object\n 16  RelationshipSatisfaction           1176 non-null   object\n 17  StandardHours                      1176 non-null   int64 \n 18  StockOptionLevel                   1176 non-null   int64 \n 19  TotalWorkingYears                  1176 non-null   int64 \n 20  TrainingTimesLastYear              1176 non-null   int64 \n 21  WorkLifeBalance                    1176 non-null   object\n 22  YearsAtCompany                     1176 non-null   int64 \n 23  YearsInCurrentRole                 1176 non-null   int64 \n 24  YearsSinceLastPromotion            1176 non-null   int64 \n 25  YearsWithCurrManager               1176 non-null   int64 \n 26  Attrition                          1176 non-null   uint8 \n 27  BusinessTravel_Travel_Frequently   1176 non-null   uint8 \n 28  BusinessTravel_Travel_Rarely       1176 non-null   uint8 \n 29  Department_Research & Development  1176 non-null   uint8 \n 30  Department_Sales                   1176 non-null   uint8 \n 31  EducationField_Life Sciences       1176 non-null   uint8 \n 32  EducationField_Marketing           1176 non-null   uint8 \n 33  EducationField_Medical             1176 non-null   uint8 \n 34  EducationField_Other               1176 non-null   uint8 \n 35  EducationField_Technical Degree    1176 non-null   uint8 \n 36  Gender                             1176 non-null   uint8 \n 37  JobRole_Human Resources            1176 non-null   uint8 \n 38  JobRole_Laboratory Technician      1176 non-null   uint8 \n 39  JobRole_Manager                    1176 non-null   uint8 \n 40  JobRole_Manufacturing Director     1176 non-null   uint8 \n 41  JobRole_Research Director          1176 non-null   uint8 \n 42  JobRole_Research Scientist         1176 non-null   uint8 \n 43  JobRole_Sales Executive            1176 non-null   uint8 \n 44  JobRole_Sales Representative       1176 non-null   uint8 \n 45  MaritalStatus_Married              1176 non-null   uint8 \n 46  MaritalStatus_Single               1176 non-null   uint8 \n 47  OverTime                           1176 non-null   uint8 \ndtypes: int64(19), object(7), uint8(22)\nmemory usage: 273.3+ KB\n"
     ]
    }
   ],
   "source": [
    "# # Rename Dummy Columns\n",
    "data = data.rename(columns={\"Attrition_Yes\": \"Attrition\", \"OverTime_Yes\": \"OverTime\", \"Gender_Male\": \"Gender\"})\n",
    "data.info()"
   ]
  },
  {
   "source": [
    "### Checking Correlation Matrix for Attrition"
   ],
   "cell_type": "markdown",
   "metadata": {}
  },
  {
   "cell_type": "code",
   "execution_count": 59,
   "metadata": {},
   "outputs": [
    {
     "output_type": "execute_result",
     "data": {
      "text/plain": [
       "Attrition                            1.000000\n",
       "OverTime                             0.280567\n",
       "MaritalStatus_Single                 0.205061\n",
       "JobRole_Sales Representative         0.170863\n",
       "BusinessTravel_Travel_Frequently     0.112736\n",
       "JobRole_Laboratory Technician        0.099943\n",
       "Department_Sales                     0.084838\n",
       "DistanceFromHome                     0.067886\n",
       "EducationField_Technical Degree      0.064842\n",
       "NumCompaniesWorked                   0.063013\n",
       "EducationField_Marketing             0.045301\n",
       "Gender                               0.036962\n",
       "JobRole_Human Resources              0.035862\n",
       "MonthlyRate                          0.019092\n",
       "JobRole_Research Scientist           0.012676\n",
       "JobRole_Sales Executive              0.012341\n",
       "HourlyRate                           0.003221\n",
       "EmployeeNumber                       0.000250\n",
       "EducationField_Other                -0.005969\n",
       "PercentSalaryHike                   -0.017458\n",
       "YearsSinceLastPromotion             -0.028593\n",
       "EducationField_Life Sciences        -0.035336\n",
       "EducationField_Medical              -0.039803\n",
       "DailyRate                           -0.039971\n",
       "BusinessTravel_Travel_Rarely        -0.048013\n",
       "TrainingTimesLastYear               -0.060597\n",
       "JobRole_Manager                     -0.084434\n",
       "JobRole_Manufacturing Director      -0.087040\n",
       "Department_Research & Development   -0.089606\n",
       "JobRole_Research Director           -0.091995\n",
       "MaritalStatus_Married               -0.102940\n",
       "YearsAtCompany                      -0.132936\n",
       "Age                                 -0.153240\n",
       "StockOptionLevel                    -0.155555\n",
       "YearsWithCurrManager                -0.158191\n",
       "MonthlyIncome                       -0.159820\n",
       "TotalWorkingYears                   -0.169475\n",
       "JobLevel                            -0.172187\n",
       "YearsInCurrentRole                  -0.177569\n",
       "EmployeeCount                             NaN\n",
       "StandardHours                             NaN\n",
       "Name: Attrition, dtype: float64"
      ]
     },
     "metadata": {},
     "execution_count": 59
    }
   ],
   "source": [
    "# Analyze correlation of each variable with the target variable in the train set \n",
    "corr_matrix = data.corr()\n",
    "corr_matrix[\"Attrition\"].sort_values(ascending=False)"
   ]
  },
  {
   "cell_type": "code",
   "execution_count": 60,
   "metadata": {},
   "outputs": [
    {
     "output_type": "execute_result",
     "data": {
      "text/plain": [
       "      Age  DailyRate  DistanceFromHome Education  EmployeeCount  \\\n",
       "1097   24        350                21   College              1   \n",
       "727    18        287                 5   College              1   \n",
       "254    29       1247                20   College              1   \n",
       "1175   39        492                12  Bachelor              1   \n",
       "1341   31        311                20  Bachelor              1   \n",
       "...   ...        ...               ...       ...            ...   \n",
       "1130   35        750                28  Bachelor              1   \n",
       "1294   41        447                 5  Bachelor              1   \n",
       "860    22       1256                 3    Master              1   \n",
       "1459   29       1378                13   College              1   \n",
       "1126   50        264                 9  Bachelor              1   \n",
       "\n",
       "      EmployeeNumber EnvironmentSatisfaction  HourlyRate JobInvolvement  \\\n",
       "1097            1551                    High          57         Medium   \n",
       "727             1012                  Medium          73           High   \n",
       "254              349               Very High          45           High   \n",
       "1175            1654               Very High          66           High   \n",
       "1341            1881                  Medium          89           High   \n",
       "...              ...                     ...         ...            ...   \n",
       "1130            1596                  Medium          46      Very High   \n",
       "1294            1814                  Medium          85      Very High   \n",
       "860             1203                    High          48         Medium   \n",
       "1459            2053               Very High          46         Medium   \n",
       "1126            1591                    High          59           High   \n",
       "\n",
       "      JobLevel  ... JobRole_Laboratory Technician  JobRole_Manager  \\\n",
       "1097         1  ...                             1                0   \n",
       "727          1  ...                             0                0   \n",
       "254          2  ...                             0                0   \n",
       "1175         2  ...                             0                0   \n",
       "1341         2  ...                             1                0   \n",
       "...        ...  ...                           ...              ...   \n",
       "1130         2  ...                             1                0   \n",
       "1294         2  ...                             0                0   \n",
       "860          1  ...                             0                0   \n",
       "1459         2  ...                             1                0   \n",
       "1126         5  ...                             0                1   \n",
       "\n",
       "      JobRole_Manufacturing Director  JobRole_Research Director  \\\n",
       "1097                               0                          0   \n",
       "727                                0                          0   \n",
       "254                                0                          0   \n",
       "1175                               1                          0   \n",
       "1341                               0                          0   \n",
       "...                              ...                        ...   \n",
       "1130                               0                          0   \n",
       "1294                               0                          0   \n",
       "860                                0                          0   \n",
       "1459                               0                          0   \n",
       "1126                               0                          0   \n",
       "\n",
       "      JobRole_Research Scientist JobRole_Sales Executive  \\\n",
       "1097                           0                       0   \n",
       "727                            1                       0   \n",
       "254                            0                       1   \n",
       "1175                           0                       0   \n",
       "1341                           0                       0   \n",
       "...                          ...                     ...   \n",
       "1130                           0                       0   \n",
       "1294                           0                       0   \n",
       "860                            1                       0   \n",
       "1459                           0                       0   \n",
       "1126                           0                       0   \n",
       "\n",
       "     JobRole_Sales Representative  MaritalStatus_Married  \\\n",
       "1097                            0                      0   \n",
       "727                             0                      0   \n",
       "254                             0                      0   \n",
       "1175                            0                      1   \n",
       "1341                            0                      0   \n",
       "...                           ...                    ...   \n",
       "1130                            0                      1   \n",
       "1294                            0                      0   \n",
       "860                             0                      1   \n",
       "1459                            0                      1   \n",
       "1126                            0                      1   \n",
       "\n",
       "      MaritalStatus_Single  OverTime  \n",
       "1097                     0         0  \n",
       "727                      1         0  \n",
       "254                      0         0  \n",
       "1175                     0         0  \n",
       "1341                     0         0  \n",
       "...                    ...       ...  \n",
       "1130                     0         0  \n",
       "1294                     1         0  \n",
       "860                      0         1  \n",
       "1459                     0         1  \n",
       "1126                     0         1  \n",
       "\n",
       "[1176 rows x 47 columns]"
      ],
      "text/html": "<div>\n<style scoped>\n    .dataframe tbody tr th:only-of-type {\n        vertical-align: middle;\n    }\n\n    .dataframe tbody tr th {\n        vertical-align: top;\n    }\n\n    .dataframe thead th {\n        text-align: right;\n    }\n</style>\n<table border=\"1\" class=\"dataframe\">\n  <thead>\n    <tr style=\"text-align: right;\">\n      <th></th>\n      <th>Age</th>\n      <th>DailyRate</th>\n      <th>DistanceFromHome</th>\n      <th>Education</th>\n      <th>EmployeeCount</th>\n      <th>EmployeeNumber</th>\n      <th>EnvironmentSatisfaction</th>\n      <th>HourlyRate</th>\n      <th>JobInvolvement</th>\n      <th>JobLevel</th>\n      <th>...</th>\n      <th>JobRole_Laboratory Technician</th>\n      <th>JobRole_Manager</th>\n      <th>JobRole_Manufacturing Director</th>\n      <th>JobRole_Research Director</th>\n      <th>JobRole_Research Scientist</th>\n      <th>JobRole_Sales Executive</th>\n      <th>JobRole_Sales Representative</th>\n      <th>MaritalStatus_Married</th>\n      <th>MaritalStatus_Single</th>\n      <th>OverTime</th>\n    </tr>\n  </thead>\n  <tbody>\n    <tr>\n      <th>1097</th>\n      <td>24</td>\n      <td>350</td>\n      <td>21</td>\n      <td>College</td>\n      <td>1</td>\n      <td>1551</td>\n      <td>High</td>\n      <td>57</td>\n      <td>Medium</td>\n      <td>1</td>\n      <td>...</td>\n      <td>1</td>\n      <td>0</td>\n      <td>0</td>\n      <td>0</td>\n      <td>0</td>\n      <td>0</td>\n      <td>0</td>\n      <td>0</td>\n      <td>0</td>\n      <td>0</td>\n    </tr>\n    <tr>\n      <th>727</th>\n      <td>18</td>\n      <td>287</td>\n      <td>5</td>\n      <td>College</td>\n      <td>1</td>\n      <td>1012</td>\n      <td>Medium</td>\n      <td>73</td>\n      <td>High</td>\n      <td>1</td>\n      <td>...</td>\n      <td>0</td>\n      <td>0</td>\n      <td>0</td>\n      <td>0</td>\n      <td>1</td>\n      <td>0</td>\n      <td>0</td>\n      <td>0</td>\n      <td>1</td>\n      <td>0</td>\n    </tr>\n    <tr>\n      <th>254</th>\n      <td>29</td>\n      <td>1247</td>\n      <td>20</td>\n      <td>College</td>\n      <td>1</td>\n      <td>349</td>\n      <td>Very High</td>\n      <td>45</td>\n      <td>High</td>\n      <td>2</td>\n      <td>...</td>\n      <td>0</td>\n      <td>0</td>\n      <td>0</td>\n      <td>0</td>\n      <td>0</td>\n      <td>1</td>\n      <td>0</td>\n      <td>0</td>\n      <td>0</td>\n      <td>0</td>\n    </tr>\n    <tr>\n      <th>1175</th>\n      <td>39</td>\n      <td>492</td>\n      <td>12</td>\n      <td>Bachelor</td>\n      <td>1</td>\n      <td>1654</td>\n      <td>Very High</td>\n      <td>66</td>\n      <td>High</td>\n      <td>2</td>\n      <td>...</td>\n      <td>0</td>\n      <td>0</td>\n      <td>1</td>\n      <td>0</td>\n      <td>0</td>\n      <td>0</td>\n      <td>0</td>\n      <td>1</td>\n      <td>0</td>\n      <td>0</td>\n    </tr>\n    <tr>\n      <th>1341</th>\n      <td>31</td>\n      <td>311</td>\n      <td>20</td>\n      <td>Bachelor</td>\n      <td>1</td>\n      <td>1881</td>\n      <td>Medium</td>\n      <td>89</td>\n      <td>High</td>\n      <td>2</td>\n      <td>...</td>\n      <td>1</td>\n      <td>0</td>\n      <td>0</td>\n      <td>0</td>\n      <td>0</td>\n      <td>0</td>\n      <td>0</td>\n      <td>0</td>\n      <td>0</td>\n      <td>0</td>\n    </tr>\n    <tr>\n      <th>...</th>\n      <td>...</td>\n      <td>...</td>\n      <td>...</td>\n      <td>...</td>\n      <td>...</td>\n      <td>...</td>\n      <td>...</td>\n      <td>...</td>\n      <td>...</td>\n      <td>...</td>\n      <td>...</td>\n      <td>...</td>\n      <td>...</td>\n      <td>...</td>\n      <td>...</td>\n      <td>...</td>\n      <td>...</td>\n      <td>...</td>\n      <td>...</td>\n      <td>...</td>\n      <td>...</td>\n    </tr>\n    <tr>\n      <th>1130</th>\n      <td>35</td>\n      <td>750</td>\n      <td>28</td>\n      <td>Bachelor</td>\n      <td>1</td>\n      <td>1596</td>\n      <td>Medium</td>\n      <td>46</td>\n      <td>Very High</td>\n      <td>2</td>\n      <td>...</td>\n      <td>1</td>\n      <td>0</td>\n      <td>0</td>\n      <td>0</td>\n      <td>0</td>\n      <td>0</td>\n      <td>0</td>\n      <td>1</td>\n      <td>0</td>\n      <td>0</td>\n    </tr>\n    <tr>\n      <th>1294</th>\n      <td>41</td>\n      <td>447</td>\n      <td>5</td>\n      <td>Bachelor</td>\n      <td>1</td>\n      <td>1814</td>\n      <td>Medium</td>\n      <td>85</td>\n      <td>Very High</td>\n      <td>2</td>\n      <td>...</td>\n      <td>0</td>\n      <td>0</td>\n      <td>0</td>\n      <td>0</td>\n      <td>0</td>\n      <td>0</td>\n      <td>0</td>\n      <td>0</td>\n      <td>1</td>\n      <td>0</td>\n    </tr>\n    <tr>\n      <th>860</th>\n      <td>22</td>\n      <td>1256</td>\n      <td>3</td>\n      <td>Master</td>\n      <td>1</td>\n      <td>1203</td>\n      <td>High</td>\n      <td>48</td>\n      <td>Medium</td>\n      <td>1</td>\n      <td>...</td>\n      <td>0</td>\n      <td>0</td>\n      <td>0</td>\n      <td>0</td>\n      <td>1</td>\n      <td>0</td>\n      <td>0</td>\n      <td>1</td>\n      <td>0</td>\n      <td>1</td>\n    </tr>\n    <tr>\n      <th>1459</th>\n      <td>29</td>\n      <td>1378</td>\n      <td>13</td>\n      <td>College</td>\n      <td>1</td>\n      <td>2053</td>\n      <td>Very High</td>\n      <td>46</td>\n      <td>Medium</td>\n      <td>2</td>\n      <td>...</td>\n      <td>1</td>\n      <td>0</td>\n      <td>0</td>\n      <td>0</td>\n      <td>0</td>\n      <td>0</td>\n      <td>0</td>\n      <td>1</td>\n      <td>0</td>\n      <td>1</td>\n    </tr>\n    <tr>\n      <th>1126</th>\n      <td>50</td>\n      <td>264</td>\n      <td>9</td>\n      <td>Bachelor</td>\n      <td>1</td>\n      <td>1591</td>\n      <td>High</td>\n      <td>59</td>\n      <td>High</td>\n      <td>5</td>\n      <td>...</td>\n      <td>0</td>\n      <td>1</td>\n      <td>0</td>\n      <td>0</td>\n      <td>0</td>\n      <td>0</td>\n      <td>0</td>\n      <td>1</td>\n      <td>0</td>\n      <td>1</td>\n    </tr>\n  </tbody>\n</table>\n<p>1176 rows × 47 columns</p>\n</div>"
     },
     "metadata": {},
     "execution_count": 60
    }
   ],
   "source": [
    "# Setting target and feature variables in the training data set\n",
    "X = train_set.drop([\"Attrition\"], axis=1)\n",
    "y = train_set[\"Attrition\"].copy()\n",
    "X"
   ]
  },
  {
   "cell_type": "code",
   "execution_count": null,
   "metadata": {},
   "outputs": [],
   "source": []
  },
  {
   "cell_type": "code",
   "execution_count": null,
   "metadata": {},
   "outputs": [],
   "source": []
  },
  {
   "cell_type": "code",
   "execution_count": null,
   "metadata": {},
   "outputs": [],
   "source": []
  },
  {
   "cell_type": "code",
   "execution_count": null,
   "metadata": {},
   "outputs": [],
   "source": []
  },
  {
   "cell_type": "code",
   "execution_count": null,
   "metadata": {},
   "outputs": [],
   "source": []
  },
  {
   "cell_type": "code",
   "execution_count": null,
   "metadata": {},
   "outputs": [],
   "source": []
  },
  {
   "cell_type": "code",
   "execution_count": null,
   "metadata": {},
   "outputs": [],
   "source": []
  }
 ]
}