{
 "metadata": {
  "language_info": {
   "codemirror_mode": {
    "name": "ipython",
    "version": 3
   },
   "file_extension": ".py",
   "mimetype": "text/x-python",
   "name": "python",
   "nbconvert_exporter": "python",
   "pygments_lexer": "ipython3",
   "version": "3.6.13"
  },
  "orig_nbformat": 2,
  "kernelspec": {
   "name": "python3613jvsc74a57bd021df4bf8aa744819da7029291a170c301aca2ae776ef79a33d4b0d42fed7be0e",
   "display_name": "Python 3.6.13 64-bit ('PythonAdv': conda)"
  }
 },
 "nbformat": 4,
 "nbformat_minor": 2,
 "cells": [
  {
   "cell_type": "code",
   "execution_count": 3,
   "metadata": {},
   "outputs": [],
   "source": [
    "import numpy as np\n",
    "import pandas as pd\n",
    "import matplotlib.pyplot as plt\n",
    "import seaborn as sns\n",
    "\n",
    "from sklearn.model_selection import train_test_split\n",
    "\n",
    "import warnings\n",
    "warnings.filterwarnings('ignore')"
   ]
  },
  {
   "cell_type": "code",
   "execution_count": 2,
   "metadata": {},
   "outputs": [
    {
     "output_type": "execute_result",
     "data": {
      "text/plain": [
       "      Age Attrition     BusinessTravel  DailyRate              Department  \\\n",
       "0      41       Yes      Travel_Rarely       1102                   Sales   \n",
       "1      49        No  Travel_Frequently        279  Research & Development   \n",
       "2      37       Yes      Travel_Rarely       1373  Research & Development   \n",
       "3      33        No  Travel_Frequently       1392  Research & Development   \n",
       "4      27        No      Travel_Rarely        591  Research & Development   \n",
       "...   ...       ...                ...        ...                     ...   \n",
       "1465   36        No  Travel_Frequently        884  Research & Development   \n",
       "1466   39        No      Travel_Rarely        613  Research & Development   \n",
       "1467   27        No      Travel_Rarely        155  Research & Development   \n",
       "1468   49        No  Travel_Frequently       1023                   Sales   \n",
       "1469   34        No      Travel_Rarely        628  Research & Development   \n",
       "\n",
       "      DistanceFromHome  Education EducationField  EmployeeCount  \\\n",
       "0                    1          2  Life Sciences              1   \n",
       "1                    8          1  Life Sciences              1   \n",
       "2                    2          2          Other              1   \n",
       "3                    3          4  Life Sciences              1   \n",
       "4                    2          1        Medical              1   \n",
       "...                ...        ...            ...            ...   \n",
       "1465                23          2        Medical              1   \n",
       "1466                 6          1        Medical              1   \n",
       "1467                 4          3  Life Sciences              1   \n",
       "1468                 2          3        Medical              1   \n",
       "1469                 8          3        Medical              1   \n",
       "\n",
       "      EmployeeNumber  ...  RelationshipSatisfaction StandardHours  \\\n",
       "0                  1  ...                         1            80   \n",
       "1                  2  ...                         4            80   \n",
       "2                  4  ...                         2            80   \n",
       "3                  5  ...                         3            80   \n",
       "4                  7  ...                         4            80   \n",
       "...              ...  ...                       ...           ...   \n",
       "1465            2061  ...                         3            80   \n",
       "1466            2062  ...                         1            80   \n",
       "1467            2064  ...                         2            80   \n",
       "1468            2065  ...                         4            80   \n",
       "1469            2068  ...                         1            80   \n",
       "\n",
       "      StockOptionLevel  TotalWorkingYears  TrainingTimesLastYear  \\\n",
       "0                    0                  8                      0   \n",
       "1                    1                 10                      3   \n",
       "2                    0                  7                      3   \n",
       "3                    0                  8                      3   \n",
       "4                    1                  6                      3   \n",
       "...                ...                ...                    ...   \n",
       "1465                 1                 17                      3   \n",
       "1466                 1                  9                      5   \n",
       "1467                 1                  6                      0   \n",
       "1468                 0                 17                      3   \n",
       "1469                 0                  6                      3   \n",
       "\n",
       "     WorkLifeBalance  YearsAtCompany YearsInCurrentRole  \\\n",
       "0                  1               6                  4   \n",
       "1                  3              10                  7   \n",
       "2                  3               0                  0   \n",
       "3                  3               8                  7   \n",
       "4                  3               2                  2   \n",
       "...              ...             ...                ...   \n",
       "1465               3               5                  2   \n",
       "1466               3               7                  7   \n",
       "1467               3               6                  2   \n",
       "1468               2               9                  6   \n",
       "1469               4               4                  3   \n",
       "\n",
       "      YearsSinceLastPromotion  YearsWithCurrManager  \n",
       "0                           0                     5  \n",
       "1                           1                     7  \n",
       "2                           0                     0  \n",
       "3                           3                     0  \n",
       "4                           2                     2  \n",
       "...                       ...                   ...  \n",
       "1465                        0                     3  \n",
       "1466                        1                     7  \n",
       "1467                        0                     3  \n",
       "1468                        0                     8  \n",
       "1469                        1                     2  \n",
       "\n",
       "[1470 rows x 35 columns]"
      ],
      "text/html": "<div>\n<style scoped>\n    .dataframe tbody tr th:only-of-type {\n        vertical-align: middle;\n    }\n\n    .dataframe tbody tr th {\n        vertical-align: top;\n    }\n\n    .dataframe thead th {\n        text-align: right;\n    }\n</style>\n<table border=\"1\" class=\"dataframe\">\n  <thead>\n    <tr style=\"text-align: right;\">\n      <th></th>\n      <th>Age</th>\n      <th>Attrition</th>\n      <th>BusinessTravel</th>\n      <th>DailyRate</th>\n      <th>Department</th>\n      <th>DistanceFromHome</th>\n      <th>Education</th>\n      <th>EducationField</th>\n      <th>EmployeeCount</th>\n      <th>EmployeeNumber</th>\n      <th>...</th>\n      <th>RelationshipSatisfaction</th>\n      <th>StandardHours</th>\n      <th>StockOptionLevel</th>\n      <th>TotalWorkingYears</th>\n      <th>TrainingTimesLastYear</th>\n      <th>WorkLifeBalance</th>\n      <th>YearsAtCompany</th>\n      <th>YearsInCurrentRole</th>\n      <th>YearsSinceLastPromotion</th>\n      <th>YearsWithCurrManager</th>\n    </tr>\n  </thead>\n  <tbody>\n    <tr>\n      <th>0</th>\n      <td>41</td>\n      <td>Yes</td>\n      <td>Travel_Rarely</td>\n      <td>1102</td>\n      <td>Sales</td>\n      <td>1</td>\n      <td>2</td>\n      <td>Life Sciences</td>\n      <td>1</td>\n      <td>1</td>\n      <td>...</td>\n      <td>1</td>\n      <td>80</td>\n      <td>0</td>\n      <td>8</td>\n      <td>0</td>\n      <td>1</td>\n      <td>6</td>\n      <td>4</td>\n      <td>0</td>\n      <td>5</td>\n    </tr>\n    <tr>\n      <th>1</th>\n      <td>49</td>\n      <td>No</td>\n      <td>Travel_Frequently</td>\n      <td>279</td>\n      <td>Research &amp; Development</td>\n      <td>8</td>\n      <td>1</td>\n      <td>Life Sciences</td>\n      <td>1</td>\n      <td>2</td>\n      <td>...</td>\n      <td>4</td>\n      <td>80</td>\n      <td>1</td>\n      <td>10</td>\n      <td>3</td>\n      <td>3</td>\n      <td>10</td>\n      <td>7</td>\n      <td>1</td>\n      <td>7</td>\n    </tr>\n    <tr>\n      <th>2</th>\n      <td>37</td>\n      <td>Yes</td>\n      <td>Travel_Rarely</td>\n      <td>1373</td>\n      <td>Research &amp; Development</td>\n      <td>2</td>\n      <td>2</td>\n      <td>Other</td>\n      <td>1</td>\n      <td>4</td>\n      <td>...</td>\n      <td>2</td>\n      <td>80</td>\n      <td>0</td>\n      <td>7</td>\n      <td>3</td>\n      <td>3</td>\n      <td>0</td>\n      <td>0</td>\n      <td>0</td>\n      <td>0</td>\n    </tr>\n    <tr>\n      <th>3</th>\n      <td>33</td>\n      <td>No</td>\n      <td>Travel_Frequently</td>\n      <td>1392</td>\n      <td>Research &amp; Development</td>\n      <td>3</td>\n      <td>4</td>\n      <td>Life Sciences</td>\n      <td>1</td>\n      <td>5</td>\n      <td>...</td>\n      <td>3</td>\n      <td>80</td>\n      <td>0</td>\n      <td>8</td>\n      <td>3</td>\n      <td>3</td>\n      <td>8</td>\n      <td>7</td>\n      <td>3</td>\n      <td>0</td>\n    </tr>\n    <tr>\n      <th>4</th>\n      <td>27</td>\n      <td>No</td>\n      <td>Travel_Rarely</td>\n      <td>591</td>\n      <td>Research &amp; Development</td>\n      <td>2</td>\n      <td>1</td>\n      <td>Medical</td>\n      <td>1</td>\n      <td>7</td>\n      <td>...</td>\n      <td>4</td>\n      <td>80</td>\n      <td>1</td>\n      <td>6</td>\n      <td>3</td>\n      <td>3</td>\n      <td>2</td>\n      <td>2</td>\n      <td>2</td>\n      <td>2</td>\n    </tr>\n    <tr>\n      <th>...</th>\n      <td>...</td>\n      <td>...</td>\n      <td>...</td>\n      <td>...</td>\n      <td>...</td>\n      <td>...</td>\n      <td>...</td>\n      <td>...</td>\n      <td>...</td>\n      <td>...</td>\n      <td>...</td>\n      <td>...</td>\n      <td>...</td>\n      <td>...</td>\n      <td>...</td>\n      <td>...</td>\n      <td>...</td>\n      <td>...</td>\n      <td>...</td>\n      <td>...</td>\n      <td>...</td>\n    </tr>\n    <tr>\n      <th>1465</th>\n      <td>36</td>\n      <td>No</td>\n      <td>Travel_Frequently</td>\n      <td>884</td>\n      <td>Research &amp; Development</td>\n      <td>23</td>\n      <td>2</td>\n      <td>Medical</td>\n      <td>1</td>\n      <td>2061</td>\n      <td>...</td>\n      <td>3</td>\n      <td>80</td>\n      <td>1</td>\n      <td>17</td>\n      <td>3</td>\n      <td>3</td>\n      <td>5</td>\n      <td>2</td>\n      <td>0</td>\n      <td>3</td>\n    </tr>\n    <tr>\n      <th>1466</th>\n      <td>39</td>\n      <td>No</td>\n      <td>Travel_Rarely</td>\n      <td>613</td>\n      <td>Research &amp; Development</td>\n      <td>6</td>\n      <td>1</td>\n      <td>Medical</td>\n      <td>1</td>\n      <td>2062</td>\n      <td>...</td>\n      <td>1</td>\n      <td>80</td>\n      <td>1</td>\n      <td>9</td>\n      <td>5</td>\n      <td>3</td>\n      <td>7</td>\n      <td>7</td>\n      <td>1</td>\n      <td>7</td>\n    </tr>\n    <tr>\n      <th>1467</th>\n      <td>27</td>\n      <td>No</td>\n      <td>Travel_Rarely</td>\n      <td>155</td>\n      <td>Research &amp; Development</td>\n      <td>4</td>\n      <td>3</td>\n      <td>Life Sciences</td>\n      <td>1</td>\n      <td>2064</td>\n      <td>...</td>\n      <td>2</td>\n      <td>80</td>\n      <td>1</td>\n      <td>6</td>\n      <td>0</td>\n      <td>3</td>\n      <td>6</td>\n      <td>2</td>\n      <td>0</td>\n      <td>3</td>\n    </tr>\n    <tr>\n      <th>1468</th>\n      <td>49</td>\n      <td>No</td>\n      <td>Travel_Frequently</td>\n      <td>1023</td>\n      <td>Sales</td>\n      <td>2</td>\n      <td>3</td>\n      <td>Medical</td>\n      <td>1</td>\n      <td>2065</td>\n      <td>...</td>\n      <td>4</td>\n      <td>80</td>\n      <td>0</td>\n      <td>17</td>\n      <td>3</td>\n      <td>2</td>\n      <td>9</td>\n      <td>6</td>\n      <td>0</td>\n      <td>8</td>\n    </tr>\n    <tr>\n      <th>1469</th>\n      <td>34</td>\n      <td>No</td>\n      <td>Travel_Rarely</td>\n      <td>628</td>\n      <td>Research &amp; Development</td>\n      <td>8</td>\n      <td>3</td>\n      <td>Medical</td>\n      <td>1</td>\n      <td>2068</td>\n      <td>...</td>\n      <td>1</td>\n      <td>80</td>\n      <td>0</td>\n      <td>6</td>\n      <td>3</td>\n      <td>4</td>\n      <td>4</td>\n      <td>3</td>\n      <td>1</td>\n      <td>2</td>\n    </tr>\n  </tbody>\n</table>\n<p>1470 rows × 35 columns</p>\n</div>"
     },
     "metadata": {},
     "execution_count": 2
    }
   ],
   "source": [
    "# Read in csv data\n",
    "attrition_df = pd.read_csv(\"data/IBM_attrition_data.csv\")\n",
    "attrition_df"
   ]
  },
  {
   "cell_type": "code",
   "execution_count": 7,
   "metadata": {},
   "outputs": [
    {
     "output_type": "stream",
     "name": "stdout",
     "text": [
      "<class 'pandas.core.frame.DataFrame'>\nRangeIndex: 1470 entries, 0 to 1469\nData columns (total 35 columns):\n #   Column                    Non-Null Count  Dtype \n---  ------                    --------------  ----- \n 0   Age                       1470 non-null   int64 \n 1   Attrition                 1470 non-null   object\n 2   BusinessTravel            1470 non-null   object\n 3   DailyRate                 1470 non-null   int64 \n 4   Department                1470 non-null   object\n 5   DistanceFromHome          1470 non-null   int64 \n 6   Education                 1470 non-null   int64 \n 7   EducationField            1470 non-null   object\n 8   EmployeeCount             1470 non-null   int64 \n 9   EmployeeNumber            1470 non-null   int64 \n 10  EnvironmentSatisfaction   1470 non-null   int64 \n 11  Gender                    1470 non-null   object\n 12  HourlyRate                1470 non-null   int64 \n 13  JobInvolvement            1470 non-null   int64 \n 14  JobLevel                  1470 non-null   int64 \n 15  JobRole                   1470 non-null   object\n 16  JobSatisfaction           1470 non-null   int64 \n 17  MaritalStatus             1470 non-null   object\n 18  MonthlyIncome             1470 non-null   int64 \n 19  MonthlyRate               1470 non-null   int64 \n 20  NumCompaniesWorked        1470 non-null   int64 \n 21  Over18                    1470 non-null   object\n 22  OverTime                  1470 non-null   object\n 23  PercentSalaryHike         1470 non-null   int64 \n 24  PerformanceRating         1470 non-null   int64 \n 25  RelationshipSatisfaction  1470 non-null   int64 \n 26  StandardHours             1470 non-null   int64 \n 27  StockOptionLevel          1470 non-null   int64 \n 28  TotalWorkingYears         1470 non-null   int64 \n 29  TrainingTimesLastYear     1470 non-null   int64 \n 30  WorkLifeBalance           1470 non-null   int64 \n 31  YearsAtCompany            1470 non-null   int64 \n 32  YearsInCurrentRole        1470 non-null   int64 \n 33  YearsSinceLastPromotion   1470 non-null   int64 \n 34  YearsWithCurrManager      1470 non-null   int64 \ndtypes: int64(26), object(9)\nmemory usage: 402.1+ KB\n"
     ]
    }
   ],
   "source": [
    "attrition_df.info()"
   ]
  },
  {
   "cell_type": "code",
   "execution_count": 8,
   "metadata": {},
   "outputs": [],
   "source": [
    "# Drop unnecessary columns\n",
    "attrition_df = attrition_df.drop([\"Over18\", \"EmployeeCount\", \"StandardHours\", \"EmployeeNumber\"], axis=1)"
   ]
  },
  {
   "cell_type": "code",
   "execution_count": 9,
   "metadata": {},
   "outputs": [],
   "source": [
    "# Create train and test set from data\n",
    "train_set, test_set = train_test_split(attrition_df, test_size=0.2, random_state=42)"
   ]
  },
  {
   "cell_type": "code",
   "execution_count": 11,
   "metadata": {},
   "outputs": [
    {
     "output_type": "execute_result",
     "data": {
      "text/plain": [
       "      Age     BusinessTravel  DailyRate              Department  \\\n",
       "1097   24      Travel_Rarely        350  Research & Development   \n",
       "727    18         Non-Travel        287  Research & Development   \n",
       "254    29      Travel_Rarely       1247                   Sales   \n",
       "1175   39      Travel_Rarely        492  Research & Development   \n",
       "1341   31      Travel_Rarely        311  Research & Development   \n",
       "...   ...                ...        ...                     ...   \n",
       "1130   35      Travel_Rarely        750  Research & Development   \n",
       "1294   41      Travel_Rarely        447  Research & Development   \n",
       "860    22  Travel_Frequently       1256  Research & Development   \n",
       "1459   29      Travel_Rarely       1378  Research & Development   \n",
       "1126   50      Travel_Rarely        264                   Sales   \n",
       "\n",
       "      DistanceFromHome  Education    EducationField  EnvironmentSatisfaction  \\\n",
       "1097                21          2  Technical Degree                        3   \n",
       "727                  5          2     Life Sciences                        2   \n",
       "254                 20          2         Marketing                        4   \n",
       "1175                12          3           Medical                        4   \n",
       "1341                20          3     Life Sciences                        2   \n",
       "...                ...        ...               ...                      ...   \n",
       "1130                28          3     Life Sciences                        2   \n",
       "1294                 5          3     Life Sciences                        2   \n",
       "860                  3          4     Life Sciences                        3   \n",
       "1459                13          2             Other                        4   \n",
       "1126                 9          3         Marketing                        3   \n",
       "\n",
       "     Gender  HourlyRate  ...  PerformanceRating  RelationshipSatisfaction  \\\n",
       "1097   Male          57  ...                  3                         2   \n",
       "727    Male          73  ...                  3                         4   \n",
       "254    Male          45  ...                  3                         4   \n",
       "1175   Male          66  ...                  4                         3   \n",
       "1341   Male          89  ...                  3                         1   \n",
       "...     ...         ...  ...                ...                       ...   \n",
       "1130   Male          46  ...                  3                         4   \n",
       "1294   Male          85  ...                  3                         1   \n",
       "860    Male          48  ...                  3                         2   \n",
       "1459   Male          46  ...                  3                         1   \n",
       "1126   Male          59  ...                  3                         3   \n",
       "\n",
       "     StockOptionLevel  TotalWorkingYears TrainingTimesLastYear  \\\n",
       "1097                3                  2                     3   \n",
       "727                 0                  0                     2   \n",
       "254                 1                 10                     2   \n",
       "1175                0                  7                     3   \n",
       "1341                1                 10                     2   \n",
       "...               ...                ...                   ...   \n",
       "1130                2                 10                     3   \n",
       "1294                0                 11                     3   \n",
       "860                 1                  1                     5   \n",
       "1459                1                 10                     2   \n",
       "1126                1                 27                     2   \n",
       "\n",
       "      WorkLifeBalance  YearsAtCompany  YearsInCurrentRole  \\\n",
       "1097                3               1                   1   \n",
       "727                 3               0                   0   \n",
       "254                 3               3                   2   \n",
       "1175                3               5                   4   \n",
       "1341                3              10                   8   \n",
       "...               ...             ...                 ...   \n",
       "1130                2              10                   9   \n",
       "1294                1               3                   2   \n",
       "860                 3               0                   0   \n",
       "1459                3               4                   3   \n",
       "1126                3               1                   0   \n",
       "\n",
       "     YearsSinceLastPromotion  YearsWithCurrManager  \n",
       "1097                       0                     0  \n",
       "727                        0                     0  \n",
       "254                        0                     2  \n",
       "1175                       1                     0  \n",
       "1341                       0                     2  \n",
       "...                      ...                   ...  \n",
       "1130                       6                     8  \n",
       "1294                       1                     2  \n",
       "860                        0                     0  \n",
       "1459                       0                     3  \n",
       "1126                       0                     0  \n",
       "\n",
       "[1176 rows x 30 columns]"
      ],
      "text/html": "<div>\n<style scoped>\n    .dataframe tbody tr th:only-of-type {\n        vertical-align: middle;\n    }\n\n    .dataframe tbody tr th {\n        vertical-align: top;\n    }\n\n    .dataframe thead th {\n        text-align: right;\n    }\n</style>\n<table border=\"1\" class=\"dataframe\">\n  <thead>\n    <tr style=\"text-align: right;\">\n      <th></th>\n      <th>Age</th>\n      <th>BusinessTravel</th>\n      <th>DailyRate</th>\n      <th>Department</th>\n      <th>DistanceFromHome</th>\n      <th>Education</th>\n      <th>EducationField</th>\n      <th>EnvironmentSatisfaction</th>\n      <th>Gender</th>\n      <th>HourlyRate</th>\n      <th>...</th>\n      <th>PerformanceRating</th>\n      <th>RelationshipSatisfaction</th>\n      <th>StockOptionLevel</th>\n      <th>TotalWorkingYears</th>\n      <th>TrainingTimesLastYear</th>\n      <th>WorkLifeBalance</th>\n      <th>YearsAtCompany</th>\n      <th>YearsInCurrentRole</th>\n      <th>YearsSinceLastPromotion</th>\n      <th>YearsWithCurrManager</th>\n    </tr>\n  </thead>\n  <tbody>\n    <tr>\n      <th>1097</th>\n      <td>24</td>\n      <td>Travel_Rarely</td>\n      <td>350</td>\n      <td>Research &amp; Development</td>\n      <td>21</td>\n      <td>2</td>\n      <td>Technical Degree</td>\n      <td>3</td>\n      <td>Male</td>\n      <td>57</td>\n      <td>...</td>\n      <td>3</td>\n      <td>2</td>\n      <td>3</td>\n      <td>2</td>\n      <td>3</td>\n      <td>3</td>\n      <td>1</td>\n      <td>1</td>\n      <td>0</td>\n      <td>0</td>\n    </tr>\n    <tr>\n      <th>727</th>\n      <td>18</td>\n      <td>Non-Travel</td>\n      <td>287</td>\n      <td>Research &amp; Development</td>\n      <td>5</td>\n      <td>2</td>\n      <td>Life Sciences</td>\n      <td>2</td>\n      <td>Male</td>\n      <td>73</td>\n      <td>...</td>\n      <td>3</td>\n      <td>4</td>\n      <td>0</td>\n      <td>0</td>\n      <td>2</td>\n      <td>3</td>\n      <td>0</td>\n      <td>0</td>\n      <td>0</td>\n      <td>0</td>\n    </tr>\n    <tr>\n      <th>254</th>\n      <td>29</td>\n      <td>Travel_Rarely</td>\n      <td>1247</td>\n      <td>Sales</td>\n      <td>20</td>\n      <td>2</td>\n      <td>Marketing</td>\n      <td>4</td>\n      <td>Male</td>\n      <td>45</td>\n      <td>...</td>\n      <td>3</td>\n      <td>4</td>\n      <td>1</td>\n      <td>10</td>\n      <td>2</td>\n      <td>3</td>\n      <td>3</td>\n      <td>2</td>\n      <td>0</td>\n      <td>2</td>\n    </tr>\n    <tr>\n      <th>1175</th>\n      <td>39</td>\n      <td>Travel_Rarely</td>\n      <td>492</td>\n      <td>Research &amp; Development</td>\n      <td>12</td>\n      <td>3</td>\n      <td>Medical</td>\n      <td>4</td>\n      <td>Male</td>\n      <td>66</td>\n      <td>...</td>\n      <td>4</td>\n      <td>3</td>\n      <td>0</td>\n      <td>7</td>\n      <td>3</td>\n      <td>3</td>\n      <td>5</td>\n      <td>4</td>\n      <td>1</td>\n      <td>0</td>\n    </tr>\n    <tr>\n      <th>1341</th>\n      <td>31</td>\n      <td>Travel_Rarely</td>\n      <td>311</td>\n      <td>Research &amp; Development</td>\n      <td>20</td>\n      <td>3</td>\n      <td>Life Sciences</td>\n      <td>2</td>\n      <td>Male</td>\n      <td>89</td>\n      <td>...</td>\n      <td>3</td>\n      <td>1</td>\n      <td>1</td>\n      <td>10</td>\n      <td>2</td>\n      <td>3</td>\n      <td>10</td>\n      <td>8</td>\n      <td>0</td>\n      <td>2</td>\n    </tr>\n    <tr>\n      <th>...</th>\n      <td>...</td>\n      <td>...</td>\n      <td>...</td>\n      <td>...</td>\n      <td>...</td>\n      <td>...</td>\n      <td>...</td>\n      <td>...</td>\n      <td>...</td>\n      <td>...</td>\n      <td>...</td>\n      <td>...</td>\n      <td>...</td>\n      <td>...</td>\n      <td>...</td>\n      <td>...</td>\n      <td>...</td>\n      <td>...</td>\n      <td>...</td>\n      <td>...</td>\n      <td>...</td>\n    </tr>\n    <tr>\n      <th>1130</th>\n      <td>35</td>\n      <td>Travel_Rarely</td>\n      <td>750</td>\n      <td>Research &amp; Development</td>\n      <td>28</td>\n      <td>3</td>\n      <td>Life Sciences</td>\n      <td>2</td>\n      <td>Male</td>\n      <td>46</td>\n      <td>...</td>\n      <td>3</td>\n      <td>4</td>\n      <td>2</td>\n      <td>10</td>\n      <td>3</td>\n      <td>2</td>\n      <td>10</td>\n      <td>9</td>\n      <td>6</td>\n      <td>8</td>\n    </tr>\n    <tr>\n      <th>1294</th>\n      <td>41</td>\n      <td>Travel_Rarely</td>\n      <td>447</td>\n      <td>Research &amp; Development</td>\n      <td>5</td>\n      <td>3</td>\n      <td>Life Sciences</td>\n      <td>2</td>\n      <td>Male</td>\n      <td>85</td>\n      <td>...</td>\n      <td>3</td>\n      <td>1</td>\n      <td>0</td>\n      <td>11</td>\n      <td>3</td>\n      <td>1</td>\n      <td>3</td>\n      <td>2</td>\n      <td>1</td>\n      <td>2</td>\n    </tr>\n    <tr>\n      <th>860</th>\n      <td>22</td>\n      <td>Travel_Frequently</td>\n      <td>1256</td>\n      <td>Research &amp; Development</td>\n      <td>3</td>\n      <td>4</td>\n      <td>Life Sciences</td>\n      <td>3</td>\n      <td>Male</td>\n      <td>48</td>\n      <td>...</td>\n      <td>3</td>\n      <td>2</td>\n      <td>1</td>\n      <td>1</td>\n      <td>5</td>\n      <td>3</td>\n      <td>0</td>\n      <td>0</td>\n      <td>0</td>\n      <td>0</td>\n    </tr>\n    <tr>\n      <th>1459</th>\n      <td>29</td>\n      <td>Travel_Rarely</td>\n      <td>1378</td>\n      <td>Research &amp; Development</td>\n      <td>13</td>\n      <td>2</td>\n      <td>Other</td>\n      <td>4</td>\n      <td>Male</td>\n      <td>46</td>\n      <td>...</td>\n      <td>3</td>\n      <td>1</td>\n      <td>1</td>\n      <td>10</td>\n      <td>2</td>\n      <td>3</td>\n      <td>4</td>\n      <td>3</td>\n      <td>0</td>\n      <td>3</td>\n    </tr>\n    <tr>\n      <th>1126</th>\n      <td>50</td>\n      <td>Travel_Rarely</td>\n      <td>264</td>\n      <td>Sales</td>\n      <td>9</td>\n      <td>3</td>\n      <td>Marketing</td>\n      <td>3</td>\n      <td>Male</td>\n      <td>59</td>\n      <td>...</td>\n      <td>3</td>\n      <td>3</td>\n      <td>1</td>\n      <td>27</td>\n      <td>2</td>\n      <td>3</td>\n      <td>1</td>\n      <td>0</td>\n      <td>0</td>\n      <td>0</td>\n    </tr>\n  </tbody>\n</table>\n<p>1176 rows × 30 columns</p>\n</div>"
     },
     "metadata": {},
     "execution_count": 11
    }
   ],
   "source": [
    "# Segregating target and feature variables \n",
    "data = train_set.drop(\"Attrition\", axis=1)\n",
    "data_labels = train_set[\"Attrition\"].copy()\n",
    "data"
   ]
  },
  {
   "cell_type": "code",
   "execution_count": 12,
   "metadata": {},
   "outputs": [
    {
     "output_type": "stream",
     "name": "stdout",
     "text": [
      "<class 'pandas.core.frame.DataFrame'>\nInt64Index: 1176 entries, 1097 to 1126\nData columns (total 30 columns):\n #   Column                    Non-Null Count  Dtype \n---  ------                    --------------  ----- \n 0   Age                       1176 non-null   int64 \n 1   BusinessTravel            1176 non-null   object\n 2   DailyRate                 1176 non-null   int64 \n 3   Department                1176 non-null   object\n 4   DistanceFromHome          1176 non-null   int64 \n 5   Education                 1176 non-null   int64 \n 6   EducationField            1176 non-null   object\n 7   EnvironmentSatisfaction   1176 non-null   int64 \n 8   Gender                    1176 non-null   object\n 9   HourlyRate                1176 non-null   int64 \n 10  JobInvolvement            1176 non-null   int64 \n 11  JobLevel                  1176 non-null   int64 \n 12  JobRole                   1176 non-null   object\n 13  JobSatisfaction           1176 non-null   int64 \n 14  MaritalStatus             1176 non-null   object\n 15  MonthlyIncome             1176 non-null   int64 \n 16  MonthlyRate               1176 non-null   int64 \n 17  NumCompaniesWorked        1176 non-null   int64 \n 18  OverTime                  1176 non-null   object\n 19  PercentSalaryHike         1176 non-null   int64 \n 20  PerformanceRating         1176 non-null   int64 \n 21  RelationshipSatisfaction  1176 non-null   int64 \n 22  StockOptionLevel          1176 non-null   int64 \n 23  TotalWorkingYears         1176 non-null   int64 \n 24  TrainingTimesLastYear     1176 non-null   int64 \n 25  WorkLifeBalance           1176 non-null   int64 \n 26  YearsAtCompany            1176 non-null   int64 \n 27  YearsInCurrentRole        1176 non-null   int64 \n 28  YearsSinceLastPromotion   1176 non-null   int64 \n 29  YearsWithCurrManager      1176 non-null   int64 \ndtypes: int64(23), object(7)\nmemory usage: 284.8+ KB\n"
     ]
    }
   ],
   "source": [
    "data.info()"
   ]
  },
  {
   "cell_type": "code",
   "execution_count": 19,
   "metadata": {},
   "outputs": [
    {
     "output_type": "execute_result",
     "data": {
      "text/plain": [
       "      Age BusinessTravel  DailyRate              Department  DistanceFromHome  \\\n",
       "1097   24  Travel_Rarely        350  Research & Development                21   \n",
       "727    18     Non-Travel        287  Research & Development                 5   \n",
       "254    29  Travel_Rarely       1247                   Sales                20   \n",
       "1175   39  Travel_Rarely        492  Research & Development                12   \n",
       "1341   31  Travel_Rarely        311  Research & Development                20   \n",
       "\n",
       "     Education    EducationField EnvironmentSatisfaction Gender  HourlyRate  \\\n",
       "1097   College  Technical Degree                    High   Male          57   \n",
       "727    College     Life Sciences                  Medium   Male          73   \n",
       "254    College         Marketing               Very High   Male          45   \n",
       "1175  Bachelor           Medical               Very High   Male          66   \n",
       "1341  Bachelor     Life Sciences                  Medium   Male          89   \n",
       "\n",
       "      ... PerformanceRating  RelationshipSatisfaction StockOptionLevel  \\\n",
       "1097  ...              High                    Medium                3   \n",
       "727   ...              High                 Very High                0   \n",
       "254   ...              High                 Very High                1   \n",
       "1175  ...         Very High                      High                0   \n",
       "1341  ...              High                       Low                1   \n",
       "\n",
       "     TotalWorkingYears TrainingTimesLastYear  WorkLifeBalance  YearsAtCompany  \\\n",
       "1097                 2                     3           Better               1   \n",
       "727                  0                     2           Better               0   \n",
       "254                 10                     2           Better               3   \n",
       "1175                 7                     3           Better               5   \n",
       "1341                10                     2           Better              10   \n",
       "\n",
       "      YearsInCurrentRole YearsSinceLastPromotion  YearsWithCurrManager  \n",
       "1097                   1                       0                     0  \n",
       "727                    0                       0                     0  \n",
       "254                    2                       0                     2  \n",
       "1175                   4                       1                     0  \n",
       "1341                   8                       0                     2  \n",
       "\n",
       "[5 rows x 30 columns]"
      ],
      "text/html": "<div>\n<style scoped>\n    .dataframe tbody tr th:only-of-type {\n        vertical-align: middle;\n    }\n\n    .dataframe tbody tr th {\n        vertical-align: top;\n    }\n\n    .dataframe thead th {\n        text-align: right;\n    }\n</style>\n<table border=\"1\" class=\"dataframe\">\n  <thead>\n    <tr style=\"text-align: right;\">\n      <th></th>\n      <th>Age</th>\n      <th>BusinessTravel</th>\n      <th>DailyRate</th>\n      <th>Department</th>\n      <th>DistanceFromHome</th>\n      <th>Education</th>\n      <th>EducationField</th>\n      <th>EnvironmentSatisfaction</th>\n      <th>Gender</th>\n      <th>HourlyRate</th>\n      <th>...</th>\n      <th>PerformanceRating</th>\n      <th>RelationshipSatisfaction</th>\n      <th>StockOptionLevel</th>\n      <th>TotalWorkingYears</th>\n      <th>TrainingTimesLastYear</th>\n      <th>WorkLifeBalance</th>\n      <th>YearsAtCompany</th>\n      <th>YearsInCurrentRole</th>\n      <th>YearsSinceLastPromotion</th>\n      <th>YearsWithCurrManager</th>\n    </tr>\n  </thead>\n  <tbody>\n    <tr>\n      <th>1097</th>\n      <td>24</td>\n      <td>Travel_Rarely</td>\n      <td>350</td>\n      <td>Research &amp; Development</td>\n      <td>21</td>\n      <td>College</td>\n      <td>Technical Degree</td>\n      <td>High</td>\n      <td>Male</td>\n      <td>57</td>\n      <td>...</td>\n      <td>High</td>\n      <td>Medium</td>\n      <td>3</td>\n      <td>2</td>\n      <td>3</td>\n      <td>Better</td>\n      <td>1</td>\n      <td>1</td>\n      <td>0</td>\n      <td>0</td>\n    </tr>\n    <tr>\n      <th>727</th>\n      <td>18</td>\n      <td>Non-Travel</td>\n      <td>287</td>\n      <td>Research &amp; Development</td>\n      <td>5</td>\n      <td>College</td>\n      <td>Life Sciences</td>\n      <td>Medium</td>\n      <td>Male</td>\n      <td>73</td>\n      <td>...</td>\n      <td>High</td>\n      <td>Very High</td>\n      <td>0</td>\n      <td>0</td>\n      <td>2</td>\n      <td>Better</td>\n      <td>0</td>\n      <td>0</td>\n      <td>0</td>\n      <td>0</td>\n    </tr>\n    <tr>\n      <th>254</th>\n      <td>29</td>\n      <td>Travel_Rarely</td>\n      <td>1247</td>\n      <td>Sales</td>\n      <td>20</td>\n      <td>College</td>\n      <td>Marketing</td>\n      <td>Very High</td>\n      <td>Male</td>\n      <td>45</td>\n      <td>...</td>\n      <td>High</td>\n      <td>Very High</td>\n      <td>1</td>\n      <td>10</td>\n      <td>2</td>\n      <td>Better</td>\n      <td>3</td>\n      <td>2</td>\n      <td>0</td>\n      <td>2</td>\n    </tr>\n    <tr>\n      <th>1175</th>\n      <td>39</td>\n      <td>Travel_Rarely</td>\n      <td>492</td>\n      <td>Research &amp; Development</td>\n      <td>12</td>\n      <td>Bachelor</td>\n      <td>Medical</td>\n      <td>Very High</td>\n      <td>Male</td>\n      <td>66</td>\n      <td>...</td>\n      <td>Very High</td>\n      <td>High</td>\n      <td>0</td>\n      <td>7</td>\n      <td>3</td>\n      <td>Better</td>\n      <td>5</td>\n      <td>4</td>\n      <td>1</td>\n      <td>0</td>\n    </tr>\n    <tr>\n      <th>1341</th>\n      <td>31</td>\n      <td>Travel_Rarely</td>\n      <td>311</td>\n      <td>Research &amp; Development</td>\n      <td>20</td>\n      <td>Bachelor</td>\n      <td>Life Sciences</td>\n      <td>Medium</td>\n      <td>Male</td>\n      <td>89</td>\n      <td>...</td>\n      <td>High</td>\n      <td>Low</td>\n      <td>1</td>\n      <td>10</td>\n      <td>2</td>\n      <td>Better</td>\n      <td>10</td>\n      <td>8</td>\n      <td>0</td>\n      <td>2</td>\n    </tr>\n  </tbody>\n</table>\n<p>5 rows × 30 columns</p>\n</div>"
     },
     "metadata": {},
     "execution_count": 19
    }
   ],
   "source": [
    "# Preprocessing categorical columns \n",
    "def preprocess_cat_columns(attrition_df):\n",
    "    attrition_df[\"Education\"] = attrition_df[\"Education\"].map({1:\"Below College\", 2:\"College\", 3:\"Bachelor\", 4:\"Master\",5:\"Doctor\"}) \n",
    "    attrition_df[\"EnvironmentSatisfaction\"] = attrition_df[\"EnvironmentSatisfaction\"].map({1:\"Low\", 2:\"Medium\", 3:\"High\", 4:\"Very High\"})\n",
    "    attrition_df[\"JobInvolvement\"] = attrition_df[\"JobInvolvement\"].map({1:\"Low\", 2:\"Medium\", 3:\"High\", 4:\"Very High\"})\n",
    "    attrition_df[\"JobSatisfaction\"] = attrition_df[\"JobSatisfaction\"].map({1:\"Low\", 2:\"Medium\", 3:\"High\", 4:\"Very High\"})\n",
    "    attrition_df[\"PerformanceRating\"] = attrition_df[\"PerformanceRating\"].map({1:\"Low\", 2:\"Medium\", 3:\"High\", 4:\"Very High\"})\n",
    "    attrition_df[\"RelationshipSatisfaction\"] = attrition_df[\"RelationshipSatisfaction\"].map({1:\"Low\", 2:\"Medium\", 3:\"High\", 4:\"Very High\"})\n",
    "    attrition_df[\"WorkLifeBalance\"] = attrition_df[\"WorkLifeBalance\"].map({1:\"Bad\", 2:\"Good\", 3:\"Better\", 4:\"Best\"})\n",
    "    return attrition_df\n",
    "\n",
    "\n",
    "data_tr = preprocess_cat_columns(data)\n",
    "data_tr.head()"
   ]
  },
  {
   "cell_type": "code",
   "execution_count": 20,
   "metadata": {},
   "outputs": [
    {
     "output_type": "stream",
     "name": "stdout",
     "text": [
      "<class 'pandas.core.frame.DataFrame'>\nInt64Index: 1176 entries, 1097 to 1126\nData columns (total 30 columns):\n #   Column                    Non-Null Count  Dtype \n---  ------                    --------------  ----- \n 0   Age                       1176 non-null   int64 \n 1   BusinessTravel            1176 non-null   object\n 2   DailyRate                 1176 non-null   int64 \n 3   Department                1176 non-null   object\n 4   DistanceFromHome          1176 non-null   int64 \n 5   Education                 1176 non-null   object\n 6   EducationField            1176 non-null   object\n 7   EnvironmentSatisfaction   1176 non-null   object\n 8   Gender                    1176 non-null   object\n 9   HourlyRate                1176 non-null   int64 \n 10  JobInvolvement            1176 non-null   object\n 11  JobLevel                  1176 non-null   int64 \n 12  JobRole                   1176 non-null   object\n 13  JobSatisfaction           1176 non-null   object\n 14  MaritalStatus             1176 non-null   object\n 15  MonthlyIncome             1176 non-null   int64 \n 16  MonthlyRate               1176 non-null   int64 \n 17  NumCompaniesWorked        1176 non-null   int64 \n 18  OverTime                  1176 non-null   object\n 19  PercentSalaryHike         1176 non-null   int64 \n 20  PerformanceRating         1176 non-null   object\n 21  RelationshipSatisfaction  1176 non-null   object\n 22  StockOptionLevel          1176 non-null   int64 \n 23  TotalWorkingYears         1176 non-null   int64 \n 24  TrainingTimesLastYear     1176 non-null   int64 \n 25  WorkLifeBalance           1176 non-null   object\n 26  YearsAtCompany            1176 non-null   int64 \n 27  YearsInCurrentRole        1176 non-null   int64 \n 28  YearsSinceLastPromotion   1176 non-null   int64 \n 29  YearsWithCurrManager      1176 non-null   int64 \ndtypes: int64(16), object(14)\nmemory usage: 284.8+ KB\n"
     ]
    }
   ],
   "source": [
    "# One Hot Encoding the categorical columns \n",
    "data_tr.info()"
   ]
  },
  {
   "cell_type": "code",
   "execution_count": 21,
   "metadata": {},
   "outputs": [
    {
     "output_type": "execute_result",
     "data": {
      "text/plain": [
       "     BusinessTravel              Department Education    EducationField  \\\n",
       "1097  Travel_Rarely  Research & Development   College  Technical Degree   \n",
       "727      Non-Travel  Research & Development   College     Life Sciences   \n",
       "254   Travel_Rarely                   Sales   College         Marketing   \n",
       "1175  Travel_Rarely  Research & Development  Bachelor           Medical   \n",
       "1341  Travel_Rarely  Research & Development  Bachelor     Life Sciences   \n",
       "\n",
       "     EnvironmentSatisfaction Gender JobInvolvement                 JobRole  \\\n",
       "1097                    High   Male         Medium   Laboratory Technician   \n",
       "727                   Medium   Male           High      Research Scientist   \n",
       "254                Very High   Male           High         Sales Executive   \n",
       "1175               Very High   Male           High  Manufacturing Director   \n",
       "1341                  Medium   Male           High   Laboratory Technician   \n",
       "\n",
       "     JobSatisfaction MaritalStatus OverTime PerformanceRating  \\\n",
       "1097             Low      Divorced       No              High   \n",
       "727        Very High        Single       No              High   \n",
       "254        Very High      Divorced       No              High   \n",
       "1175          Medium       Married       No         Very High   \n",
       "1341            High      Divorced       No              High   \n",
       "\n",
       "     RelationshipSatisfaction WorkLifeBalance  \n",
       "1097                   Medium          Better  \n",
       "727                 Very High          Better  \n",
       "254                 Very High          Better  \n",
       "1175                     High          Better  \n",
       "1341                      Low          Better  "
      ],
      "text/html": "<div>\n<style scoped>\n    .dataframe tbody tr th:only-of-type {\n        vertical-align: middle;\n    }\n\n    .dataframe tbody tr th {\n        vertical-align: top;\n    }\n\n    .dataframe thead th {\n        text-align: right;\n    }\n</style>\n<table border=\"1\" class=\"dataframe\">\n  <thead>\n    <tr style=\"text-align: right;\">\n      <th></th>\n      <th>BusinessTravel</th>\n      <th>Department</th>\n      <th>Education</th>\n      <th>EducationField</th>\n      <th>EnvironmentSatisfaction</th>\n      <th>Gender</th>\n      <th>JobInvolvement</th>\n      <th>JobRole</th>\n      <th>JobSatisfaction</th>\n      <th>MaritalStatus</th>\n      <th>OverTime</th>\n      <th>PerformanceRating</th>\n      <th>RelationshipSatisfaction</th>\n      <th>WorkLifeBalance</th>\n    </tr>\n  </thead>\n  <tbody>\n    <tr>\n      <th>1097</th>\n      <td>Travel_Rarely</td>\n      <td>Research &amp; Development</td>\n      <td>College</td>\n      <td>Technical Degree</td>\n      <td>High</td>\n      <td>Male</td>\n      <td>Medium</td>\n      <td>Laboratory Technician</td>\n      <td>Low</td>\n      <td>Divorced</td>\n      <td>No</td>\n      <td>High</td>\n      <td>Medium</td>\n      <td>Better</td>\n    </tr>\n    <tr>\n      <th>727</th>\n      <td>Non-Travel</td>\n      <td>Research &amp; Development</td>\n      <td>College</td>\n      <td>Life Sciences</td>\n      <td>Medium</td>\n      <td>Male</td>\n      <td>High</td>\n      <td>Research Scientist</td>\n      <td>Very High</td>\n      <td>Single</td>\n      <td>No</td>\n      <td>High</td>\n      <td>Very High</td>\n      <td>Better</td>\n    </tr>\n    <tr>\n      <th>254</th>\n      <td>Travel_Rarely</td>\n      <td>Sales</td>\n      <td>College</td>\n      <td>Marketing</td>\n      <td>Very High</td>\n      <td>Male</td>\n      <td>High</td>\n      <td>Sales Executive</td>\n      <td>Very High</td>\n      <td>Divorced</td>\n      <td>No</td>\n      <td>High</td>\n      <td>Very High</td>\n      <td>Better</td>\n    </tr>\n    <tr>\n      <th>1175</th>\n      <td>Travel_Rarely</td>\n      <td>Research &amp; Development</td>\n      <td>Bachelor</td>\n      <td>Medical</td>\n      <td>Very High</td>\n      <td>Male</td>\n      <td>High</td>\n      <td>Manufacturing Director</td>\n      <td>Medium</td>\n      <td>Married</td>\n      <td>No</td>\n      <td>Very High</td>\n      <td>High</td>\n      <td>Better</td>\n    </tr>\n    <tr>\n      <th>1341</th>\n      <td>Travel_Rarely</td>\n      <td>Research &amp; Development</td>\n      <td>Bachelor</td>\n      <td>Life Sciences</td>\n      <td>Medium</td>\n      <td>Male</td>\n      <td>High</td>\n      <td>Laboratory Technician</td>\n      <td>High</td>\n      <td>Divorced</td>\n      <td>No</td>\n      <td>High</td>\n      <td>Low</td>\n      <td>Better</td>\n    </tr>\n  </tbody>\n</table>\n</div>"
     },
     "metadata": {},
     "execution_count": 21
    }
   ],
   "source": [
    "# Isolate categorial columns \n",
    "data_cat = data_tr[[\"BusinessTravel\", \"Department\", \"Education\", \n",
    "                    \"EducationField\", \"EnvironmentSatisfaction\", \"Gender\",\n",
    "                    \"JobInvolvement\", \"JobRole\", \"JobSatisfaction\", \n",
    "                    \"MaritalStatus\", \"OverTime\", \"PerformanceRating\", \n",
    "                    \"RelationshipSatisfaction\", \"WorkLifeBalance\"]]\n",
    "data_cat.head()"
   ]
  },
  {
   "cell_type": "code",
   "execution_count": 22,
   "metadata": {},
   "outputs": [
    {
     "output_type": "execute_result",
     "data": {
      "text/plain": [
       "<1176x55 sparse matrix of type '<class 'numpy.float64'>'\n",
       "\twith 16464 stored elements in Compressed Sparse Row format>"
      ]
     },
     "metadata": {},
     "execution_count": 22
    }
   ],
   "source": [
    "##onehotencoding the categorical values\n",
    "from sklearn.preprocessing import OneHotEncoder\n",
    "\n",
    "cat_encoder = OneHotEncoder()\n",
    "data_cat_1hot = cat_encoder.fit_transform(data_cat)\n",
    "data_cat_1hot   # returns a sparse matrix"
   ]
  },
  {
   "cell_type": "code",
   "execution_count": 25,
   "metadata": {},
   "outputs": [
    {
     "output_type": "execute_result",
     "data": {
      "text/plain": [
       "array([[0., 0., 1., 0., 1., 0., 0., 0., 1., 0., 0., 0., 0., 0., 0., 0.,\n",
       "        1., 1., 0., 0., 0., 0., 1., 0., 0., 1., 0., 0., 0., 1., 0., 0.,\n",
       "        0., 0., 0., 0., 0., 1., 0., 0., 1., 0., 0., 1., 0., 1., 0., 0.,\n",
       "        0., 1., 0., 0., 0., 1., 0.],\n",
       "       [1., 0., 0., 0., 1., 0., 0., 0., 1., 0., 0., 0., 1., 0., 0., 0.,\n",
       "        0., 0., 0., 1., 0., 0., 1., 1., 0., 0., 0., 0., 0., 0., 0., 0.,\n",
       "        0., 1., 0., 0., 0., 0., 0., 1., 0., 0., 1., 1., 0., 1., 0., 0.,\n",
       "        0., 0., 1., 0., 0., 1., 0.],\n",
       "       [0., 0., 1., 0., 0., 1., 0., 0., 1., 0., 0., 0., 0., 1., 0., 0.,\n",
       "        0., 0., 0., 0., 1., 0., 1., 1., 0., 0., 0., 0., 0., 0., 0., 0.,\n",
       "        0., 0., 1., 0., 0., 0., 0., 1., 1., 0., 0., 1., 0., 1., 0., 0.,\n",
       "        0., 0., 1., 0., 0., 1., 0.],\n",
       "       [0., 0., 1., 0., 1., 0., 1., 0., 0., 0., 0., 0., 0., 0., 1., 0.,\n",
       "        0., 0., 0., 0., 1., 0., 1., 1., 0., 0., 0., 0., 0., 0., 0., 1.,\n",
       "        0., 0., 0., 0., 0., 0., 1., 0., 0., 1., 0., 1., 0., 0., 1., 1.,\n",
       "        0., 0., 0., 0., 0., 1., 0.],\n",
       "       [0., 0., 1., 0., 1., 0., 1., 0., 0., 0., 0., 0., 1., 0., 0., 0.,\n",
       "        0., 0., 0., 1., 0., 0., 1., 1., 0., 0., 0., 0., 0., 1., 0., 0.,\n",
       "        0., 0., 0., 0., 1., 0., 0., 0., 1., 0., 0., 1., 0., 1., 0., 0.,\n",
       "        1., 0., 0., 0., 0., 1., 0.]])"
      ]
     },
     "metadata": {},
     "execution_count": 25
    }
   ],
   "source": [
    "data_cat_1hot.toarray()[:5]"
   ]
  },
  {
   "cell_type": "code",
   "execution_count": 26,
   "metadata": {},
   "outputs": [
    {
     "output_type": "execute_result",
     "data": {
      "text/plain": [
       "[array(['Non-Travel', 'Travel_Frequently', 'Travel_Rarely'], dtype=object),\n",
       " array(['Human Resources', 'Research & Development', 'Sales'], dtype=object),\n",
       " array(['Bachelor', 'Below College', 'College', 'Doctor', 'Master'],\n",
       "       dtype=object),\n",
       " array(['Human Resources', 'Life Sciences', 'Marketing', 'Medical',\n",
       "        'Other', 'Technical Degree'], dtype=object),\n",
       " array(['High', 'Low', 'Medium', 'Very High'], dtype=object),\n",
       " array(['Female', 'Male'], dtype=object),\n",
       " array(['High', 'Low', 'Medium', 'Very High'], dtype=object),\n",
       " array(['Healthcare Representative', 'Human Resources',\n",
       "        'Laboratory Technician', 'Manager', 'Manufacturing Director',\n",
       "        'Research Director', 'Research Scientist', 'Sales Executive',\n",
       "        'Sales Representative'], dtype=object),\n",
       " array(['High', 'Low', 'Medium', 'Very High'], dtype=object),\n",
       " array(['Divorced', 'Married', 'Single'], dtype=object),\n",
       " array(['No', 'Yes'], dtype=object),\n",
       " array(['High', 'Very High'], dtype=object),\n",
       " array(['High', 'Low', 'Medium', 'Very High'], dtype=object),\n",
       " array(['Bad', 'Best', 'Better', 'Good'], dtype=object)]"
      ]
     },
     "metadata": {},
     "execution_count": 26
    }
   ],
   "source": [
    "cat_encoder.categories_"
   ]
  },
  {
   "cell_type": "code",
   "execution_count": 28,
   "metadata": {},
   "outputs": [
    {
     "output_type": "execute_result",
     "data": {
      "text/plain": [
       "      Age  DailyRate  DistanceFromHome  HourlyRate  JobLevel  MonthlyIncome  \\\n",
       "1097   24        350                21          57         1           2296   \n",
       "727    18        287                 5          73         1           1051   \n",
       "254    29       1247                20          45         2           6931   \n",
       "1175   39        492                12          66         2           5295   \n",
       "1341   31        311                20          89         2           4197   \n",
       "\n",
       "      MonthlyRate  NumCompaniesWorked  PercentSalaryHike  StockOptionLevel  \\\n",
       "1097        10036                   0                 14                 3   \n",
       "727         13493                   1                 15                 0   \n",
       "254         10732                   2                 14                 1   \n",
       "1175         7693                   4                 21                 0   \n",
       "1341        18624                   1                 11                 1   \n",
       "\n",
       "      TotalWorkingYears  TrainingTimesLastYear  YearsAtCompany  \\\n",
       "1097                  2                      3               1   \n",
       "727                   0                      2               0   \n",
       "254                  10                      2               3   \n",
       "1175                  7                      3               5   \n",
       "1341                 10                      2              10   \n",
       "\n",
       "      YearsInCurrentRole  YearsSinceLastPromotion  YearsWithCurrManager  \n",
       "1097                   1                        0                     0  \n",
       "727                    0                        0                     0  \n",
       "254                    2                        0                     2  \n",
       "1175                   4                        1                     0  \n",
       "1341                   8                        0                     2  "
      ],
      "text/html": "<div>\n<style scoped>\n    .dataframe tbody tr th:only-of-type {\n        vertical-align: middle;\n    }\n\n    .dataframe tbody tr th {\n        vertical-align: top;\n    }\n\n    .dataframe thead th {\n        text-align: right;\n    }\n</style>\n<table border=\"1\" class=\"dataframe\">\n  <thead>\n    <tr style=\"text-align: right;\">\n      <th></th>\n      <th>Age</th>\n      <th>DailyRate</th>\n      <th>DistanceFromHome</th>\n      <th>HourlyRate</th>\n      <th>JobLevel</th>\n      <th>MonthlyIncome</th>\n      <th>MonthlyRate</th>\n      <th>NumCompaniesWorked</th>\n      <th>PercentSalaryHike</th>\n      <th>StockOptionLevel</th>\n      <th>TotalWorkingYears</th>\n      <th>TrainingTimesLastYear</th>\n      <th>YearsAtCompany</th>\n      <th>YearsInCurrentRole</th>\n      <th>YearsSinceLastPromotion</th>\n      <th>YearsWithCurrManager</th>\n    </tr>\n  </thead>\n  <tbody>\n    <tr>\n      <th>1097</th>\n      <td>24</td>\n      <td>350</td>\n      <td>21</td>\n      <td>57</td>\n      <td>1</td>\n      <td>2296</td>\n      <td>10036</td>\n      <td>0</td>\n      <td>14</td>\n      <td>3</td>\n      <td>2</td>\n      <td>3</td>\n      <td>1</td>\n      <td>1</td>\n      <td>0</td>\n      <td>0</td>\n    </tr>\n    <tr>\n      <th>727</th>\n      <td>18</td>\n      <td>287</td>\n      <td>5</td>\n      <td>73</td>\n      <td>1</td>\n      <td>1051</td>\n      <td>13493</td>\n      <td>1</td>\n      <td>15</td>\n      <td>0</td>\n      <td>0</td>\n      <td>2</td>\n      <td>0</td>\n      <td>0</td>\n      <td>0</td>\n      <td>0</td>\n    </tr>\n    <tr>\n      <th>254</th>\n      <td>29</td>\n      <td>1247</td>\n      <td>20</td>\n      <td>45</td>\n      <td>2</td>\n      <td>6931</td>\n      <td>10732</td>\n      <td>2</td>\n      <td>14</td>\n      <td>1</td>\n      <td>10</td>\n      <td>2</td>\n      <td>3</td>\n      <td>2</td>\n      <td>0</td>\n      <td>2</td>\n    </tr>\n    <tr>\n      <th>1175</th>\n      <td>39</td>\n      <td>492</td>\n      <td>12</td>\n      <td>66</td>\n      <td>2</td>\n      <td>5295</td>\n      <td>7693</td>\n      <td>4</td>\n      <td>21</td>\n      <td>0</td>\n      <td>7</td>\n      <td>3</td>\n      <td>5</td>\n      <td>4</td>\n      <td>1</td>\n      <td>0</td>\n    </tr>\n    <tr>\n      <th>1341</th>\n      <td>31</td>\n      <td>311</td>\n      <td>20</td>\n      <td>89</td>\n      <td>2</td>\n      <td>4197</td>\n      <td>18624</td>\n      <td>1</td>\n      <td>11</td>\n      <td>1</td>\n      <td>10</td>\n      <td>2</td>\n      <td>10</td>\n      <td>8</td>\n      <td>0</td>\n      <td>2</td>\n    </tr>\n  </tbody>\n</table>\n</div>"
     },
     "metadata": {},
     "execution_count": 28
    }
   ],
   "source": [
    "# Segregate numerical columns \n",
    "num_data = data[[\"Age\", \"DailyRate\", \"DistanceFromHome\", \n",
    "                 \"HourlyRate\", \"JobLevel\", \"MonthlyIncome\", \n",
    "                 \"MonthlyRate\", \"NumCompaniesWorked\", \"PercentSalaryHike\", \n",
    "                 \"StockOptionLevel\", \"TotalWorkingYears\", \"TrainingTimesLastYear\", \n",
    "                 \"YearsAtCompany\", \"YearsInCurrentRole\", \"YearsSinceLastPromotion\",\n",
    "                 \"YearsWithCurrManager\"]]\n",
    "\n",
    "num_data.head()"
   ]
  },
  {
   "cell_type": "code",
   "execution_count": 30,
   "metadata": {},
   "outputs": [
    {
     "output_type": "execute_result",
     "data": {
      "text/plain": [
       "array([-1.38855944, -1.10813858,  1.44039645, -0.47283217, -0.9322736 ,\n",
       "       -0.86827746, -0.60189535, -1.05916816, -0.33924934,  2.54747106,\n",
       "       -1.1673683 ,  0.15731946, -0.97426331, -0.88820751, -0.67610953,\n",
       "       -1.14244794])"
      ]
     },
     "metadata": {},
     "execution_count": 30
    }
   ],
   "source": [
    "# Creating a Pipeline of Tasks \n",
    "\n",
    "##Using Pipeline class\n",
    "from sklearn.pipeline import Pipeline\n",
    "##Using StandardScaler to scale all the numerical attributes\n",
    "from sklearn.preprocessing import StandardScaler\n",
    "\n",
    "numerics = ['int64']\n",
    "\n",
    "num_data = data_tr.select_dtypes(include=numerics)\n",
    "\n",
    "##pipeline for numerical attributes\n",
    "##imputing -> adding attributes -> scale them\n",
    "num_pipeline = Pipeline([\n",
    "        ('std_scaler', StandardScaler()),\n",
    "    ])\n",
    "\n",
    "num_data_tr = num_pipeline.fit_transform(num_data)\n",
    "num_data_tr[0]"
   ]
  },
  {
   "cell_type": "code",
   "execution_count": 33,
   "metadata": {},
   "outputs": [
    {
     "output_type": "execute_result",
     "data": {
      "text/plain": [
       "array([-1.38855944, -1.10813858,  1.44039645, -0.47283217, -0.9322736 ,\n",
       "       -0.86827746, -0.60189535, -1.05916816, -0.33924934,  2.54747106,\n",
       "       -1.1673683 ,  0.15731946, -0.97426331, -0.88820751, -0.67610953,\n",
       "       -1.14244794,  0.        ,  0.        ,  1.        ,  0.        ,\n",
       "        1.        ,  0.        ,  0.        ,  0.        ,  1.        ,\n",
       "        0.        ,  0.        ,  0.        ,  0.        ,  0.        ,\n",
       "        0.        ,  0.        ,  1.        ,  1.        ,  0.        ,\n",
       "        0.        ,  0.        ,  0.        ,  1.        ,  0.        ,\n",
       "        0.        ,  1.        ,  0.        ,  0.        ,  0.        ,\n",
       "        1.        ,  0.        ,  0.        ,  0.        ,  0.        ,\n",
       "        0.        ,  0.        ,  0.        ,  1.        ,  0.        ,\n",
       "        0.        ,  1.        ,  0.        ,  0.        ,  1.        ,\n",
       "        0.        ,  1.        ,  0.        ,  0.        ,  0.        ,\n",
       "        1.        ,  0.        ,  0.        ,  0.        ,  1.        ,\n",
       "        0.        ])"
      ]
     },
     "metadata": {},
     "execution_count": 33
    }
   ],
   "source": [
    "# Transform numerical and categorical attributes \n",
    "##Transform different columns or subsets using ColumnTransformer\n",
    "from sklearn.compose import ColumnTransformer\n",
    "\n",
    "num_attrs = list(num_data)\n",
    "cat_attrs = [\"BusinessTravel\", \"Department\", \"Education\", \n",
    "                    \"EducationField\", \"EnvironmentSatisfaction\", \"Gender\",\n",
    "                    \"JobInvolvement\", \"JobRole\", \"JobSatisfaction\", \n",
    "                    \"MaritalStatus\", \"OverTime\", \"PerformanceRating\", \n",
    "                    \"RelationshipSatisfaction\", \"WorkLifeBalance\"]\n",
    "##complete pipeline to transform \n",
    "##both numerical and cat. attributes\n",
    "full_pipeline = ColumnTransformer([\n",
    "        (\"num\", num_pipeline, num_attrs),\n",
    "        (\"cat\", OneHotEncoder(), cat_attrs),\n",
    "    ])\n",
    "\n",
    "prepared_data = full_pipeline.fit_transform(data)\n",
    "prepared_data[0]"
   ]
  },
  {
   "cell_type": "code",
   "execution_count": null,
   "metadata": {},
   "outputs": [],
   "source": []
  },
  {
   "cell_type": "code",
   "execution_count": null,
   "metadata": {},
   "outputs": [],
   "source": []
  },
  {
   "cell_type": "code",
   "execution_count": null,
   "metadata": {},
   "outputs": [],
   "source": []
  }
 ]
}