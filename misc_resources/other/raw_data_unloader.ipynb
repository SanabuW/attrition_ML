{
 "metadata": {
  "language_info": {
   "codemirror_mode": {
    "name": "ipython",
    "version": 3
   },
   "file_extension": ".py",
   "mimetype": "text/x-python",
   "name": "python",
   "nbconvert_exporter": "python",
   "pygments_lexer": "ipython3",
   "version": "3.8.8"
  },
  "orig_nbformat": 2,
  "kernelspec": {
   "name": "python388jvsc74a57bd0eab0c1e28d989aa56bb936bcc03a01a450cc435b6f31a79638d77ef58842fe35",
   "display_name": "Python 3.8.8 64-bit ('attrition_env': conda)"
  }
 },
 "nbformat": 4,
 "nbformat_minor": 2,
 "cells": [
  {
   "cell_type": "code",
   "execution_count": 2,
   "metadata": {},
   "outputs": [],
   "source": [
    "import pandas as pd\n",
    "from sqlalchemy import create_engine\n",
    "import psycopg2\n",
    "import sys\n",
    "sys.path.insert(1, '../..')\n",
    "from config import username, password\n"
   ]
  },
  {
   "cell_type": "code",
   "execution_count": 7,
   "metadata": {},
   "outputs": [],
   "source": [
    "engine = create_engine(\"postgresql://\" + username + \":\" + password + \"@ec2-3-233-7-12.compute-1.amazonaws.com:5432/dfhhj9j187pecn\")"
   ]
  },
  {
   "cell_type": "code",
   "execution_count": 9,
   "metadata": {},
   "outputs": [
    {
     "output_type": "execute_result",
     "data": {
      "text/plain": [
       "       Age Attrition     BusinessTravel  DailyRate              Department  \\\n",
       "index                                                                        \n",
       "0       41       Yes      Travel_Rarely       1102                   Sales   \n",
       "1       49        No  Travel_Frequently        279  Research & Development   \n",
       "2       37       Yes      Travel_Rarely       1373  Research & Development   \n",
       "3       33        No  Travel_Frequently       1392  Research & Development   \n",
       "4       27        No      Travel_Rarely        591  Research & Development   \n",
       "...    ...       ...                ...        ...                     ...   \n",
       "1465    36        No  Travel_Frequently        884  Research & Development   \n",
       "1466    39        No      Travel_Rarely        613  Research & Development   \n",
       "1467    27        No      Travel_Rarely        155  Research & Development   \n",
       "1468    49        No  Travel_Frequently       1023                   Sales   \n",
       "1469    34        No      Travel_Rarely        628  Research & Development   \n",
       "\n",
       "       DistanceFromHome  Education EducationField  EmployeeCount  \\\n",
       "index                                                              \n",
       "0                     1          2  Life Sciences              1   \n",
       "1                     8          1  Life Sciences              1   \n",
       "2                     2          2          Other              1   \n",
       "3                     3          4  Life Sciences              1   \n",
       "4                     2          1        Medical              1   \n",
       "...                 ...        ...            ...            ...   \n",
       "1465                 23          2        Medical              1   \n",
       "1466                  6          1        Medical              1   \n",
       "1467                  4          3  Life Sciences              1   \n",
       "1468                  2          3        Medical              1   \n",
       "1469                  8          3        Medical              1   \n",
       "\n",
       "       EmployeeNumber  ...  RelationshipSatisfaction StandardHours  \\\n",
       "index                  ...                                           \n",
       "0                   1  ...                         1            80   \n",
       "1                   2  ...                         4            80   \n",
       "2                   4  ...                         2            80   \n",
       "3                   5  ...                         3            80   \n",
       "4                   7  ...                         4            80   \n",
       "...               ...  ...                       ...           ...   \n",
       "1465             2061  ...                         3            80   \n",
       "1466             2062  ...                         1            80   \n",
       "1467             2064  ...                         2            80   \n",
       "1468             2065  ...                         4            80   \n",
       "1469             2068  ...                         1            80   \n",
       "\n",
       "       StockOptionLevel  TotalWorkingYears  TrainingTimesLastYear  \\\n",
       "index                                                               \n",
       "0                     0                  8                      0   \n",
       "1                     1                 10                      3   \n",
       "2                     0                  7                      3   \n",
       "3                     0                  8                      3   \n",
       "4                     1                  6                      3   \n",
       "...                 ...                ...                    ...   \n",
       "1465                  1                 17                      3   \n",
       "1466                  1                  9                      5   \n",
       "1467                  1                  6                      0   \n",
       "1468                  0                 17                      3   \n",
       "1469                  0                  6                      3   \n",
       "\n",
       "      WorkLifeBalance  YearsAtCompany YearsInCurrentRole  \\\n",
       "index                                                      \n",
       "0                   1               6                  4   \n",
       "1                   3              10                  7   \n",
       "2                   3               0                  0   \n",
       "3                   3               8                  7   \n",
       "4                   3               2                  2   \n",
       "...               ...             ...                ...   \n",
       "1465                3               5                  2   \n",
       "1466                3               7                  7   \n",
       "1467                3               6                  2   \n",
       "1468                2               9                  6   \n",
       "1469                4               4                  3   \n",
       "\n",
       "       YearsSinceLastPromotion  YearsWithCurrManager  \n",
       "index                                                 \n",
       "0                            0                     5  \n",
       "1                            1                     7  \n",
       "2                            0                     0  \n",
       "3                            3                     0  \n",
       "4                            2                     2  \n",
       "...                        ...                   ...  \n",
       "1465                         0                     3  \n",
       "1466                         1                     7  \n",
       "1467                         0                     3  \n",
       "1468                         0                     8  \n",
       "1469                         1                     2  \n",
       "\n",
       "[1470 rows x 35 columns]"
      ],
      "text/html": "<div>\n<style scoped>\n    .dataframe tbody tr th:only-of-type {\n        vertical-align: middle;\n    }\n\n    .dataframe tbody tr th {\n        vertical-align: top;\n    }\n\n    .dataframe thead th {\n        text-align: right;\n    }\n</style>\n<table border=\"1\" class=\"dataframe\">\n  <thead>\n    <tr style=\"text-align: right;\">\n      <th></th>\n      <th>Age</th>\n      <th>Attrition</th>\n      <th>BusinessTravel</th>\n      <th>DailyRate</th>\n      <th>Department</th>\n      <th>DistanceFromHome</th>\n      <th>Education</th>\n      <th>EducationField</th>\n      <th>EmployeeCount</th>\n      <th>EmployeeNumber</th>\n      <th>...</th>\n      <th>RelationshipSatisfaction</th>\n      <th>StandardHours</th>\n      <th>StockOptionLevel</th>\n      <th>TotalWorkingYears</th>\n      <th>TrainingTimesLastYear</th>\n      <th>WorkLifeBalance</th>\n      <th>YearsAtCompany</th>\n      <th>YearsInCurrentRole</th>\n      <th>YearsSinceLastPromotion</th>\n      <th>YearsWithCurrManager</th>\n    </tr>\n    <tr>\n      <th>index</th>\n      <th></th>\n      <th></th>\n      <th></th>\n      <th></th>\n      <th></th>\n      <th></th>\n      <th></th>\n      <th></th>\n      <th></th>\n      <th></th>\n      <th></th>\n      <th></th>\n      <th></th>\n      <th></th>\n      <th></th>\n      <th></th>\n      <th></th>\n      <th></th>\n      <th></th>\n      <th></th>\n      <th></th>\n    </tr>\n  </thead>\n  <tbody>\n    <tr>\n      <th>0</th>\n      <td>41</td>\n      <td>Yes</td>\n      <td>Travel_Rarely</td>\n      <td>1102</td>\n      <td>Sales</td>\n      <td>1</td>\n      <td>2</td>\n      <td>Life Sciences</td>\n      <td>1</td>\n      <td>1</td>\n      <td>...</td>\n      <td>1</td>\n      <td>80</td>\n      <td>0</td>\n      <td>8</td>\n      <td>0</td>\n      <td>1</td>\n      <td>6</td>\n      <td>4</td>\n      <td>0</td>\n      <td>5</td>\n    </tr>\n    <tr>\n      <th>1</th>\n      <td>49</td>\n      <td>No</td>\n      <td>Travel_Frequently</td>\n      <td>279</td>\n      <td>Research &amp; Development</td>\n      <td>8</td>\n      <td>1</td>\n      <td>Life Sciences</td>\n      <td>1</td>\n      <td>2</td>\n      <td>...</td>\n      <td>4</td>\n      <td>80</td>\n      <td>1</td>\n      <td>10</td>\n      <td>3</td>\n      <td>3</td>\n      <td>10</td>\n      <td>7</td>\n      <td>1</td>\n      <td>7</td>\n    </tr>\n    <tr>\n      <th>2</th>\n      <td>37</td>\n      <td>Yes</td>\n      <td>Travel_Rarely</td>\n      <td>1373</td>\n      <td>Research &amp; Development</td>\n      <td>2</td>\n      <td>2</td>\n      <td>Other</td>\n      <td>1</td>\n      <td>4</td>\n      <td>...</td>\n      <td>2</td>\n      <td>80</td>\n      <td>0</td>\n      <td>7</td>\n      <td>3</td>\n      <td>3</td>\n      <td>0</td>\n      <td>0</td>\n      <td>0</td>\n      <td>0</td>\n    </tr>\n    <tr>\n      <th>3</th>\n      <td>33</td>\n      <td>No</td>\n      <td>Travel_Frequently</td>\n      <td>1392</td>\n      <td>Research &amp; Development</td>\n      <td>3</td>\n      <td>4</td>\n      <td>Life Sciences</td>\n      <td>1</td>\n      <td>5</td>\n      <td>...</td>\n      <td>3</td>\n      <td>80</td>\n      <td>0</td>\n      <td>8</td>\n      <td>3</td>\n      <td>3</td>\n      <td>8</td>\n      <td>7</td>\n      <td>3</td>\n      <td>0</td>\n    </tr>\n    <tr>\n      <th>4</th>\n      <td>27</td>\n      <td>No</td>\n      <td>Travel_Rarely</td>\n      <td>591</td>\n      <td>Research &amp; Development</td>\n      <td>2</td>\n      <td>1</td>\n      <td>Medical</td>\n      <td>1</td>\n      <td>7</td>\n      <td>...</td>\n      <td>4</td>\n      <td>80</td>\n      <td>1</td>\n      <td>6</td>\n      <td>3</td>\n      <td>3</td>\n      <td>2</td>\n      <td>2</td>\n      <td>2</td>\n      <td>2</td>\n    </tr>\n    <tr>\n      <th>...</th>\n      <td>...</td>\n      <td>...</td>\n      <td>...</td>\n      <td>...</td>\n      <td>...</td>\n      <td>...</td>\n      <td>...</td>\n      <td>...</td>\n      <td>...</td>\n      <td>...</td>\n      <td>...</td>\n      <td>...</td>\n      <td>...</td>\n      <td>...</td>\n      <td>...</td>\n      <td>...</td>\n      <td>...</td>\n      <td>...</td>\n      <td>...</td>\n      <td>...</td>\n      <td>...</td>\n    </tr>\n    <tr>\n      <th>1465</th>\n      <td>36</td>\n      <td>No</td>\n      <td>Travel_Frequently</td>\n      <td>884</td>\n      <td>Research &amp; Development</td>\n      <td>23</td>\n      <td>2</td>\n      <td>Medical</td>\n      <td>1</td>\n      <td>2061</td>\n      <td>...</td>\n      <td>3</td>\n      <td>80</td>\n      <td>1</td>\n      <td>17</td>\n      <td>3</td>\n      <td>3</td>\n      <td>5</td>\n      <td>2</td>\n      <td>0</td>\n      <td>3</td>\n    </tr>\n    <tr>\n      <th>1466</th>\n      <td>39</td>\n      <td>No</td>\n      <td>Travel_Rarely</td>\n      <td>613</td>\n      <td>Research &amp; Development</td>\n      <td>6</td>\n      <td>1</td>\n      <td>Medical</td>\n      <td>1</td>\n      <td>2062</td>\n      <td>...</td>\n      <td>1</td>\n      <td>80</td>\n      <td>1</td>\n      <td>9</td>\n      <td>5</td>\n      <td>3</td>\n      <td>7</td>\n      <td>7</td>\n      <td>1</td>\n      <td>7</td>\n    </tr>\n    <tr>\n      <th>1467</th>\n      <td>27</td>\n      <td>No</td>\n      <td>Travel_Rarely</td>\n      <td>155</td>\n      <td>Research &amp; Development</td>\n      <td>4</td>\n      <td>3</td>\n      <td>Life Sciences</td>\n      <td>1</td>\n      <td>2064</td>\n      <td>...</td>\n      <td>2</td>\n      <td>80</td>\n      <td>1</td>\n      <td>6</td>\n      <td>0</td>\n      <td>3</td>\n      <td>6</td>\n      <td>2</td>\n      <td>0</td>\n      <td>3</td>\n    </tr>\n    <tr>\n      <th>1468</th>\n      <td>49</td>\n      <td>No</td>\n      <td>Travel_Frequently</td>\n      <td>1023</td>\n      <td>Sales</td>\n      <td>2</td>\n      <td>3</td>\n      <td>Medical</td>\n      <td>1</td>\n      <td>2065</td>\n      <td>...</td>\n      <td>4</td>\n      <td>80</td>\n      <td>0</td>\n      <td>17</td>\n      <td>3</td>\n      <td>2</td>\n      <td>9</td>\n      <td>6</td>\n      <td>0</td>\n      <td>8</td>\n    </tr>\n    <tr>\n      <th>1469</th>\n      <td>34</td>\n      <td>No</td>\n      <td>Travel_Rarely</td>\n      <td>628</td>\n      <td>Research &amp; Development</td>\n      <td>8</td>\n      <td>3</td>\n      <td>Medical</td>\n      <td>1</td>\n      <td>2068</td>\n      <td>...</td>\n      <td>1</td>\n      <td>80</td>\n      <td>0</td>\n      <td>6</td>\n      <td>3</td>\n      <td>4</td>\n      <td>4</td>\n      <td>3</td>\n      <td>1</td>\n      <td>2</td>\n    </tr>\n  </tbody>\n</table>\n<p>1470 rows × 35 columns</p>\n</div>"
     },
     "metadata": {},
     "execution_count": 9
    }
   ],
   "source": [
    "raw_data_df = pd.read_sql_table(\"raw_data\", engine,index_col = \"index\")"
   ]
  }
 ]
}